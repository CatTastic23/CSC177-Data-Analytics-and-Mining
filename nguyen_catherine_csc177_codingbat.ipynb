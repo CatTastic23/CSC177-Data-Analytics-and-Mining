{
  "nbformat": 4,
  "nbformat_minor": 0,
  "metadata": {
    "colab": {
      "name": "nguyen_catherine_csc177_codingbat.ipynb",
      "provenance": [],
      "toc_visible": true,
      "authorship_tag": "ABX9TyOrbOLto9espRiRKGDwQk5Q",
      "include_colab_link": true
    },
    "kernelspec": {
      "name": "python3",
      "display_name": "Python 3"
    }
  },
  "cells": [
    {
      "cell_type": "markdown",
      "metadata": {
        "id": "view-in-github",
        "colab_type": "text"
      },
      "source": [
        "<a href=\"https://colab.research.google.com/github/CatTastic23/CSC177-Data-Analytics-and-Mining/blob/main/nguyen_catherine_csc177_codingbat.ipynb\" target=\"_parent\"><img src=\"https://colab.research.google.com/assets/colab-badge.svg\" alt=\"Open In Colab\"/></a>"
      ]
    },
    {
      "cell_type": "markdown",
      "metadata": {
        "id": "bR01KRa_OoWG"
      },
      "source": [
        "**CodingBat: Python practice. Goal: Answer 3 questions.**\n",
        "\n",
        "Name: Catherine Nguyen\n",
        "\n",
        "Course: CSC177\n",
        "\n",
        "Date: Sept. 10, 2020\n",
        "\n",
        "Link: [CodingBat](https://codingbat.com/python)"
      ]
    },
    {
      "cell_type": "markdown",
      "metadata": {
        "id": "Hq5Ovp77diNL"
      },
      "source": [
        "#Warmup-1"
      ]
    },
    {
      "cell_type": "markdown",
      "metadata": {
        "id": "why6FTJ8RSmL"
      },
      "source": [
        "**sleep_in**\n",
        "\n",
        "The parameter weekday is True if it is a weekday, and the parameter vacation is True if we are on vaction. We sleep in if it is not a weekday or we're on vacation. Return True if we sleep in.    \n",
        "\n",
        "sleep_in(False, False) -> True\n",
        "\n",
        "sleep_in(True, False) -> False\n",
        "\n",
        "sleep_in(False, True) -> True\n",
        "\n",
        "**Thoughts:** You only sleep if its not a weekday and vacation is true. So I translated that into an if statement."
      ]
    },
    {
      "cell_type": "code",
      "metadata": {
        "id": "uy244eKNb_l-"
      },
      "source": [
        "def sleep_in(weekday, vacation):\n",
        "  if(not weekday or vacation):\n",
        "    return True"
      ],
      "execution_count": null,
      "outputs": []
    },
    {
      "cell_type": "markdown",
      "metadata": {
        "id": "_B1k1y-7dqjM"
      },
      "source": [
        "**monkey_trouble**\n",
        "\n",
        "we have two monkeys, a and b, and the parameters a_smile and b_smile indicate if each is smiling. We are in trouble if they are both smiling or if neither of them is smiling. Return True if we are in trouble. \n",
        "\n",
        "monkey_trouble(True, True) -> True\n",
        "\n",
        "monkey_trouble(False, False) -> True\n",
        "\n",
        "monkey_trouble(True, False) -> False\n",
        "\n",
        "**Thoughts:** Same thing translated it into a or statement and it will only return true if the monkeys are both smiling or not smiling."
      ]
    },
    {
      "cell_type": "code",
      "metadata": {
        "id": "WnNT8A6weosf"
      },
      "source": [
        "def monkey_trouble(a_smile, b_smile):\n",
        "  return (a_smile and b_smile) or (not a_smile and not b_smile)"
      ],
      "execution_count": null,
      "outputs": []
    },
    {
      "cell_type": "markdown",
      "metadata": {
        "id": "JubUpm5JhFvy"
      },
      "source": [
        "**sum_double**\n",
        "\n",
        "Given two int values, return their sum. Unless the two values are the same, then return double their sum. \n",
        "\n",
        "sum_double(1,2) -> 3\n",
        "\n",
        "sum_double(3,2) -> 5\n",
        "\n",
        "sum_double(2,2) -> 8\n",
        "\n",
        "**Thoughts:** I just added the two values and made that x, but if both a and b are the same I double x."
      ]
    },
    {
      "cell_type": "code",
      "metadata": {
        "id": "lsS5-NIRhuOp"
      },
      "source": [
        "def sum_double(a,b):\n",
        "  x = a + b\n",
        "  if (a == b):\n",
        "    return 2 * x\n",
        "  return x"
      ],
      "execution_count": null,
      "outputs": []
    },
    {
      "cell_type": "markdown",
      "metadata": {
        "id": "WuowtkwtkJ5R"
      },
      "source": [
        "**diff21**\n",
        "\n",
        "Given an int n, return the absolute difference between n and 21, except return double the absolute difference if n is over 21. \n",
        "\n",
        "diff21(19) -> 2\n",
        "\n",
        "diff21(10) -> 11\n",
        "\n",
        "diff21(21) -> 0\n",
        "\n",
        "**Thoughts:** I used abs to get the absolute value of the difference and if n were larger than 21 I would then multiple by two.  "
      ]
    },
    {
      "cell_type": "code",
      "metadata": {
        "id": "vzeN4LOIkmOp"
      },
      "source": [
        "def diff21(n):\n",
        "  x = abs(n - 21)\n",
        "  if(n > 21):\n",
        "    return 2 * x  \n",
        "  return x"
      ],
      "execution_count": null,
      "outputs": []
    },
    {
      "cell_type": "markdown",
      "metadata": {
        "id": "JAkqQtvzmFOM"
      },
      "source": [
        "**parrot_trouble**\n",
        "\n",
        "We have a loud talking parrot. The \"hour\" parameter is the current hour time in the range 0...23. We are in trouble if the parrot is talking and the hour is before 7 or before or after 20. Return True if we are in trouble. \n",
        "\n",
        "parrot_trouble(True, 6) -> True\n",
        "\n",
        "parrot_trouble(True, 7) -> False\n",
        "\n",
        "parrot_trouble(False, 6) -> False\n",
        "\n",
        "**Thoughts:** I returned True if the parrot is  talking aka True and the hours are greater than 20 or less than 7 hours."
      ]
    },
    {
      "cell_type": "code",
      "metadata": {
        "id": "aAdrtsa0msdw"
      },
      "source": [
        "def parrot_trouble(talking, hour):\n",
        "  return (talking and (hour > 20 or hour < 7))"
      ],
      "execution_count": null,
      "outputs": []
    },
    {
      "cell_type": "markdown",
      "metadata": {
        "id": "3f5Sr6Kxn0fa"
      },
      "source": [
        "**makes10**\n",
        "\n",
        "Given 2 ints, a and b, return True if one of them is 10 or if their sum is 10.\n",
        "\n",
        "makes10(9,10) -> True\n",
        "\n",
        "makes10(9,9) -> False\n",
        "\n",
        "makes10(1,9) -> True\n",
        "\n",
        "**Thoughts:** If a or b equaled ten return True also if their sum was 10. "
      ]
    },
    {
      "cell_type": "code",
      "metadata": {
        "id": "VwoRQEYMog33"
      },
      "source": [
        "def makes10(a,b):\n",
        "  x = a + b \n",
        "  return x == 10 or a == 10 or b == 10"
      ],
      "execution_count": null,
      "outputs": []
    },
    {
      "cell_type": "markdown",
      "metadata": {
        "id": "XsMzkDMmpGap"
      },
      "source": [
        "**near_hundred**\n",
        "\n",
        "Given an int n, return True if it is within 10 of 100 or 200. \n",
        "\n",
        "near_hundred(93) -> True\n",
        "\n",
        "near_hundred(90) -> True\n",
        "\n",
        "near_hundred(89) -> False\n",
        "\n",
        "**Thoughts:** I made an if statement where if n was less than 150 I would get th absolute value of n - 100 and if that were within/equal 10 it would be true. Then if abs of n - 200 were less than or equal to 10. "
      ]
    },
    {
      "cell_type": "code",
      "metadata": {
        "id": "TtQSxbB-pkvh"
      },
      "source": [
        "def near_hundred(n):\n",
        "  if (n < 150):\n",
        "    return abs(n - 100) <=10 \n",
        "  return abs(n - 200) <= 10"
      ],
      "execution_count": null,
      "outputs": []
    },
    {
      "cell_type": "markdown",
      "metadata": {
        "id": "zhyAwrwVrL3z"
      },
      "source": [
        "**pos_neg**\n",
        "\n",
        "Given 2 int values, return True if one is negative and one is positive. Except if the parameter \"negative\" is True. The return True only if both are negative. \n",
        "\n",
        "pos_neg(1, -1 , False) -> True\n",
        "\n",
        "pos_neg(-1, 1, False) -> True\n",
        "\n",
        "pos_neg(-4, -5, True) -> True\n",
        "\n",
        "**Thoughts:** Returned True if a were neg and b were pos and negative were false or when a were pos and b were neg and negative were false or if a and b were both neg and negative were True."
      ]
    },
    {
      "cell_type": "code",
      "metadata": {
        "id": "_gOHbGkZr5RO"
      },
      "source": [
        "def pos_neg(a, b, negative):\n",
        "  return (a < 0 and b > 0 and not negative) or (a > 0 and b < 0 and not negative) or (a < 0 and b < 0 and negative)"
      ],
      "execution_count": null,
      "outputs": []
    },
    {
      "cell_type": "markdown",
      "metadata": {
        "id": "muQygD_IwRNj"
      },
      "source": [
        "**not_string**\n",
        "\n",
        "Given a string, return a new string where \"not\" has been added to the front. However, if the string already begins with \"not\", return the string unchanged. \n",
        "\n",
        "not_string('candy') -> 'not candy'\n",
        "\n",
        "not_string('x') -> 'not x'\n",
        "\n",
        "not_string('bad') -> 'not bad'\n",
        "\n",
        "**Thoughts:** I checks if th first 3 indexes of the string contained 'not'. If yes  return string if not add 'not' to the front of string."
      ]
    },
    {
      "cell_type": "code",
      "metadata": {
        "id": "h5dpPYh-xeTI"
      },
      "source": [
        "def not_string(str):\n",
        "  if(str[:3] == 'not'):\n",
        "    return str\n",
        "  return 'not ' + str"
      ],
      "execution_count": null,
      "outputs": []
    },
    {
      "cell_type": "markdown",
      "metadata": {
        "id": "BAi_FG1p3lED"
      },
      "source": [
        "**missing_char**\n",
        "\n",
        "Given a non-empty string and an int n, return a new string where the char at index n has been removed. The value of n will be a valid index of a char in the original string.\n",
        "\n",
        "missing_char('kitten', 1) -> 'ktten'\n",
        "\n",
        "missing_char('kitten', 0) -> 'itten'\n",
        "\n",
        "missing_char('kitten', 4) -> 'kittn'\n",
        "\n",
        "**Thoughts:** returns the str up to the n provided then skips over that char in that index and returns the rest."
      ]
    },
    {
      "cell_type": "code",
      "metadata": {
        "id": "YgpnUrI_vofI"
      },
      "source": [
        "def missing_char(str, n):\n",
        "  return str[:n] + str[n + 1:]"
      ],
      "execution_count": null,
      "outputs": []
    },
    {
      "cell_type": "markdown",
      "metadata": {
        "id": "9yOENa4CBnqQ"
      },
      "source": [
        "**front_back**\n",
        "\n",
        "Given a string, return a new string where the first and last chars are exchanged.\n",
        "\n",
        "front_back('code') -> 'eodc'\n",
        "\n",
        "front_back('a') -> 'a'\n",
        "\n",
        "front_back('ab') -> 'ba'\n",
        "\n",
        "**Thoughts:** First I took the length of the string. Next if the string were equal to 1 I would just return the string as it is. Otherwise I returned the string at index length minus 1 to get the last char. The chars from index 1 to the length minus one. Then the first char of the index. "
      ]
    },
    {
      "cell_type": "code",
      "metadata": {
        "id": "j9jvMiR7FjV7"
      },
      "source": [
        "def front_back(str):\n",
        "  x = len(str)\n",
        "  if (x == 1):\n",
        "    return str\n",
        "  return str[x - 1:] + str[1:x-1] + str[:1]"
      ],
      "execution_count": null,
      "outputs": []
    },
    {
      "cell_type": "markdown",
      "metadata": {
        "id": "m852NBsIGPB8"
      },
      "source": [
        "**front3**\n",
        "\n",
        "Given a string, we'll say that the front is the first 3 chars of the string. If the string length is less than 3, the front is whatever is there. Return the new string which is 3 copies of the front.\n",
        "\n",
        "front3('Java') -> 'JavJavJav'\n",
        "\n",
        "front3('Chocolate') -> 'ChoChoCho'\n",
        "\n",
        "front3('abc') -> 'abcabcabc'\n",
        "\n",
        "**Thoughts:** I took the first three chars and made it string s. The I returned s three times. "
      ]
    },
    {
      "cell_type": "code",
      "metadata": {
        "id": "UfwFOVLELX5I"
      },
      "source": [
        "def front3(str):\n",
        "  s = str[:3]\n",
        "  return s + s + s"
      ],
      "execution_count": null,
      "outputs": []
    },
    {
      "cell_type": "markdown",
      "metadata": {
        "id": "zUxbipSCMPAL"
      },
      "source": [
        "# Warmup- 2\n",
        "\n"
      ]
    },
    {
      "cell_type": "markdown",
      "metadata": {
        "id": "ZfbTmksxMqWI"
      },
      "source": [
        ""
      ]
    }
  ]
}