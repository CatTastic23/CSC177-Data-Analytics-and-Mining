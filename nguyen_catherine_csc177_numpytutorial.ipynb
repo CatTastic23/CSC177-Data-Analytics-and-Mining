{
  "nbformat": 4,
  "nbformat_minor": 0,
  "metadata": {
    "colab": {
      "name": "nguyen_catherine_csc177_numpytutorial.ipynb",
      "provenance": [],
      "authorship_tag": "ABX9TyN2imeWbYZmVfSQQtFdGkgi",
      "include_colab_link": true
    },
    "kernelspec": {
      "name": "python3",
      "display_name": "Python 3"
    }
  },
  "cells": [
    {
      "cell_type": "markdown",
      "metadata": {
        "id": "view-in-github",
        "colab_type": "text"
      },
      "source": [
        "<a href=\"https://colab.research.google.com/github/CatTastic23/CSC177-Data-Analytics-and-Mining/blob/main/nguyen_catherine_csc177_numpytutorial.ipynb\" target=\"_parent\"><img src=\"https://colab.research.google.com/assets/colab-badge.svg\" alt=\"Open In Colab\"/></a>"
      ]
    },
    {
      "cell_type": "markdown",
      "metadata": {
        "id": "zPEk49PH8dtp"
      },
      "source": [
        "#numpy practice\n",
        "\n",
        "Name: Catherine Nguyen\n",
        "\n",
        "Date: 9/15/2020\n",
        "\n",
        "Course: CSC 177\n",
        "\n"
      ]
    },
    {
      "cell_type": "markdown",
      "metadata": {
        "id": "4sQbAHxm88bQ"
      },
      "source": [
        "#Numpy: Creating numpy arrays(vectors or matrices)\n"
      ]
    },
    {
      "cell_type": "markdown",
      "metadata": {
        "id": "fvHQULwFl4B0"
      },
      "source": [
        "**From lists**\n",
        "\n",
        "To use ```numpy``` first import the module.\n",
        "\n",
        "```\n",
        "import numpy as np #np is the most common import for numpy\n",
        "```\n",
        "We get errors is you assign wrong data types in numpy arrays, but you can **define the type of array data** when we create it using ```dtype``` keywork argument.\n",
        "\n",
        "```.array``` to create a list, ```typy(array)``` returns the array type, ```.shape``` returns the shape of the array, ```.size``` returns the array's size, ```.dtype``` returns arrays data type, ```dtype=``` used to define array type.   \n",
        "\n",
        "Common **types used with data types** ~ ```dtype``` are: ```int```,```float```,```complex```, ```bool```, ```object```, etc.\n",
        "\n",
        "We can **define bit size of data types** as: ```int64```, ```int16```, ```float128```, ```complex128```."
      ]
    },
    {
      "cell_type": "code",
      "metadata": {
        "id": "cEOxgda1_fhu",
        "colab": {
          "base_uri": "https://localhost:8080/",
          "height": 354
        },
        "outputId": "b8e352fb-11dc-44a6-d995-e394b5319460"
      },
      "source": [
        "import numpy as np # np is the most comon import name for numpy\n",
        "\n",
        "#1 a vector: the argument to the array function is a Python list \n",
        "v = np.array([1, 2, 3, 4]) \n",
        "print(\"1. vector v array consists: \" + str(v))\n",
        "\n",
        "#2 a matrix (2d array): the argumanet to the array function is a nested python 1\n",
        "M = np.array([[1,2],[3,4]])\n",
        "print(\"\\n2. matrix 2d array M consists: \" + str(M))\n",
        "\n",
        "#3 use type(___) to return the type of the array. M and v should be the same\n",
        "print(\"\\n3. find type with type(v), type(M): \" + str(type(v))+\", \"+str(type(M)))\n",
        "\n",
        "#4 v and M are differentdue to shapes. use ndarray.shape to get the shape\n",
        "print(\"\\n4. the shape of v is \" + str(v.shape))\n",
        "print(\"the shape of v is \" + str(M.shape))\n",
        "\n",
        "#5 get the number of elements in the array using ndarray.size\n",
        "print('\\n5. the size of array v is: ' + str(v.size))\n",
        "print('the size of 2d arrray M is: ' + str(M.size))\n",
        "\n",
        "#6 dtype to get the type of elements in the array\n",
        "print('\\n6. M is type: ' + str(M.dtype))\n",
        "print('v is type: ' + str(v.dtype))\n",
        "\n",
        "#7 define the type of the array data with dtype argument\n",
        "M = np.array([[1,2],[3,4]], dtype='float32')\n",
        "print('\\n7. now M is a ndarray consisting of M float32: ' + str(M))\n",
        "\n",
        "\n"
      ],
      "execution_count": null,
      "outputs": [
        {
          "output_type": "stream",
          "text": [
            "1. vector v array consists: [1 2 3 4]\n",
            "\n",
            "2. matrix 2d array M consists: [[1 2]\n",
            " [3 4]]\n",
            "\n",
            "3. find type with type(v), type(M): <class 'numpy.ndarray'>, <class 'numpy.ndarray'>\n",
            "\n",
            "4. the shape of v is (4,)\n",
            "the shape of v is (2, 2)\n",
            "\n",
            "5. the size of array v is: 4\n",
            "the size of 2d arrray M is: 4\n",
            "\n",
            "6. M is type: int64\n",
            "v is type: int64\n",
            "\n",
            "7. now M is a ndarray consisting of M float32: [[1. 2.]\n",
            " [3. 4.]]\n"
          ],
          "name": "stdout"
        }
      ]
    },
    {
      "cell_type": "markdown",
      "metadata": {
        "id": "9q-CasSKe7-s"
      },
      "source": [
        "#Using functions to generate arrays\n"
      ]
    },
    {
      "cell_type": "markdown",
      "metadata": {
        "id": "iW7hI7Cml-wQ"
      },
      "source": [
        "```arange``` ~ ```.arange(start, stop, step)```creates a range for array. \n",
        "\n",
        "```linspace``` creates range with both start and end included in array\n",
        "\n",
        "```logspace``` creates array and raises its power"
      ]
    },
    {
      "cell_type": "code",
      "metadata": {
        "id": "ocSSAtjXfak4",
        "colab": {
          "base_uri": "https://localhost:8080/",
          "height": 424
        },
        "outputId": "89b4ca3b-e4bd-496a-9ae9-76f3506402ea"
      },
      "source": [
        "import numpy as np\n",
        "\n",
        "print('please enter a number to prevent errors for .arange')\n",
        "# inputs for array parameters\n",
        "a = input('start num: ')\n",
        "b = input('stop num: ')\n",
        "c=  input('step num: ')\n",
        "#1 creating a range for array\n",
        "x = np.arange(float(a), float(b), float(c)) # arguments: .arange(start, stop, step)\n",
        "print(\"1. np.arrange(\"+str(a)+\", \"+str(b)+\", \"+str(c)+\") - should start at and include \" \n",
        "      + str(a) + '. Then end, but not include ' + str(b) + ' incrementing by ' + str(c) + \": \" + \"\\n\"+str(x))\n",
        "\n",
        "print('\\nplease enter an integer to prevent errors for .linspace')\n",
        "# inputs for array parameters\n",
        "a = input('start num: ')\n",
        "b = input('stop num: ')\n",
        "c=  input('step num: ')\n",
        "#2 using .linspace to include both ends, start and stop\n",
        "y = np.linspace(int(a), int(b), int(c))\n",
        "print(\"2. np.linspace(\"+str(a)+\", \"+str(b)+\", \"+str(c)+\") - should start at and include \" \n",
        "      + str(a) + '. Then end and include ' + str(b) + ' providing ' + str(c) + \" elements in the array: \" + \"\\n\"+str(y))\n",
        "\n",
        "\n",
        "print('\\nplease enter an integer to prevent errors for .logspace')\n",
        "# inputs for array parameters\n",
        "a = input('start num: ')\n",
        "b = input('stop num: ')\n",
        "c=  input('step num: ')\n",
        "d = input('base num: ')\n",
        "#3 using .logspace raises values base\n",
        "z = np.logspace(int(a), int(b), int(c), base = int(d))\n",
        "print(\"3. np.logspace(\"+str(a)+\", \"+str(b)+\", \"+str(c)+\", \" + \"base = \" \n",
        "      +str(d) +\") - should start at and include \" + str(d) + \" to the base power of  \" + str(a) +\". Then end and include \\n     \" + str(d) \n",
        "      + \" to the base power \" + str(b) + \" providing \" + str(c) + \" elements in the array all to the base power of \" + str(d) +\": \" + \"\\n\"+str(z))\n",
        "\n"
      ],
      "execution_count": null,
      "outputs": [
        {
          "output_type": "stream",
          "text": [
            "please enter a number to prevent errors for .arange\n",
            "start num: 1\n",
            "stop num: 2\n",
            "step num: 2\n",
            "1. np.arrange(1, 2, 2) - should start at and include 1. Then end, but not include 2 incrementing by 2: \n",
            "[1.]\n",
            "\n",
            "please enter an integer to prevent errors for .linspace\n",
            "start num: 2\n",
            "stop num: 2\n",
            "step num: 2\n",
            "2. np.linspace(2, 2, 2) - should start at and include 2. Then end and include 2 providing 2 elements in the array: \n",
            "[2. 2.]\n",
            "\n",
            "please enter an integer to prevent errors for .logspace\n",
            "start num: 2\n",
            "stop num: 2\n",
            "step num: 2\n",
            "base num: 2\n",
            "3. np.logspace(2, 2, 2, base = 2) - should start at and include 2 to the base power of  2. Then end and include \n",
            "     2 to the base power 2 providing 2 elements in the array all to the base power of 2: \n",
            "[4. 4.]\n"
          ],
          "name": "stdout"
        }
      ]
    },
    {
      "cell_type": "markdown",
      "metadata": {
        "id": "TOtypu0KyWds"
      },
      "source": [
        "#Manipulating Arrays"
      ]
    },
    {
      "cell_type": "markdown",
      "metadata": {
        "id": "op4-V5skZCSv"
      },
      "source": [
        "##**Indexing**"
      ]
    },
    {
      "cell_type": "code",
      "metadata": {
        "id": "FKW4fC9W4_Tu",
        "colab": {
          "base_uri": "https://localhost:8080/",
          "height": 354
        },
        "outputId": "11bf21c8-e6c3-486d-c78a-af40f10180e6"
      },
      "source": [
        "import numpy as np\n",
        "\n",
        "#1 v[a], returns the element at index a\n",
        "v = np.array([1, 2, 3, 4])\n",
        "print(\"v is: \" + str(v))\n",
        "print(\"1. v[0] outputs: \" + str(v[0]))\n",
        "\n",
        "#2 M[a,b], a = array index value, b = value in the index of that array\n",
        "M = np.array([[1,2],[3,4]])\n",
        "print(\"\\nM is: \"+str(M))\n",
        "print(\"2. M[1,1] will take the array at index one and return value at index 1 resulting in: \" + str(M[1,1])) \n",
        "\n",
        "#3 M[1,:] returns row one\n",
        "print(\"\\n3. M[1,:] takes array in index 1 and return all elements in that array: \" + str(M[1,:]))\n",
        "\n",
        "#4 M[:,1] returns column one\n",
        "print(\"\\n4. M[:,1] Looks at all the arrays and return index 1 from each arry: \"+str(M[:,1]))\n",
        "\n",
        "#5 M[0, 0] = 10 change elements value at certain indexes\n",
        "M[0,0]=10\n",
        "print(\"\\n5. M[0,0] = 10 will change the elements at index 0  in array 0 to 10: \\n\" + str(M))\n",
        "\n",
        "#6 This change can be done to rows and columns\n",
        "M[0,:] = 0\n",
        "M[:, 1] = -1\n",
        "print(\"\\n6. M[0,:] = 0 & M[:, 1] = -1 values in array index 0 change to 0 but for all arrays index 1 will be -1. \\n\"+str(M) )\n"
      ],
      "execution_count": null,
      "outputs": [
        {
          "output_type": "stream",
          "text": [
            "v is: [1 2 3 4]\n",
            "1. v[0] outputs: 1\n",
            "\n",
            "M is: [[1 2]\n",
            " [3 4]]\n",
            "2. M[1,1] will take the array at index one and return value at index 1 resulting in: 4\n",
            "\n",
            "3. M[1,:] takes array in index 1 and return all elements in that array: [3 4]\n",
            "\n",
            "4. M[:,1] Looks at all the arrays and return index 1 from each arry: [2 4]\n",
            "\n",
            "5. M[0,0] = 10 will change the elements at index 0  in array 0 to 10: \n",
            "[[10  2]\n",
            " [ 3  4]]\n",
            "\n",
            "6. M[0,:] = 0 & M[:, 1] = -1 values in array index 0 change to 0 but for all arrays index 1 will be -1. \n",
            "[[ 0 -1]\n",
            " [ 3 -1]]\n"
          ],
          "name": "stdout"
        }
      ]
    },
    {
      "cell_type": "markdown",
      "metadata": {
        "id": "neF6zDpbdxiM"
      },
      "source": [
        "##**Index Slicing**\n",
        "\n",
        "```M[start:end:step]``` \n",
        "used to extract part of an array. "
      ]
    },
    {
      "cell_type": "code",
      "metadata": {
        "id": "3DZHvmeYd1N9",
        "colab": {
          "base_uri": "https://localhost:8080/",
          "height": 70
        },
        "outputId": "d6d97b49-8d8a-4cc4-d835-fda39674fa46"
      },
      "source": [
        "A = np.array([1,2,3,4,5])\n",
        "print(\"Array A: \"+str(A))\n",
        " \n",
        "# 1 prints elements in the array between index 1-3 and not including them.\n",
        "print(\"\\n1. A[1:3] prints from start to end the values of index: \"+str(A[1:3]))"
      ],
      "execution_count": null,
      "outputs": [
        {
          "output_type": "stream",
          "text": [
            "Array A: [1 2 3 4 5]\n",
            "\n",
            "1. A[1:3] prints from start to end the values of index: [2 3]\n"
          ],
          "name": "stdout"
        }
      ]
    },
    {
      "cell_type": "markdown",
      "metadata": {
        "id": "Kwuw7JbEB6b6"
      },
      "source": [
        "##**Array Slices are Mutable**\n",
        "\n",
        "Assign new value the original array from which the slice was extracted is modified:"
      ]
    },
    {
      "cell_type": "code",
      "metadata": {
        "id": "AHN-AmPVDt8U",
        "colab": {
          "base_uri": "https://localhost:8080/",
          "height": 369
        },
        "outputId": "347755f3-315a-46c8-f0da-0ebfb6606b56"
      },
      "source": [
        "#2 Changing array slices values\n",
        "A[1:3] = [-2, -3]\n",
        "print(\"2. A[1:3] = [-2,-3] changes values of OG array to new values at that index:\\n\" + str(A) )\n",
        "\n",
        "#3 Omit any of the three parameters in M[start:end:stop]\n",
        "A[::]\n",
        "print(\"\\n3. A[::] will print the default values:\\n\" + str(A))\n",
        "A[::2]\n",
        "print(\"\\n4. A[::2] steps through the array in 2's:\\n\" + str(A))\n",
        "A[:3]\n",
        "print(\"\\n5. A[:3] returns everything up to the 3 index:\\n\" + str(A))\n",
        "A[3:]\n",
        "print(\"\\n6. A[3:] returns everything from index 3 and beyond:\\n\" + str(A))\n",
        "\n",
        "#7. negative indexes count from the end and positive count from the beginning\n",
        "A[-1]\n",
        "print(\"\\n7. A[-1] returns last element in the array:\\n\" + str(A))\n",
        "A[-3:]\n",
        "print(\"\\n8. A[-3:] return the last 3 elements:\\n\" + str(A))"
      ],
      "execution_count": null,
      "outputs": [
        {
          "output_type": "stream",
          "text": [
            "2. A[1:3] = [-2,-3] changes values of OG array to new values at that index:\n",
            "[ 1 -2 -3  4  5]\n",
            "\n",
            "3. A[::] will print the default values:\n",
            "[ 1 -2 -3  4  5]\n",
            "\n",
            "4. A[::2] steps through the array in 2's:\n",
            "[ 1 -2 -3  4  5]\n",
            "\n",
            "5. A[:3] returns everything up to the 3 index:\n",
            "[ 1 -2 -3  4  5]\n",
            "\n",
            "6. A[3:] returns everything from index 3 and beyond:\n",
            "[ 1 -2 -3  4  5]\n",
            "\n",
            "7. A[-1] returns last element in the array:\n",
            "[ 1 -2 -3  4  5]\n",
            "\n",
            "8. A[-3:] return the last 3 elements:\n",
            "[ 1 -2 -3  4  5]\n"
          ],
          "name": "stdout"
        }
      ]
    },
    {
      "cell_type": "markdown",
      "metadata": {
        "id": "NbyqC6gEVguw"
      },
      "source": [
        "##**Index slicing works exactly the same way for multidimensional arrays:**"
      ]
    },
    {
      "cell_type": "code",
      "metadata": {
        "id": "1Jxqu15LXgiw",
        "colab": {
          "base_uri": "https://localhost:8080/",
          "height": 422
        },
        "outputId": "100d7a23-7b89-4ab6-c976-466378ec104e"
      },
      "source": [
        "#1 May use an array or list as an index\n",
        "A = np.array([[n+m*10 for n in range(5)] for m in range(5)])\n",
        "print(\"1. matrix A first row 0-5 then next row is n+m*10:\\n\" + str(A)) \n",
        "# a matrix\n",
        "\n",
        "#2 returns rows 1-3\n",
        "row_indices = [1,2,3]\n",
        "print(\"\\n2. A[row_indices,:] prints all elements in the array indexes 1-3:\\n\" +str(A[row_indices,:]))\n",
        "\n",
        "#3 returns colums 1, 2, -1\n",
        "col_indices = [1,2,-1]\n",
        "print(\"\\n3. A[:,col_indices] prints all elements of the arrays at index 1,2,-1:\\n\"+str(A[:,col_indices]))\n",
        "\n",
        "#4 returns a smaller matric of OG content\n",
        "print(\"\\n4. A[1:4, 1:4] index 1-3 and contents at index 1-3 for each array:\\n\" + str(A[1:4,1:4]))"
      ],
      "execution_count": null,
      "outputs": [
        {
          "output_type": "stream",
          "text": [
            "1. matrix A first row 0-5 then next row is n+m*10:\n",
            "[[ 0  1  2  3  4]\n",
            " [10 11 12 13 14]\n",
            " [20 21 22 23 24]\n",
            " [30 31 32 33 34]\n",
            " [40 41 42 43 44]]\n",
            "\n",
            "2. A[row_indices,:] prints all elements in the array indexes 1-3:\n",
            "[[10 11 12 13 14]\n",
            " [20 21 22 23 24]\n",
            " [30 31 32 33 34]]\n",
            "\n",
            "3. A[:,col_indices] prints all elements of the arrays at index 1,2,-1:\n",
            "[[ 1  2  4]\n",
            " [11 12 14]\n",
            " [21 22 24]\n",
            " [31 32 34]\n",
            " [41 42 44]]\n",
            "\n",
            "4. A[1:4, 1:4] index 1-3 and contents at index 1-3 for each array:\n",
            "[[11 12 13]\n",
            " [21 22 23]\n",
            " [31 32 33]]\n"
          ],
          "name": "stdout"
        }
      ]
    },
    {
      "cell_type": "markdown",
      "metadata": {
        "id": "0bjSUTqHjY9X"
      },
      "source": [
        "#Array-oriented programming"
      ]
    },
    {
      "cell_type": "markdown",
      "metadata": {
        "id": "sOxpu3h7jfDM"
      },
      "source": [
        "Vectorizing code is the key to writing code when handling big data. That means program should be written in terms of matrix operations"
      ]
    },
    {
      "cell_type": "markdown",
      "metadata": {
        "id": "QcZna0NEj_t8"
      },
      "source": [
        "##**Scalar-array operations**\n",
        "\n",
        "Arithmetic operators to multiply, add, substract, and divive arrays with scalar numbers"
      ]
    },
    {
      "cell_type": "code",
      "metadata": {
        "id": "GLUSONVxluLd",
        "colab": {
          "base_uri": "https://localhost:8080/",
          "height": 158
        },
        "outputId": "74faab3f-ab3f-4dda-fe55-aacf985c0579"
      },
      "source": [
        "#1 arange start , end\n",
        "v1 = np.arange(0,5)\n",
        "print(\"1. v1 = np.arange(0,5) array 0 to 5:\\n\" +str(v1))\n",
        "\n",
        "#2 v1 * 2 multiples all values in a array by 2\n",
        "print(\"\\n2. v1 * 2, returns the array with all elements multiplies by 2:\\n\" + str(v1*2))\n",
        "\n",
        "#3 v1 + 2 adds 2 to each element in the array\n",
        "print(\"\\n3. v1 + 2 adds 2 to each element in the array:\\n\" + str(v1+2))"
      ],
      "execution_count": null,
      "outputs": [
        {
          "output_type": "stream",
          "text": [
            "1. v1 = np.arange(0,5) array 0 to 5:\n",
            "[0 1 2 3 4]\n",
            "\n",
            "2. v1 * 2, returns the array with all elements multiplies by 2:\n",
            "[0 2 4 6 8]\n",
            "\n",
            "3. v1 + 2 adds 2 to each element in the array:\n",
            "[2 3 4 5 6]\n"
          ],
          "name": "stdout"
        }
      ]
    },
    {
      "cell_type": "markdown",
      "metadata": {
        "id": "iwvIr4jxp8u6"
      },
      "source": [
        "##**Element-wise array-array operations**\n",
        "\n",
        "When adding, subtracting, and dividing arrays with each other, the behavior is element wise operations:"
      ]
    },
    {
      "cell_type": "code",
      "metadata": {
        "id": "H4ZX2e_bqn9M",
        "colab": {
          "base_uri": "https://localhost:8080/",
          "height": 246
        },
        "outputId": "00653a2b-0d34-468f-e990-24766dbf77c1"
      },
      "source": [
        "#1 print matrix A for example\n",
        "print(\"1. Array A:\\n\" + str(A))\n",
        "\n",
        "#2 multiplying two matrices A together, each element is squared. only element wise\n",
        "print(\"\\n2. A * A results in:\\n\" + str(A*A))"
      ],
      "execution_count": null,
      "outputs": [
        {
          "output_type": "stream",
          "text": [
            "1. Array A:\n",
            "[[ 0  1  2  3  4]\n",
            " [10 11 12 13 14]\n",
            " [20 21 22 23 24]\n",
            " [30 31 32 33 34]\n",
            " [40 41 42 43 44]]\n",
            "\n",
            "2. A * A results in:\n",
            "[[   0    1    4    9   16]\n",
            " [ 100  121  144  169  196]\n",
            " [ 400  441  484  529  576]\n",
            " [ 900  961 1024 1089 1156]\n",
            " [1600 1681 1764 1849 1936]]\n"
          ],
          "name": "stdout"
        }
      ]
    },
    {
      "cell_type": "markdown",
      "metadata": {
        "id": "kUWG253rryty"
      },
      "source": [
        "##**Matrix Algebra**\n",
        "\n",
        "Actual matrix multiplication can be done with ```.dot()``` function"
      ]
    },
    {
      "cell_type": "code",
      "metadata": {
        "id": "fI2EhZQusIEs",
        "colab": {
          "base_uri": "https://localhost:8080/",
          "height": 123
        },
        "outputId": "3003cdca-29c8-41f3-e0b6-2d1c6b8de1a4"
      },
      "source": [
        "#1 matric multiplication\n",
        "d = np.dot(A,A)\n",
        "print(\"1. np.dot(A,A) matrix multiplication with matrix A with A:\\n\" + str(d))"
      ],
      "execution_count": null,
      "outputs": [
        {
          "output_type": "stream",
          "text": [
            "1. np.dot(A,A) matrix multiplication with matrix A with A:\n",
            "[[ 300  310  320  330  340]\n",
            " [1300 1360 1420 1480 1540]\n",
            " [2300 2410 2520 2630 2740]\n",
            " [3300 3460 3620 3780 3940]\n",
            " [4300 4510 4720 4930 5140]]\n"
          ],
          "name": "stdout"
        }
      ]
    },
    {
      "cell_type": "markdown",
      "metadata": {
        "id": "8uDV4d7cuLiq"
      },
      "source": [
        "##**Basic data analysis using numpy**\n",
        "\n",
        "Usefule to store datasets  in Numpy arrays(matrix). Numpy has functions to calculate statisitcs of datasets in arrays. ```.shape()```"
      ]
    },
    {
      "cell_type": "code",
      "metadata": {
        "id": "BZsXmwInvhwD",
        "colab": {
          "base_uri": "https://localhost:8080/",
          "height": 175
        },
        "outputId": "7ac43646-0cb9-485a-9b78-ba10d0af7c78"
      },
      "source": [
        "print(\"Matrix A:\\n \"+str(A)+ \"\\n\\nThe shape: \")\n",
        "# returns the shape of the matrix: (rows, columns)\n",
        "np.shape(A)"
      ],
      "execution_count": null,
      "outputs": [
        {
          "output_type": "stream",
          "text": [
            "Matrix A:\n",
            " [[ 0  1  2  3  4]\n",
            " [10 11 12 13 14]\n",
            " [20 21 22 23 24]\n",
            " [30 31 32 33 34]\n",
            " [40 41 42 43 44]]\n",
            "\n",
            "The shape: \n"
          ],
          "name": "stdout"
        },
        {
          "output_type": "execute_result",
          "data": {
            "text/plain": [
              "(5, 5)"
            ]
          },
          "metadata": {
            "tags": []
          },
          "execution_count": 138
        }
      ]
    },
    {
      "cell_type": "markdown",
      "metadata": {
        "id": "NWWKHHlsx1Bi"
      },
      "source": [
        "##**Mean**\n",
        "\n",
        "```np.mean(values)```"
      ]
    },
    {
      "cell_type": "code",
      "metadata": {
        "id": "obcHyYP1wFX5",
        "colab": {
          "base_uri": "https://localhost:8080/",
          "height": 35
        },
        "outputId": "ea68fc8c-39cb-44d7-de66-9b744a0a8938"
      },
      "source": [
        "# mean np.mean(A[:,3]) returns the mean of column 3.\n",
        "# 3 + 13 + 23 + 33 + 43 / 5 = 23.0\n",
        "np.mean(A[:,3])"
      ],
      "execution_count": null,
      "outputs": [
        {
          "output_type": "execute_result",
          "data": {
            "text/plain": [
              "23.0"
            ]
          },
          "metadata": {
            "tags": []
          },
          "execution_count": 102
        }
      ]
    },
    {
      "cell_type": "markdown",
      "metadata": {
        "id": "XdK8VkkGx3ik"
      },
      "source": [
        "##**Standard Deviation and Variance, min, and max. Plus sum and product**\n",
        "\n",
        "```np.std()```, ```np.var()```, ```.max()```, ```min()```, ```.sum()```, ```.prod()```."
      ]
    },
    {
      "cell_type": "code",
      "metadata": {
        "id": "ZvHcqBeOx_08",
        "colab": {
          "base_uri": "https://localhost:8080/",
          "height": 175
        },
        "outputId": "2a29e76f-11b5-4463-e57a-d39ab1246e5b"
      },
      "source": [
        "print(\"\\n\"+str(A[:,3]))\n",
        "\n",
        "# Standard deviation = sqr(200) = 14.14\n",
        "std = np.std(A[:,3])\n",
        "print(\"1. std = \" + str(std))\n",
        "\n",
        "# Variance = [(3-23)^2 + (13-23)^2 + (23-23)^2 + (33-23)^2 + (43-23)^2] / 5\n",
        "# Var = (400 + 100 + 0 + 100 + 400) / 5 = 200\n",
        "var =np.var(A[:,3]) \n",
        "print(\"\\n2. var = \" + str(var))\n",
        "\n",
        "# min and max\n",
        "min = A[:,3].min()\n",
        "max = A[:,3].max()\n",
        "print(\"\\n3. The min is: \" + str(min) + \". The max is: \" + str(max))\n",
        "\n",
        "# sum and prod of all elements\n",
        "sum = np.sum(A[:,3]) \n",
        "prod = np.prod(A[:,3])\n",
        "print(\"\\n4. Sum of elements: \" + str(sum) + \". Products of elements: \" +str(prod))"
      ],
      "execution_count": null,
      "outputs": [
        {
          "output_type": "stream",
          "text": [
            "\n",
            "[ 3 13 23 33 43]\n",
            "1. std = 14.142135623730951\n",
            "\n",
            "2. var = 200.0\n",
            "\n",
            "3. The min is: 3. The max is: 43\n",
            "\n",
            "4. Sum of elements: 115. Products of elements: 1272843\n"
          ],
          "name": "stdout"
        }
      ]
    },
    {
      "cell_type": "markdown",
      "metadata": {
        "id": "TRm3UKLs3bWw"
      },
      "source": [
        "##**Perform functions to the entire matrix?**\n",
        "\n",
        "Applying calculations to the entire array or just certain rows/columns basis. To do this use ```axis```."
      ]
    },
    {
      "cell_type": "code",
      "metadata": {
        "id": "vktV89FO4xbH",
        "colab": {
          "base_uri": "https://localhost:8080/",
          "height": 175
        },
        "outputId": "6c12a400-cd2a-4095-e133-548e894f84c6"
      },
      "source": [
        "from numpy import random\n",
        "\n",
        "# returns a 3 by 3 array with random values \n",
        "m = random.rand(3,3)\n",
        "print(str(m))\n",
        "\n",
        "# returns the global max out of entire array\n",
        "print(\"\\nMax from entire array: \" + str(m.max()))\n",
        "\n",
        "# returns max in each column\n",
        "print(\"\\nMax element in each column is: \" + str(m.max(axis=0)))\n",
        "\n",
        "#returns max in each row\n",
        "print(\"\\nMax element in each row is: \" + str(m.max(axis=1)))"
      ],
      "execution_count": null,
      "outputs": [
        {
          "output_type": "stream",
          "text": [
            "[[0.66961718 0.67269832 0.04975817]\n",
            " [0.61039266 0.18002502 0.43597526]\n",
            " [0.97520268 0.42243988 0.89165045]]\n",
            "\n",
            "Max from entire array: 0.9752026824014911\n",
            "\n",
            "Max element in each column is: [0.97520268 0.67269832 0.89165045]\n",
            "\n",
            "Max element in each row is: [0.67269832 0.61039266 0.97520268]\n"
          ],
          "name": "stdout"
        }
      ]
    },
    {
      "cell_type": "markdown",
      "metadata": {
        "id": "Vzcaorpf7hYz"
      },
      "source": [
        "# Reshaping, resizing and stacking arrays\n"
      ]
    },
    {
      "cell_type": "markdown",
      "metadata": {
        "id": "BYaO5Gvo8twz"
      },
      "source": [
        "The shape of a numpy array can be modified without copying the underlying data, fast operations even for large arrays. ```.shape()```, ```.reshape()```. \n",
        "\n",
        "```.flatten()``` makes a higher dimensional array into a vector. Creating a sepearate copy."
      ]
    },
    {
      "cell_type": "code",
      "metadata": {
        "id": "qLWWrqLv9Bfd",
        "colab": {
          "base_uri": "https://localhost:8080/",
          "height": 299
        },
        "outputId": "929424fb-501c-4d54-96de-60d85dea8625"
      },
      "source": [
        "# print the array A\n",
        "print(\"Array A: \\n\" + str(A))\n",
        "\n",
        "#1 Another way to get the shape of the array\n",
        "n,m = A.shape\n",
        "print(\"\\n1. n,m = A.shape, shape of the array A: \" + str(n),str(m))\n",
        "\n",
        "#2 Another way to reshape\n",
        "B = A.reshape(1,n*m)\n",
        "print(\"\\n2. B = A.reshape(1,n*m), reshapes array with 1 row and n*m columns:\\n\" + str(B))\n",
        "\n",
        "#3 Makes a copy fof A as be.\n",
        "B = A.flatten()\n",
        "print(\"\\n3. A.flatten(), bdata is a separate copy of A: \\n\" + str(B))"
      ],
      "execution_count": null,
      "outputs": [
        {
          "output_type": "stream",
          "text": [
            "Array A: \n",
            "[[ 0  1  2  3  4]\n",
            " [10 11 12 13 14]\n",
            " [20 21 22 23 24]\n",
            " [30 31 32 33 34]\n",
            " [40 41 42 43 44]]\n",
            "\n",
            "1. n,m = A.shape, shape of the array A: 5 5\n",
            "\n",
            "2. B = A.reshape(1,n*m), reshapes array with 1 row and n*m columns:\n",
            "[[ 0  1  2  3  4 10 11 12 13 14 20 21 22 23 24 30 31 32 33 34 40 41 42 43\n",
            "  44]]\n",
            "\n",
            "3. A.flatten(), bdata is a separate copy of A: \n",
            "[ 0  1  2  3  4 10 11 12 13 14 20 21 22 23 24 30 31 32 33 34 40 41 42 43\n",
            " 44]\n"
          ],
          "name": "stdout"
        }
      ]
    },
    {
      "cell_type": "markdown",
      "metadata": {
        "id": "KWRQ7pNXBQ3f"
      },
      "source": [
        "#Type Casting"
      ]
    },
    {
      "cell_type": "markdown",
      "metadata": {
        "id": "76tSxBpcBW8v"
      },
      "source": [
        "Numpy arrays are statically types, the type does not change once created. Although we can cast an array of some types to another using the ```astype``` functions. Creates a new arrray of a new type."
      ]
    },
    {
      "cell_type": "code",
      "metadata": {
        "id": "Uh4LW2HKES-V",
        "colab": {
          "base_uri": "https://localhost:8080/",
          "height": 281
        },
        "outputId": "ff817cb6-fc56-4d51-88dc-a6d7ed3afcae"
      },
      "source": [
        "# reprint M\n",
        "print(\"Print array M:\\n\" + str(M))\n",
        "\n",
        "#1 returns the data type\n",
        "print(\"\\n1. The data type for M is: \" + str(M.dtype))\n",
        "\n",
        "#2 change the type to 'float64'\n",
        "print(\"\\n2. Changing M into 'float64:\\n'\" + str(M.astype('float64')))\n",
        "\n",
        "#3 checking the data type again\n",
        "print(\"\\n3. Check the data type again: \" + str(M.dtype))\n",
        "\n",
        "#4 changes the array to boolean\n",
        "print(\"\\n4. Change to boolean: \\n\" + str(M.astype(bool)))"
      ],
      "execution_count": null,
      "outputs": [
        {
          "output_type": "stream",
          "text": [
            "Print array M:\n",
            "[[ 0 -1]\n",
            " [ 3 -1]]\n",
            "\n",
            "1. The data type for M is: int64\n",
            "\n",
            "2. Changing M into 'float64:\n",
            "'[[ 0. -1.]\n",
            " [ 3. -1.]]\n",
            "\n",
            "3. Check the data type again: int64\n",
            "\n",
            "4. Change to boolean: \n",
            "[[False  True]\n",
            " [ True  True]]\n"
          ],
          "name": "stdout"
        }
      ]
    },
    {
      "cell_type": "markdown",
      "metadata": {
        "id": "LbEftmAmGkaI"
      },
      "source": [
        "#2. Scipy: a library for scientific computing\n",
        "\n",
        "provides many user friendly and efficient numerical routines such as stats, numerical integration and optimization\n",
        "\n",
        "```sp_dist.cosine(x,y)```, ```sp_dist.euclidean(x,y)``` , ```sp_dist.jaccard(x,y)```, ```sp_dist.hamming(x,y)```. "
      ]
    },
    {
      "cell_type": "code",
      "metadata": {
        "id": "UNb1pCymG3mN",
        "colab": {
          "base_uri": "https://localhost:8080/",
          "height": 123
        },
        "outputId": "e4a713a9-5541-4288-b098-2eb1d396f7c1"
      },
      "source": [
        "import numpy as np\n",
        "import scipy.spatial.distance as sp_dist\n",
        "\n",
        "# x & y = random int array size 20 from start(inclusive) to end(exclusive)\n",
        "x = np.random.randint(0, 2, size = 20)\n",
        "y = np.random.randint(0, 2, size = 20)\n",
        "\n",
        "print(\"x = \" +str(x))\n",
        "print(\"y = \" +str(y))\n",
        "print(\"Cosine distance: \" + str(sp_dist.cosine(x,y)))\n",
        "print(\"Euclidean distance: \" + str(sp_dist.euclidean(x,y)))\n",
        "print(\"Jaccard distance: \" + str(sp_dist.jaccard(x,y)))\n",
        "# difference in X and Y / array size\n",
        "print(\"Hamming distance: \" + str(sp_dist.hamming(x,y)))\n"
      ],
      "execution_count": null,
      "outputs": [
        {
          "output_type": "stream",
          "text": [
            "x = [1 0 0 0 0 1 1 1 0 1 0 0 0 0 1 0 1 1 0 1]\n",
            "y = [0 1 1 0 0 0 1 0 1 0 0 1 0 1 0 1 0 1 0 0]\n",
            "Cosine distance: 0.7642977396044841\n",
            "Euclidean distance: 3.605551275463989\n",
            "Jaccard distance: 0.8666666666666667\n",
            "Hamming distance: 0.65\n"
          ],
          "name": "stdout"
        }
      ]
    },
    {
      "cell_type": "markdown",
      "metadata": {
        "id": "qQuHfOMrP6a3"
      },
      "source": [
        "```linregress(a, b)```"
      ]
    },
    {
      "cell_type": "code",
      "metadata": {
        "id": "g5HZXdrVQQN3",
        "colab": {
          "base_uri": "https://localhost:8080/",
          "height": 55
        },
        "outputId": "d02e382d-a175-470a-8ec3-672b0e1e13fb"
      },
      "source": [
        "from scipy.stats import linregress\n",
        "\n",
        "a = [15, 12, 8, 8, 7, 7, 7, 6, 5, 3]\n",
        "b = [10, 25, 17, 11, 13, 17, 20, 13, 9, 15]\n",
        "\n",
        "linregress(a, b)"
      ],
      "execution_count": null,
      "outputs": [
        {
          "output_type": "execute_result",
          "data": {
            "text/plain": [
              "LinregressResult(slope=0.20833333333333331, intercept=13.375, rvalue=0.14499815458068518, pvalue=0.689401448116695, stderr=0.5026170462708364)"
            ]
          },
          "metadata": {
            "tags": []
          },
          "execution_count": 129
        }
      ]
    },
    {
      "cell_type": "markdown",
      "metadata": {
        "id": "1gitbj_wQ4I9"
      },
      "source": [
        "##3. Matplotlib"
      ]
    },
    {
      "cell_type": "markdown",
      "metadata": {
        "id": "ND8dUFmyRPys"
      },
      "source": [
        "###(1) Use a magic command to enable figures in notebook!\n",
        "\n",
        "```%matplotlib```\n",
        "\n",
        "###(2) Import\n",
        "\n",
        "```import matplotlib.pyplot as plt```"
      ]
    },
    {
      "cell_type": "markdown",
      "metadata": {
        "id": "uHDGpsRbViRA"
      },
      "source": [
        "```plt.figure()```, ```.plt()```, ```.xlabel()```, ```.ylabel()```, ```.title()```, ```.legend()```, ```show()```."
      ]
    },
    {
      "cell_type": "code",
      "metadata": {
        "id": "CD5I1TLxR3tG",
        "colab": {
          "base_uri": "https://localhost:8080/",
          "height": 215
        },
        "outputId": "4571e79a-aff4-4f71-d7dc-cfb47bac2b5d"
      },
      "source": [
        "#makes %matplotlib possible\n",
        "%matplotlib inline\n",
        "\n",
        "#imports\n",
        "import matplotlib.pyplot as plt\n",
        "import numpy as np\n",
        "\n",
        "#create empty figures\n",
        "fig = plt.figure()                       #empty figure\n",
        "plt.figure(figsize=(20,5))               #optional\n",
        " \n",
        " # array data start 0 to 2 spaced out 100 elements\n",
        "x = np.linspace(0, 2, 100)\n",
        "\n",
        "# plots the charts\n",
        "plt.plot(x, x, label = 'linear')\n",
        "plt.plot(x, x**2, label = 'quadratic')\n",
        "plt.plot(x, x**3, label = 'cubic')\n",
        "\n",
        "# x and y axis labels\n",
        "plt.xlabel('x label')\n",
        "plt.ylabel('y label')\n",
        "\n",
        "# title of the chart\n",
        "plt.title(\"Simple Plot\")\n",
        "\n",
        "# shows the tables label\n",
        "plt.legend()\n",
        "\n",
        "#actually shows the graphs\n",
        "plt.show()\n"
      ],
      "execution_count": null,
      "outputs": [
        {
          "output_type": "display_data",
          "data": {
            "text/plain": [
              "<Figure size 432x288 with 0 Axes>"
            ]
          },
          "metadata": {
            "tags": []
          }
        },
        {
          "output_type": "display_data",
          "data": {
            "image/png": "[encoded data removed]",
            "text/plain": [
              "<Figure size 1440x360 with 1 Axes>"
            ]
          },
          "metadata": {
            "tags": [],
            "needs_background": "light"
          }
        }
      ]
    },
    {
      "cell_type": "markdown",
      "metadata": {
        "id": "rlOVHnr7Wpod"
      },
      "source": [
        "##Generate random data"
      ]
    },
    {
      "cell_type": "code",
      "metadata": {
        "id": "hvivgMryW0hi",
        "colab": {
          "base_uri": "https://localhost:8080/",
          "height": 559
        },
        "outputId": "2d8f2297-8472-4912-ee35-6c0a441f426f"
      },
      "source": [
        "# import for randoms\n",
        "from numpy import random\n",
        "\n",
        "# uniform random numbers in [0,1]\n",
        "r = random.rand(5,5)\n",
        "print(\"1. Uniform random number array:\\n\"+str(r)) \n",
        "\n",
        "# standard normal distribution random numbers\n",
        "n = random.randn(5, 5)\n",
        "print(\"\\n2. Standard normal distribution random number array:\\n\" + str(n) + \"\\n\")\n",
        "\n",
        "# creates array data of random ints from 0-1000\n",
        "x = random.randn(1000)\n",
        "\n",
        "# plots a histogram using values of x\n",
        "plt.hist(x)\n",
        "plt.title('Histogram Standard Normal Distribution')\n",
        "plt.xlabel('x axis')\n",
        "plt.ylabel('y axis')\n",
        "plt.legend()\n",
        "# shows the histogram\n",
        "plt.show()"
      ],
      "execution_count": null,
      "outputs": [
        {
          "output_type": "stream",
          "text": [
            "No handles with labels found to put in legend.\n"
          ],
          "name": "stderr"
        },
        {
          "output_type": "stream",
          "text": [
            "1. Uniform random number array:\n",
            "[[0.81028928 0.12575135 0.89493573 0.12752276 0.22229573]\n",
            " [0.30470874 0.87112565 0.85292339 0.71870977 0.80151708]\n",
            " [0.43807827 0.60820933 0.27801221 0.5625726  0.58301442]\n",
            " [0.41445706 0.4398059  0.35540232 0.06974956 0.61700982]\n",
            " [0.21377674 0.12216117 0.13584508 0.89412491 0.60641398]]\n",
            "\n",
            "2. Standard normal distribution random number array:\n",
            "[[-0.24348636 -1.8727674  -0.59828479 -0.39458447 -0.6432735 ]\n",
            " [ 1.09529021  1.24519499 -0.48991279  0.58568018  1.00515287]\n",
            " [ 0.15385242 -0.67285524  0.93563141 -0.80144917  0.16336984]\n",
            " [ 0.43324109  0.44512233 -0.86097303 -1.40028587  1.40497911]\n",
            " [ 1.33244218 -0.50180194 -0.3540193   0.09867796 -1.02963995]]\n",
            "\n"
          ],
          "name": "stdout"
        },
        {
          "output_type": "display_data",
          "data": {
            "image/png": "[encoded data removed]",
            "text/plain": [
              "<Figure size 432x288 with 1 Axes>"
            ]
          },
          "metadata": {
            "tags": [],
            "needs_background": "light"
          }
        }
      ]
    },
    {
      "cell_type": "code",
      "metadata": {
        "id": "NPUoF8hHYzm9",
        "colab": {
          "base_uri": "https://localhost:8080/",
          "height": 35
        },
        "outputId": "89c71c13-dbe8-4961-ac68-7a9403ade941"
      },
      "source": [
        "# returns rand integers from start (inclusive) to end (exclusive)\n",
        "np.random.randint(0,2, size = 10) "
      ],
      "execution_count": null,
      "outputs": [
        {
          "output_type": "execute_result",
          "data": {
            "text/plain": [
              "array([1, 0, 1, 1, 0, 0, 1, 1, 1, 0])"
            ]
          },
          "metadata": {
            "tags": []
          },
          "execution_count": 134
        }
      ]
    },
    {
      "cell_type": "code",
      "metadata": {
        "id": "HD4pDB6OZ5UJ",
        "colab": {
          "base_uri": "https://localhost:8080/",
          "height": 52
        },
        "outputId": "6e05604b-6d2d-472d-daca-fa5efedfcb53"
      },
      "source": [
        "# returns random integers from start(inclusive) to end(exclusive) \n",
        "# with shape (2,4). 2 rows and 4 columns.\n",
        "np.random.randint(0, 5, size = (2,4))"
      ],
      "execution_count": null,
      "outputs": [
        {
          "output_type": "execute_result",
          "data": {
            "text/plain": [
              "array([[1, 3, 3, 2],\n",
              "       [2, 1, 2, 1]])"
            ]
          },
          "metadata": {
            "tags": []
          },
          "execution_count": 135
        }
      ]
    }
  ]
}