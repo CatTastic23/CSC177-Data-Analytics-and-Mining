{
  "nbformat": 4,
  "nbformat_minor": 0,
  "metadata": {
    "colab": {
      "name": "Sklearn01+02_catherineN.ipynb",
      "provenance": [],
      "collapsed_sections": [
        "vZRYi-BbKTJN"
      ],
      "toc_visible": true,
      "authorship_tag": "ABX9TyOjBKGNyFZrF5TUKOyTNMlq",
      "include_colab_link": true
    },
    "kernelspec": {
      "name": "python3",
      "display_name": "Python 3"
    }
  },
  "cells": [
    {
      "cell_type": "markdown",
      "metadata": {
        "id": "view-in-github",
        "colab_type": "text"
      },
      "source": [
        "<a href=\"https://colab.research.google.com/github/CatTastic23/CSC177-Data-Analytics-and-Mining/blob/main/Sklearn01%2B02_catherineN.ipynb\" target=\"_parent\"><img src=\"https://colab.research.google.com/assets/colab-badge.svg\" alt=\"Open In Colab\"/></a>"
      ]
    },
    {
      "cell_type": "markdown",
      "metadata": {
        "id": "-GsVPGnX3eeT"
      },
      "source": [
        "#Sklearn Overview\n",
        "\n",
        "Name: Catherine nguyen\n",
        "\n",
        "Date: 10/03/2020\n",
        "\n",
        "[KNN Video](https://www.youtube.com/watch?v=UqYde-LULfs)\n",
        "\n",
        "[Machine Learning Intro](https://towardsdatascience.com/machine-learning-explained-in-12-minutes-db34860383c4)"
      ]
    },
    {
      "cell_type": "markdown",
      "metadata": {
        "id": "vZRYi-BbKTJN"
      },
      "source": [
        "---\n",
        "#Part 1"
      ]
    },
    {
      "cell_type": "markdown",
      "metadata": {
        "id": "w7JEnvd43zDl"
      },
      "source": [
        "##Machine Learning Terminology \n",
        "\n",
        "\n",
        "---\n",
        "\n",
        "\n",
        "\n",
        "*   **Observations**: Rows aka (Object, sample, example, instance, record)\n",
        "*   **Features**: Columns aka (predictor, attribute, independent variable, input)\n",
        "*   **Response**: Value we are predicting (Label, Outcome, Target, Dependent Variable\n",
        "\n",
        "\n",
        "\n",
        "\n",
        "\n",
        "---\n",
        "\n"
      ]
    },
    {
      "cell_type": "markdown",
      "metadata": {
        "id": "jObjeP_es5gC"
      },
      "source": [
        "##Iris flower Dataset motivation problem:\n",
        "\n",
        "\n",
        "---\n",
        "\n",
        "\n",
        "*   150 Observations -  each Obs is diff type of Iris (Setosa, Versicolour, Virginica)\n",
        "*   4 features - (sepal length, sepal width, petal length, petal width)\n",
        "*   Label - variable is the iris species.\n",
        "\n",
        "\n",
        "\n",
        "\n",
        "---\n",
        "\n"
      ]
    },
    {
      "cell_type": "markdown",
      "metadata": {
        "id": "q-cHWcnqvs-U"
      },
      "source": [
        "\n",
        "\n",
        "---\n",
        "\n",
        "\n",
        "##This is a Classification problem since label is discrete!\n",
        "\n",
        "\n",
        "---\n",
        "\n"
      ]
    },
    {
      "cell_type": "markdown",
      "metadata": {
        "id": "wyA2s0EWy5tj"
      },
      "source": [
        "\n",
        "##Solve the proble using (KNN) K-Nearest-Neighbors\n",
        "---\n",
        "\n",
        "\n",
        "\n",
        "1.   Pick a value for K.\n",
        "2.   For any **unknown iris**, find the top K-record in our data that are \"nearest to that iris. \n",
        "3.   Majority vote: Use the ***most popular species*** of those K records as the predicted species for the unknown iris. \n",
        "\n",
        "\n",
        "\n",
        "\n",
        "\n",
        "\n",
        "---\n",
        "\n"
      ]
    },
    {
      "cell_type": "markdown",
      "metadata": {
        "id": "dN8YOvhK2RYL"
      },
      "source": [
        "\n",
        "\n",
        "---\n",
        "\n",
        "##Prepare training data in terms of X (Feature) and y (label/target vector) \n",
        "\n",
        "\n",
        "*   X = input\n",
        "*   y = ouput\n",
        "\n",
        "\n",
        "\n",
        "\n",
        "---\n",
        "\n"
      ]
    },
    {
      "cell_type": "markdown",
      "metadata": {
        "id": "uDTKuvXi03JR"
      },
      "source": [
        "###Scikit-learn comes wih a few datasets"
      ]
    },
    {
      "cell_type": "markdown",
      "metadata": {
        "id": "64Yk5sT9xGKq"
      },
      "source": [
        "Imports load_iris function from datasets module from Sklearn\n",
        "\n",
        "```\n",
        "from sklearn.datasets import load_iris\n",
        "iris = load_iris()\n",
        "```\n"
      ]
    },
    {
      "cell_type": "code",
      "metadata": {
        "id": "gRAoDGfu3ZVT"
      },
      "source": [
        "from sklearn.datasets import load_iris\n",
        "\n",
        "iris = load_iris()"
      ],
      "execution_count": null,
      "outputs": []
    },
    {
      "cell_type": "markdown",
      "metadata": {
        "id": "_K2H1tCYDQfF"
      },
      "source": [
        "```iris.data``` is a array matrix that holds iris data\n",
        "\n",
        "```iris.data.shape``` returns dim. or matrix (150, 4)\n",
        "\n",
        "```type(_)``` returns the type."
      ]
    },
    {
      "cell_type": "code",
      "metadata": {
        "id": "g117hIFv3GhQ",
        "colab": {
          "base_uri": "https://localhost:8080/"
        },
        "outputId": "c6733cf9-5b29-4267-ac70-1d5bf08a2695"
      },
      "source": [
        "# set the array matrix of iris data\n",
        "# store all the input features in a matrix \"X\"\n",
        "X = iris.data\n",
        "#shape of X and the type\n",
        "print(X.shape)\n",
        "print(type(X))"
      ],
      "execution_count": null,
      "outputs": [
        {
          "output_type": "stream",
          "text": [
            "(150, 4)\n",
            "<class 'numpy.ndarray'>\n"
          ],
          "name": "stdout"
        }
      ]
    },
    {
      "cell_type": "markdown",
      "metadata": {
        "id": "pJdW-v3qHDob"
      },
      "source": [
        "Since its a numpy array we can slice it."
      ]
    },
    {
      "cell_type": "code",
      "metadata": {
        "id": "JY8dgMw-DZFP",
        "colab": {
          "base_uri": "https://localhost:8080/"
        },
        "outputId": "d5e83b20-9454-4282-8be4-86104afe74e4"
      },
      "source": [
        "# returns up to 9 rows/observations containing all cols/features data\n",
        "X[:10, :] "
      ],
      "execution_count": null,
      "outputs": [
        {
          "output_type": "execute_result",
          "data": {
            "text/plain": [
              "array([[5.1, 3.5, 1.4, 0.2],\n",
              "       [4.9, 3. , 1.4, 0.2],\n",
              "       [4.7, 3.2, 1.3, 0.2],\n",
              "       [4.6, 3.1, 1.5, 0.2],\n",
              "       [5. , 3.6, 1.4, 0.2],\n",
              "       [5.4, 3.9, 1.7, 0.4],\n",
              "       [4.6, 3.4, 1.4, 0.3],\n",
              "       [5. , 3.4, 1.5, 0.2],\n",
              "       [4.4, 2.9, 1.4, 0.2],\n",
              "       [4.9, 3.1, 1.5, 0.1]])"
            ]
          },
          "metadata": {
            "tags": []
          },
          "execution_count": 3
        }
      ]
    },
    {
      "cell_type": "code",
      "metadata": {
        "id": "fD4mjZs7ZroP",
        "colab": {
          "base_uri": "https://localhost:8080/"
        },
        "outputId": "3b2edfbe-39dd-4362-88e1-f44dceca6320"
      },
      "source": [
        "# returns all rows/observations and cols/features\n",
        "X[:,:]"
      ],
      "execution_count": null,
      "outputs": [
        {
          "output_type": "execute_result",
          "data": {
            "text/plain": [
              "array([[5.1, 3.5, 1.4, 0.2],\n",
              "       [4.9, 3. , 1.4, 0.2],\n",
              "       [4.7, 3.2, 1.3, 0.2],\n",
              "       [4.6, 3.1, 1.5, 0.2],\n",
              "       [5. , 3.6, 1.4, 0.2],\n",
              "       [5.4, 3.9, 1.7, 0.4],\n",
              "       [4.6, 3.4, 1.4, 0.3],\n",
              "       [5. , 3.4, 1.5, 0.2],\n",
              "       [4.4, 2.9, 1.4, 0.2],\n",
              "       [4.9, 3.1, 1.5, 0.1],\n",
              "       [5.4, 3.7, 1.5, 0.2],\n",
              "       [4.8, 3.4, 1.6, 0.2],\n",
              "       [4.8, 3. , 1.4, 0.1],\n",
              "       [4.3, 3. , 1.1, 0.1],\n",
              "       [5.8, 4. , 1.2, 0.2],\n",
              "       [5.7, 4.4, 1.5, 0.4],\n",
              "       [5.4, 3.9, 1.3, 0.4],\n",
              "       [5.1, 3.5, 1.4, 0.3],\n",
              "       [5.7, 3.8, 1.7, 0.3],\n",
              "       [5.1, 3.8, 1.5, 0.3],\n",
              "       [5.4, 3.4, 1.7, 0.2],\n",
              "       [5.1, 3.7, 1.5, 0.4],\n",
              "       [4.6, 3.6, 1. , 0.2],\n",
              "       [5.1, 3.3, 1.7, 0.5],\n",
              "       [4.8, 3.4, 1.9, 0.2],\n",
              "       [5. , 3. , 1.6, 0.2],\n",
              "       [5. , 3.4, 1.6, 0.4],\n",
              "       [5.2, 3.5, 1.5, 0.2],\n",
              "       [5.2, 3.4, 1.4, 0.2],\n",
              "       [4.7, 3.2, 1.6, 0.2],\n",
              "       [4.8, 3.1, 1.6, 0.2],\n",
              "       [5.4, 3.4, 1.5, 0.4],\n",
              "       [5.2, 4.1, 1.5, 0.1],\n",
              "       [5.5, 4.2, 1.4, 0.2],\n",
              "       [4.9, 3.1, 1.5, 0.2],\n",
              "       [5. , 3.2, 1.2, 0.2],\n",
              "       [5.5, 3.5, 1.3, 0.2],\n",
              "       [4.9, 3.6, 1.4, 0.1],\n",
              "       [4.4, 3. , 1.3, 0.2],\n",
              "       [5.1, 3.4, 1.5, 0.2],\n",
              "       [5. , 3.5, 1.3, 0.3],\n",
              "       [4.5, 2.3, 1.3, 0.3],\n",
              "       [4.4, 3.2, 1.3, 0.2],\n",
              "       [5. , 3.5, 1.6, 0.6],\n",
              "       [5.1, 3.8, 1.9, 0.4],\n",
              "       [4.8, 3. , 1.4, 0.3],\n",
              "       [5.1, 3.8, 1.6, 0.2],\n",
              "       [4.6, 3.2, 1.4, 0.2],\n",
              "       [5.3, 3.7, 1.5, 0.2],\n",
              "       [5. , 3.3, 1.4, 0.2],\n",
              "       [7. , 3.2, 4.7, 1.4],\n",
              "       [6.4, 3.2, 4.5, 1.5],\n",
              "       [6.9, 3.1, 4.9, 1.5],\n",
              "       [5.5, 2.3, 4. , 1.3],\n",
              "       [6.5, 2.8, 4.6, 1.5],\n",
              "       [5.7, 2.8, 4.5, 1.3],\n",
              "       [6.3, 3.3, 4.7, 1.6],\n",
              "       [4.9, 2.4, 3.3, 1. ],\n",
              "       [6.6, 2.9, 4.6, 1.3],\n",
              "       [5.2, 2.7, 3.9, 1.4],\n",
              "       [5. , 2. , 3.5, 1. ],\n",
              "       [5.9, 3. , 4.2, 1.5],\n",
              "       [6. , 2.2, 4. , 1. ],\n",
              "       [6.1, 2.9, 4.7, 1.4],\n",
              "       [5.6, 2.9, 3.6, 1.3],\n",
              "       [6.7, 3.1, 4.4, 1.4],\n",
              "       [5.6, 3. , 4.5, 1.5],\n",
              "       [5.8, 2.7, 4.1, 1. ],\n",
              "       [6.2, 2.2, 4.5, 1.5],\n",
              "       [5.6, 2.5, 3.9, 1.1],\n",
              "       [5.9, 3.2, 4.8, 1.8],\n",
              "       [6.1, 2.8, 4. , 1.3],\n",
              "       [6.3, 2.5, 4.9, 1.5],\n",
              "       [6.1, 2.8, 4.7, 1.2],\n",
              "       [6.4, 2.9, 4.3, 1.3],\n",
              "       [6.6, 3. , 4.4, 1.4],\n",
              "       [6.8, 2.8, 4.8, 1.4],\n",
              "       [6.7, 3. , 5. , 1.7],\n",
              "       [6. , 2.9, 4.5, 1.5],\n",
              "       [5.7, 2.6, 3.5, 1. ],\n",
              "       [5.5, 2.4, 3.8, 1.1],\n",
              "       [5.5, 2.4, 3.7, 1. ],\n",
              "       [5.8, 2.7, 3.9, 1.2],\n",
              "       [6. , 2.7, 5.1, 1.6],\n",
              "       [5.4, 3. , 4.5, 1.5],\n",
              "       [6. , 3.4, 4.5, 1.6],\n",
              "       [6.7, 3.1, 4.7, 1.5],\n",
              "       [6.3, 2.3, 4.4, 1.3],\n",
              "       [5.6, 3. , 4.1, 1.3],\n",
              "       [5.5, 2.5, 4. , 1.3],\n",
              "       [5.5, 2.6, 4.4, 1.2],\n",
              "       [6.1, 3. , 4.6, 1.4],\n",
              "       [5.8, 2.6, 4. , 1.2],\n",
              "       [5. , 2.3, 3.3, 1. ],\n",
              "       [5.6, 2.7, 4.2, 1.3],\n",
              "       [5.7, 3. , 4.2, 1.2],\n",
              "       [5.7, 2.9, 4.2, 1.3],\n",
              "       [6.2, 2.9, 4.3, 1.3],\n",
              "       [5.1, 2.5, 3. , 1.1],\n",
              "       [5.7, 2.8, 4.1, 1.3],\n",
              "       [6.3, 3.3, 6. , 2.5],\n",
              "       [5.8, 2.7, 5.1, 1.9],\n",
              "       [7.1, 3. , 5.9, 2.1],\n",
              "       [6.3, 2.9, 5.6, 1.8],\n",
              "       [6.5, 3. , 5.8, 2.2],\n",
              "       [7.6, 3. , 6.6, 2.1],\n",
              "       [4.9, 2.5, 4.5, 1.7],\n",
              "       [7.3, 2.9, 6.3, 1.8],\n",
              "       [6.7, 2.5, 5.8, 1.8],\n",
              "       [7.2, 3.6, 6.1, 2.5],\n",
              "       [6.5, 3.2, 5.1, 2. ],\n",
              "       [6.4, 2.7, 5.3, 1.9],\n",
              "       [6.8, 3. , 5.5, 2.1],\n",
              "       [5.7, 2.5, 5. , 2. ],\n",
              "       [5.8, 2.8, 5.1, 2.4],\n",
              "       [6.4, 3.2, 5.3, 2.3],\n",
              "       [6.5, 3. , 5.5, 1.8],\n",
              "       [7.7, 3.8, 6.7, 2.2],\n",
              "       [7.7, 2.6, 6.9, 2.3],\n",
              "       [6. , 2.2, 5. , 1.5],\n",
              "       [6.9, 3.2, 5.7, 2.3],\n",
              "       [5.6, 2.8, 4.9, 2. ],\n",
              "       [7.7, 2.8, 6.7, 2. ],\n",
              "       [6.3, 2.7, 4.9, 1.8],\n",
              "       [6.7, 3.3, 5.7, 2.1],\n",
              "       [7.2, 3.2, 6. , 1.8],\n",
              "       [6.2, 2.8, 4.8, 1.8],\n",
              "       [6.1, 3. , 4.9, 1.8],\n",
              "       [6.4, 2.8, 5.6, 2.1],\n",
              "       [7.2, 3. , 5.8, 1.6],\n",
              "       [7.4, 2.8, 6.1, 1.9],\n",
              "       [7.9, 3.8, 6.4, 2. ],\n",
              "       [6.4, 2.8, 5.6, 2.2],\n",
              "       [6.3, 2.8, 5.1, 1.5],\n",
              "       [6.1, 2.6, 5.6, 1.4],\n",
              "       [7.7, 3. , 6.1, 2.3],\n",
              "       [6.3, 3.4, 5.6, 2.4],\n",
              "       [6.4, 3.1, 5.5, 1.8],\n",
              "       [6. , 3. , 4.8, 1.8],\n",
              "       [6.9, 3.1, 5.4, 2.1],\n",
              "       [6.7, 3.1, 5.6, 2.4],\n",
              "       [6.9, 3.1, 5.1, 2.3],\n",
              "       [5.8, 2.7, 5.1, 1.9],\n",
              "       [6.8, 3.2, 5.9, 2.3],\n",
              "       [6.7, 3.3, 5.7, 2.5],\n",
              "       [6.7, 3. , 5.2, 2.3],\n",
              "       [6.3, 2.5, 5. , 1.9],\n",
              "       [6.5, 3. , 5.2, 2. ],\n",
              "       [6.2, 3.4, 5.4, 2.3],\n",
              "       [5.9, 3. , 5.1, 1.8]])"
            ]
          },
          "metadata": {
            "tags": []
          },
          "execution_count": 4
        }
      ]
    },
    {
      "cell_type": "markdown",
      "metadata": {
        "id": "voUiGxO7dYqZ"
      },
      "source": [
        "Now we will upload the Y/target data aka RESPONSE"
      ]
    },
    {
      "cell_type": "code",
      "metadata": {
        "id": "kSF4NywEc6I_",
        "colab": {
          "base_uri": "https://localhost:8080/"
        },
        "outputId": "5b03cd45-4998-4e36-dfef-2ce391c17888"
      },
      "source": [
        "# store the response/label vector in 'y'\n",
        "y= iris.target\n",
        "# has 150 rows and no cols\n",
        "y.shape"
      ],
      "execution_count": null,
      "outputs": [
        {
          "output_type": "execute_result",
          "data": {
            "text/plain": [
              "(150,)"
            ]
          },
          "metadata": {
            "tags": []
          },
          "execution_count": 5
        }
      ]
    },
    {
      "cell_type": "code",
      "metadata": {
        "id": "74m6HdaqfePI",
        "colab": {
          "base_uri": "https://localhost:8080/"
        },
        "outputId": "37ae09f0-17e4-431c-f1d7-f7bcc05a26dc"
      },
      "source": [
        "# prints app rows up to 9\n",
        "y[:10]"
      ],
      "execution_count": null,
      "outputs": [
        {
          "output_type": "execute_result",
          "data": {
            "text/plain": [
              "array([0, 0, 0, 0, 0, 0, 0, 0, 0, 0])"
            ]
          },
          "metadata": {
            "tags": []
          },
          "execution_count": 6
        }
      ]
    },
    {
      "cell_type": "markdown",
      "metadata": {
        "id": "Q-h7FeW4l4WF"
      },
      "source": [
        "###y is already label-encoded: \n",
        "\n",
        "\n",
        "---\n",
        "\n",
        "\n",
        "*   0 = 'Setosa'\n",
        "*   1 = 'Versicola'\n",
        "*   2 = 'Virginica'\n",
        "\n",
        "\n",
        "\n",
        "\n",
        "---\n",
        "\n"
      ]
    },
    {
      "cell_type": "code",
      "metadata": {
        "id": "JsSUFbHrl2c8",
        "colab": {
          "base_uri": "https://localhost:8080/"
        },
        "outputId": "ba21b75d-61a4-46fc-9870-17bd6f19c394"
      },
      "source": [
        "y"
      ],
      "execution_count": null,
      "outputs": [
        {
          "output_type": "execute_result",
          "data": {
            "text/plain": [
              "array([0, 0, 0, 0, 0, 0, 0, 0, 0, 0, 0, 0, 0, 0, 0, 0, 0, 0, 0, 0, 0, 0,\n",
              "       0, 0, 0, 0, 0, 0, 0, 0, 0, 0, 0, 0, 0, 0, 0, 0, 0, 0, 0, 0, 0, 0,\n",
              "       0, 0, 0, 0, 0, 0, 1, 1, 1, 1, 1, 1, 1, 1, 1, 1, 1, 1, 1, 1, 1, 1,\n",
              "       1, 1, 1, 1, 1, 1, 1, 1, 1, 1, 1, 1, 1, 1, 1, 1, 1, 1, 1, 1, 1, 1,\n",
              "       1, 1, 1, 1, 1, 1, 1, 1, 1, 1, 1, 1, 2, 2, 2, 2, 2, 2, 2, 2, 2, 2,\n",
              "       2, 2, 2, 2, 2, 2, 2, 2, 2, 2, 2, 2, 2, 2, 2, 2, 2, 2, 2, 2, 2, 2,\n",
              "       2, 2, 2, 2, 2, 2, 2, 2, 2, 2, 2, 2, 2, 2, 2, 2, 2, 2])"
            ]
          },
          "metadata": {
            "tags": []
          },
          "execution_count": 7
        }
      ]
    },
    {
      "cell_type": "code",
      "metadata": {
        "id": "hFpfSOg8h1AB",
        "colab": {
          "base_uri": "https://localhost:8080/"
        },
        "outputId": "2472f571-b220-4256-a5d1-5f7f8d9ac920"
      },
      "source": [
        "iris.target_names"
      ],
      "execution_count": null,
      "outputs": [
        {
          "output_type": "execute_result",
          "data": {
            "text/plain": [
              "array(['setosa', 'versicolor', 'virginica'], dtype='<U10')"
            ]
          },
          "metadata": {
            "tags": []
          },
          "execution_count": 8
        }
      ]
    },
    {
      "cell_type": "markdown",
      "metadata": {
        "id": "gP7gBKaCmYld"
      },
      "source": [
        "##Scikit-Learn 4-Step Modeling Pattern (ICFP)"
      ]
    },
    {
      "cell_type": "markdown",
      "metadata": {
        "id": "5dO7vTyouN-e"
      },
      "source": [
        "###Step 1: Import the Machine Learning Model you plan to use"
      ]
    },
    {
      "cell_type": "code",
      "metadata": {
        "id": "MRK0pXP5uDj2"
      },
      "source": [
        "# import KNeighborClassifier\n",
        "\n",
        "from sklearn.neighbors import KNeighborsClassifier"
      ],
      "execution_count": null,
      "outputs": []
    },
    {
      "cell_type": "markdown",
      "metadata": {
        "id": "dck_0TUfuX8X"
      },
      "source": [
        "###Step 2: Create intance of the model with the parameters specified"
      ]
    },
    {
      "cell_type": "markdown",
      "metadata": {
        "id": "0_VxzzTwo_Ce"
      },
      "source": [
        " \n",
        "[API Documentation Link](https://scikit-learn.org/stable/modules/generated/sklearn.neighbors.KNeighborsClassifier.html)\n",
        "\n",
        "About KNeighborsClassification"
      ]
    },
    {
      "cell_type": "code",
      "metadata": {
        "id": "gKiacAGqmUtk"
      },
      "source": [
        "# http://scikit-learn.org/stable/modules/generated/sklearn.neighbors.KNeighborsClassifier.html\n",
        "knn = KNeighborsClassifier(n_neighbors=3)"
      ],
      "execution_count": null,
      "outputs": []
    },
    {
      "cell_type": "markdown",
      "metadata": {
        "id": "rQgWZWVqsiPj"
      },
      "source": [
        "\n",
        "\n",
        "*   Name of object does not matter\n",
        "*   All parameters not specified are set to defaults\n",
        "\n",
        "\n"
      ]
    },
    {
      "cell_type": "code",
      "metadata": {
        "id": "TYC2xSXOsrg8",
        "colab": {
          "base_uri": "https://localhost:8080/"
        },
        "outputId": "12497c6a-cbfd-4081-f75e-f6d9fea94ded"
      },
      "source": [
        "# printing this model will show parameter settings\n",
        "print(knn)"
      ],
      "execution_count": null,
      "outputs": [
        {
          "output_type": "stream",
          "text": [
            "KNeighborsClassifier(algorithm='auto', leaf_size=30, metric='minkowski',\n",
            "                     metric_params=None, n_jobs=None, n_neighbors=3, p=2,\n",
            "                     weights='uniform')\n"
          ],
          "name": "stdout"
        }
      ]
    },
    {
      "cell_type": "markdown",
      "metadata": {
        "id": "w3qwTbvmujTA"
      },
      "source": [
        "###Step 3: Fit the model with data (aka \"Model Training\")\n",
        "*   Model is learning the relationship between X(Input Matrix) and y(Target Vector)\n",
        "### *   Notice X must be a matrix and Y must be a 1d array"
      ]
    },
    {
      "cell_type": "markdown",
      "metadata": {
        "id": "xrzW1c4Pv7QL"
      },
      "source": [
        "```knn.fit(X, y)``` what does fit do? Fit the model using X as training data and y as target values"
      ]
    },
    {
      "cell_type": "code",
      "metadata": {
        "id": "PWV1pClGtmaY",
        "colab": {
          "base_uri": "https://localhost:8080/"
        },
        "outputId": "50839760-fd81-4423-a5c0-7e56eb477e77"
      },
      "source": [
        "#X must be a matrix and Y must be a 1d array\n",
        "knn.fit(X, y)"
      ],
      "execution_count": null,
      "outputs": [
        {
          "output_type": "execute_result",
          "data": {
            "text/plain": [
              "KNeighborsClassifier(algorithm='auto', leaf_size=30, metric='minkowski',\n",
              "                     metric_params=None, n_jobs=None, n_neighbors=3, p=2,\n",
              "                     weights='uniform')"
            ]
          },
          "metadata": {
            "tags": []
          },
          "execution_count": 12
        }
      ]
    },
    {
      "cell_type": "markdown",
      "metadata": {
        "id": "OIzS-W8HwOzM"
      },
      "source": [
        "###Step 4: Predict the target for a new record\n",
        "\n",
        "* ```.predict()``` tales the matrix(2d) as input & \tPredict the class labels for the provided data.\n",
        "\n"
      ]
    },
    {
      "cell_type": "code",
      "metadata": {
        "id": "JZSw1meAwNGB",
        "colab": {
          "base_uri": "https://localhost:8080/"
        },
        "outputId": "dc968b4b-22c2-4838-932b-1f651a10e459"
      },
      "source": [
        "# [[Sepal Length, Sepal width, Petal Length, Petal Width]]\n",
        "knn.predict([[3,5,4,2]])\n",
        "# results ([0]) = 'Setosa', ([1]) = 'Versicolor', ([2]) = 'Virginica' "
      ],
      "execution_count": null,
      "outputs": [
        {
          "output_type": "execute_result",
          "data": {
            "text/plain": [
              "array([1])"
            ]
          },
          "metadata": {
            "tags": []
          },
          "execution_count": 13
        }
      ]
    },
    {
      "cell_type": "markdown",
      "metadata": {
        "id": "-bg7VRcT0LRw"
      },
      "source": [
        "Turns out this new observation results in Versicolor!\n",
        "\n",
        "* Returns a NumPy array\n",
        "* Can predict for multiple observations at once"
      ]
    },
    {
      "cell_type": "code",
      "metadata": {
        "id": "qsdZQQoWzWfT",
        "colab": {
          "base_uri": "https://localhost:8080/"
        },
        "outputId": "60e95e82-a006-4f2c-f272-0f367fb3321c"
      },
      "source": [
        "# new set of observations, to compare to predict result aka type\n",
        "X_new = [[3,5,4,2], [5,4,3,2], [3,4,2,5], [4,2,5,3]]\n",
        "knn.predict(X_new)"
      ],
      "execution_count": null,
      "outputs": [
        {
          "output_type": "execute_result",
          "data": {
            "text/plain": [
              "array([1, 1, 1, 2])"
            ]
          },
          "metadata": {
            "tags": []
          },
          "execution_count": 14
        }
      ]
    },
    {
      "cell_type": "markdown",
      "metadata": {
        "id": "48YZgRMj6XZC"
      },
      "source": [
        "##Using a different Value for K"
      ]
    },
    {
      "cell_type": "code",
      "metadata": {
        "id": "9BdJ6nAg5S8z",
        "colab": {
          "base_uri": "https://localhost:8080/"
        },
        "outputId": "92997206-515b-44d5-fa6e-e6e9285e20d3"
      },
      "source": [
        "#instantiate the model (using the value K=10)\n",
        "knn = KNeighborsClassifier(n_neighbors=10)\n",
        "#Fit the model with the matrix and data and target\n",
        "knn.fit(X, y)\n",
        "#predict the response for the new observations\n",
        "knn.predict(X_new)"
      ],
      "execution_count": null,
      "outputs": [
        {
          "output_type": "execute_result",
          "data": {
            "text/plain": [
              "array([1, 1, 1, 2])"
            ]
          },
          "metadata": {
            "tags": []
          },
          "execution_count": 15
        }
      ]
    },
    {
      "cell_type": "markdown",
      "metadata": {
        "id": "26jCLUOkMmJN"
      },
      "source": [
        ""
      ]
    },
    {
      "cell_type": "markdown",
      "metadata": {
        "id": "1dyrcEc6MoIH"
      },
      "source": [
        "---\n",
        "#Part 2: Data Science Pipeline Pandas + visualixation + Scikit Learn"
      ]
    },
    {
      "cell_type": "markdown",
      "metadata": {
        "id": "cn2aeq_VN5-Z"
      },
      "source": [
        "##Step 1: Reading/Processing data using pandas"
      ]
    },
    {
      "cell_type": "code",
      "metadata": {
        "id": "4kWZEbobjSKI"
      },
      "source": [
        "# imports\n",
        "import pandas as pd"
      ],
      "execution_count": null,
      "outputs": []
    },
    {
      "cell_type": "code",
      "metadata": {
        "id": "NJUnpZfGrALY",
        "colab": {
          "base_uri": "https://localhost:8080/",
          "height": 203
        },
        "outputId": "f607b3fd-7ece-4fcc-b224-24fa1f1448ac"
      },
      "source": [
        "# read csv of advertising data\n",
        "data = pd.read_csv('/content/data/Advertising.csv', index_col=0)\n",
        "# displats the data top 5 entries/rows\n",
        "data.head()"
      ],
      "execution_count": null,
      "outputs": [
        {
          "output_type": "execute_result",
          "data": {
            "text/html": [
              "<div>\n",
              "<style scoped>\n",
              "    .dataframe tbody tr th:only-of-type {\n",
              "        vertical-align: middle;\n",
              "    }\n",
              "\n",
              "    .dataframe tbody tr th {\n",
              "        vertical-align: top;\n",
              "    }\n",
              "\n",
              "    .dataframe thead th {\n",
              "        text-align: right;\n",
              "    }\n",
              "</style>\n",
              "<table border=\"1\" class=\"dataframe\">\n",
              "  <thead>\n",
              "    <tr style=\"text-align: right;\">\n",
              "      <th></th>\n",
              "      <th>TV</th>\n",
              "      <th>radio</th>\n",
              "      <th>newspaper</th>\n",
              "      <th>sales</th>\n",
              "    </tr>\n",
              "  </thead>\n",
              "  <tbody>\n",
              "    <tr>\n",
              "      <th>1</th>\n",
              "      <td>230.1</td>\n",
              "      <td>37.8</td>\n",
              "      <td>69.2</td>\n",
              "      <td>22.1</td>\n",
              "    </tr>\n",
              "    <tr>\n",
              "      <th>2</th>\n",
              "      <td>44.5</td>\n",
              "      <td>39.3</td>\n",
              "      <td>45.1</td>\n",
              "      <td>10.4</td>\n",
              "    </tr>\n",
              "    <tr>\n",
              "      <th>3</th>\n",
              "      <td>17.2</td>\n",
              "      <td>45.9</td>\n",
              "      <td>69.3</td>\n",
              "      <td>9.3</td>\n",
              "    </tr>\n",
              "    <tr>\n",
              "      <th>4</th>\n",
              "      <td>151.5</td>\n",
              "      <td>41.3</td>\n",
              "      <td>58.5</td>\n",
              "      <td>18.5</td>\n",
              "    </tr>\n",
              "    <tr>\n",
              "      <th>5</th>\n",
              "      <td>180.8</td>\n",
              "      <td>10.8</td>\n",
              "      <td>58.4</td>\n",
              "      <td>12.9</td>\n",
              "    </tr>\n",
              "  </tbody>\n",
              "</table>\n",
              "</div>"
            ],
            "text/plain": [
              "      TV  radio  newspaper  sales\n",
              "1  230.1   37.8       69.2   22.1\n",
              "2   44.5   39.3       45.1   10.4\n",
              "3   17.2   45.9       69.3    9.3\n",
              "4  151.5   41.3       58.5   18.5\n",
              "5  180.8   10.8       58.4   12.9"
            ]
          },
          "metadata": {
            "tags": []
          },
          "execution_count": 17
        }
      ]
    },
    {
      "cell_type": "code",
      "metadata": {
        "id": "X4C2LqdrsyH9",
        "colab": {
          "base_uri": "https://localhost:8080/",
          "height": 35
        },
        "outputId": "f4fcf846-fd75-4d12-dd2e-3d89e2fc960d"
      },
      "source": [
        "# Return the shape of the data\n",
        "data.shape"
      ],
      "execution_count": null,
      "outputs": [
        {
          "output_type": "execute_result",
          "data": {
            "text/plain": [
              "(200, 4)"
            ]
          },
          "metadata": {
            "tags": []
          },
          "execution_count": 18
        }
      ]
    },
    {
      "cell_type": "markdown",
      "metadata": {
        "id": "3kh8bNchOEeW"
      },
      "source": [
        " ---\n",
        " Facts about the data\n",
        "\n",
        "---\n",
        " **What are the features?**\n",
        " * **TV**: Ads dollars spent on TV for a single product in a given market (in thousands of dollars)\n",
        " * **Radio**: Ads dollars spent ont he Radio\n",
        " * **Newspaper**: Ads dollars spent on Newspapers\n",
        " ---\n",
        " **What is the response?**\n",
        " * **Sales**: Sales of a single product in a given market (in thousands of items)\n",
        " ---\n",
        "\n",
        " **What else do we know?**\n",
        "* Because the response variables is continuous, this is a **regression** problem.\n",
        "* There are 200 **observtions** (represented by rows in the data).\n",
        "---\n"
      ]
    },
    {
      "cell_type": "markdown",
      "metadata": {
        "id": "-h7Q38A3OOeM"
      },
      "source": [
        "##Step 2: Visualizing data using pandas to understand it better"
      ]
    },
    {
      "cell_type": "code",
      "metadata": {
        "id": "AnY01mIHy-sk"
      },
      "source": [
        "# allows charts to be seen in notebook\n",
        "%matplotlib inline"
      ],
      "execution_count": null,
      "outputs": []
    },
    {
      "cell_type": "markdown",
      "metadata": {
        "id": "3GWInLJm3TLu"
      },
      "source": [
        "---\n",
        "**Dollars spent in thousands for TV Ads Vs. Sales of TVs in thousands**\n",
        "\n",
        "---\n"
      ]
    },
    {
      "cell_type": "code",
      "metadata": {
        "id": "Lin9nLXkzky6",
        "colab": {
          "base_uri": "https://localhost:8080/",
          "height": 421
        },
        "outputId": "328b32f2-8aac-4cb4-f7bf-7f0970b1d3d6"
      },
      "source": [
        "data.plot(x='TV', y='sales', kind='scatter', figsize=(12,6), title='TV ads spent in Thousands VS. Sales of TVs in Thousands')"
      ],
      "execution_count": null,
      "outputs": [
        {
          "output_type": "execute_result",
          "data": {
            "text/plain": [
              "<matplotlib.axes._subplots.AxesSubplot at 0x7f9f2f4f88d0>"
            ]
          },
          "metadata": {
            "tags": []
          },
          "execution_count": 20
        },
        {
          "output_type": "display_data",
          "data": {
            "image/png": "[encoded data removed]",
            "text/plain": [
              "<Figure size 864x432 with 1 Axes>"
            ]
          },
          "metadata": {
            "tags": [],
            "needs_background": "light"
          }
        }
      ]
    },
    {
      "cell_type": "markdown",
      "metadata": {
        "id": "0ZjAubPrOnpe"
      },
      "source": [
        "---\n",
        "**Dollars Spent in Thousands on Radio Ads Vs. Sales in Radios in Thousands**\n",
        "\n",
        "---"
      ]
    },
    {
      "cell_type": "code",
      "metadata": {
        "id": "v3pKY3-cMqYr",
        "colab": {
          "base_uri": "https://localhost:8080/",
          "height": 421
        },
        "outputId": "4dff2fc7-51d1-493f-f605-acdc3bafab88"
      },
      "source": [
        "data.plot(x='radio', y='sales', kind='scatter', figsize=(12,6), title='Radio Ads spent in Thousands Vs. Sales of Radios in Thousands')"
      ],
      "execution_count": null,
      "outputs": [
        {
          "output_type": "execute_result",
          "data": {
            "text/plain": [
              "<matplotlib.axes._subplots.AxesSubplot at 0x7f9f2f3d8470>"
            ]
          },
          "metadata": {
            "tags": []
          },
          "execution_count": 21
        },
        {
          "output_type": "display_data",
          "data": {
            "image/png": "[encoded data removed]",
            "text/plain": [
              "<Figure size 864x432 with 1 Axes>"
            ]
          },
          "metadata": {
            "tags": [],
            "needs_background": "light"
          }
        }
      ]
    },
    {
      "cell_type": "markdown",
      "metadata": {
        "id": "bOmZ2DiFG03D"
      },
      "source": [
        "---\n",
        "**Dollars Spent in Thousands on Newspaper Ads Vs. Sales on Newspapers in Thousands**\n",
        "\n",
        "---"
      ]
    },
    {
      "cell_type": "code",
      "metadata": {
        "id": "EK094e3h5Sz_",
        "colab": {
          "base_uri": "https://localhost:8080/",
          "height": 421
        },
        "outputId": "88807c82-2426-41de-853a-570c07c1ea96"
      },
      "source": [
        "data.plot(x='newspaper', y='sales', kind='scatter', figsize=(12,6), title='Newspaper Ads spent in Thousands Vs. Sales of Newspapers in Thousands')"
      ],
      "execution_count": null,
      "outputs": [
        {
          "output_type": "execute_result",
          "data": {
            "text/plain": [
              "<matplotlib.axes._subplots.AxesSubplot at 0x7f9f2eefd940>"
            ]
          },
          "metadata": {
            "tags": []
          },
          "execution_count": 22
        },
        {
          "output_type": "display_data",
          "data": {
            "image/png": "[encoded data removed]",
            "text/plain": [
              "<Figure size 864x432 with 1 Axes>"
            ]
          },
          "metadata": {
            "tags": [],
            "needs_background": "light"
          }
        }
      ]
    },
    {
      "cell_type": "markdown",
      "metadata": {
        "id": "xB6rzbKvE7ST"
      },
      "source": [
        "---\n",
        "Implementing ```scatter_matrix```\n",
        "\n",
        "```from pandas.plotting import scatter_matrix```\n",
        "\n",
        "---"
      ]
    },
    {
      "cell_type": "code",
      "metadata": {
        "id": "QN6fgqNjEx11",
        "colab": {
          "base_uri": "https://localhost:8080/",
          "height": 911
        },
        "outputId": "2435f65b-8c19-4268-cf08-12dea99ff9dc"
      },
      "source": [
        "#imports\n",
        "from pandas.plotting import scatter_matrix\n",
        "\n",
        "#scatter_matrix makes the daigonal charts histograms\n",
        "scatter_matrix(data, figsize=(10,10), diagonal='hist')"
      ],
      "execution_count": null,
      "outputs": [
        {
          "output_type": "execute_result",
          "data": {
            "text/plain": [
              "array([[<matplotlib.axes._subplots.AxesSubplot object at 0x7f9f2eed51d0>,\n",
              "        <matplotlib.axes._subplots.AxesSubplot object at 0x7f9f2ef60cf8>,\n",
              "        <matplotlib.axes._subplots.AxesSubplot object at 0x7f9f2eea97f0>,\n",
              "        <matplotlib.axes._subplots.AxesSubplot object at 0x7f9f2ee5fa58>],\n",
              "       [<matplotlib.axes._subplots.AxesSubplot object at 0x7f9f2ee12cc0>,\n",
              "        <matplotlib.axes._subplots.AxesSubplot object at 0x7f9f2edc8f28>,\n",
              "        <matplotlib.axes._subplots.AxesSubplot object at 0x7f9f2ed871d0>,\n",
              "        <matplotlib.axes._subplots.AxesSubplot object at 0x7f9f2ed3d400>],\n",
              "       [<matplotlib.axes._subplots.AxesSubplot object at 0x7f9f2ed3d470>,\n",
              "        <matplotlib.axes._subplots.AxesSubplot object at 0x7f9f2ed22908>,\n",
              "        <matplotlib.axes._subplots.AxesSubplot object at 0x7f9f2ecd5b70>,\n",
              "        <matplotlib.axes._subplots.AxesSubplot object at 0x7f9f2ec8bdd8>],\n",
              "       [<matplotlib.axes._subplots.AxesSubplot object at 0x7f9f2ec4b048>,\n",
              "        <matplotlib.axes._subplots.AxesSubplot object at 0x7f9f2ec002e8>,\n",
              "        <matplotlib.axes._subplots.AxesSubplot object at 0x7f9f2ebb1550>,\n",
              "        <matplotlib.axes._subplots.AxesSubplot object at 0x7f9f2ebe87b8>]],\n",
              "      dtype=object)"
            ]
          },
          "metadata": {
            "tags": []
          },
          "execution_count": 23
        },
        {
          "output_type": "display_data",
          "data": {
            "image/png": "[encoded data removed]",
            "text/plain": [
              "<Figure size 720x720 with 16 Axes>"
            ]
          },
          "metadata": {
            "tags": [],
            "needs_background": "light"
          }
        }
      ]
    },
    {
      "cell_type": "code",
      "metadata": {
        "id": "40U1qN-YIYYg",
        "colab": {
          "base_uri": "https://localhost:8080/",
          "height": 172
        },
        "outputId": "c101bf07-29ab-4acc-f0fa-7a751d662e38"
      },
      "source": [
        "# compute pairwise correlations of columns\n",
        "data.corr() "
      ],
      "execution_count": null,
      "outputs": [
        {
          "output_type": "execute_result",
          "data": {
            "text/html": [
              "<div>\n",
              "<style scoped>\n",
              "    .dataframe tbody tr th:only-of-type {\n",
              "        vertical-align: middle;\n",
              "    }\n",
              "\n",
              "    .dataframe tbody tr th {\n",
              "        vertical-align: top;\n",
              "    }\n",
              "\n",
              "    .dataframe thead th {\n",
              "        text-align: right;\n",
              "    }\n",
              "</style>\n",
              "<table border=\"1\" class=\"dataframe\">\n",
              "  <thead>\n",
              "    <tr style=\"text-align: right;\">\n",
              "      <th></th>\n",
              "      <th>TV</th>\n",
              "      <th>radio</th>\n",
              "      <th>newspaper</th>\n",
              "      <th>sales</th>\n",
              "    </tr>\n",
              "  </thead>\n",
              "  <tbody>\n",
              "    <tr>\n",
              "      <th>TV</th>\n",
              "      <td>1.000000</td>\n",
              "      <td>0.054809</td>\n",
              "      <td>0.056648</td>\n",
              "      <td>0.782224</td>\n",
              "    </tr>\n",
              "    <tr>\n",
              "      <th>radio</th>\n",
              "      <td>0.054809</td>\n",
              "      <td>1.000000</td>\n",
              "      <td>0.354104</td>\n",
              "      <td>0.576223</td>\n",
              "    </tr>\n",
              "    <tr>\n",
              "      <th>newspaper</th>\n",
              "      <td>0.056648</td>\n",
              "      <td>0.354104</td>\n",
              "      <td>1.000000</td>\n",
              "      <td>0.228299</td>\n",
              "    </tr>\n",
              "    <tr>\n",
              "      <th>sales</th>\n",
              "      <td>0.782224</td>\n",
              "      <td>0.576223</td>\n",
              "      <td>0.228299</td>\n",
              "      <td>1.000000</td>\n",
              "    </tr>\n",
              "  </tbody>\n",
              "</table>\n",
              "</div>"
            ],
            "text/plain": [
              "                 TV     radio  newspaper     sales\n",
              "TV         1.000000  0.054809   0.056648  0.782224\n",
              "radio      0.054809  1.000000   0.354104  0.576223\n",
              "newspaper  0.056648  0.354104   1.000000  0.228299\n",
              "sales      0.782224  0.576223   0.228299  1.000000"
            ]
          },
          "metadata": {
            "tags": []
          },
          "execution_count": 24
        }
      ]
    },
    {
      "cell_type": "code",
      "metadata": {
        "id": "PS3QyhlkI4W3",
        "colab": {
          "base_uri": "https://localhost:8080/",
          "height": 295
        },
        "outputId": "3ae28c30-387f-49f3-df17-9adc3e2fd522"
      },
      "source": [
        "# summary of descriptive statistics\n",
        "data.describe()"
      ],
      "execution_count": null,
      "outputs": [
        {
          "output_type": "execute_result",
          "data": {
            "text/html": [
              "<div>\n",
              "<style scoped>\n",
              "    .dataframe tbody tr th:only-of-type {\n",
              "        vertical-align: middle;\n",
              "    }\n",
              "\n",
              "    .dataframe tbody tr th {\n",
              "        vertical-align: top;\n",
              "    }\n",
              "\n",
              "    .dataframe thead th {\n",
              "        text-align: right;\n",
              "    }\n",
              "</style>\n",
              "<table border=\"1\" class=\"dataframe\">\n",
              "  <thead>\n",
              "    <tr style=\"text-align: right;\">\n",
              "      <th></th>\n",
              "      <th>TV</th>\n",
              "      <th>radio</th>\n",
              "      <th>newspaper</th>\n",
              "      <th>sales</th>\n",
              "    </tr>\n",
              "  </thead>\n",
              "  <tbody>\n",
              "    <tr>\n",
              "      <th>count</th>\n",
              "      <td>200.000000</td>\n",
              "      <td>200.000000</td>\n",
              "      <td>200.000000</td>\n",
              "      <td>200.000000</td>\n",
              "    </tr>\n",
              "    <tr>\n",
              "      <th>mean</th>\n",
              "      <td>147.042500</td>\n",
              "      <td>23.264000</td>\n",
              "      <td>30.554000</td>\n",
              "      <td>14.022500</td>\n",
              "    </tr>\n",
              "    <tr>\n",
              "      <th>std</th>\n",
              "      <td>85.854236</td>\n",
              "      <td>14.846809</td>\n",
              "      <td>21.778621</td>\n",
              "      <td>5.217457</td>\n",
              "    </tr>\n",
              "    <tr>\n",
              "      <th>min</th>\n",
              "      <td>0.700000</td>\n",
              "      <td>0.000000</td>\n",
              "      <td>0.300000</td>\n",
              "      <td>1.600000</td>\n",
              "    </tr>\n",
              "    <tr>\n",
              "      <th>25%</th>\n",
              "      <td>74.375000</td>\n",
              "      <td>9.975000</td>\n",
              "      <td>12.750000</td>\n",
              "      <td>10.375000</td>\n",
              "    </tr>\n",
              "    <tr>\n",
              "      <th>50%</th>\n",
              "      <td>149.750000</td>\n",
              "      <td>22.900000</td>\n",
              "      <td>25.750000</td>\n",
              "      <td>12.900000</td>\n",
              "    </tr>\n",
              "    <tr>\n",
              "      <th>75%</th>\n",
              "      <td>218.825000</td>\n",
              "      <td>36.525000</td>\n",
              "      <td>45.100000</td>\n",
              "      <td>17.400000</td>\n",
              "    </tr>\n",
              "    <tr>\n",
              "      <th>max</th>\n",
              "      <td>296.400000</td>\n",
              "      <td>49.600000</td>\n",
              "      <td>114.000000</td>\n",
              "      <td>27.000000</td>\n",
              "    </tr>\n",
              "  </tbody>\n",
              "</table>\n",
              "</div>"
            ],
            "text/plain": [
              "               TV       radio   newspaper       sales\n",
              "count  200.000000  200.000000  200.000000  200.000000\n",
              "mean   147.042500   23.264000   30.554000   14.022500\n",
              "std     85.854236   14.846809   21.778621    5.217457\n",
              "min      0.700000    0.000000    0.300000    1.600000\n",
              "25%     74.375000    9.975000   12.750000   10.375000\n",
              "50%    149.750000   22.900000   25.750000   12.900000\n",
              "75%    218.825000   36.525000   45.100000   17.400000\n",
              "max    296.400000   49.600000  114.000000   27.000000"
            ]
          },
          "metadata": {
            "tags": []
          },
          "execution_count": 25
        }
      ]
    },
    {
      "cell_type": "markdown",
      "metadata": {
        "id": "4_uC-nnmJpTv"
      },
      "source": [
        "##Step 3: Model Training"
      ]
    },
    {
      "cell_type": "markdown",
      "metadata": {
        "id": "0qBZ5EpDJ5pJ"
      },
      "source": [
        "---\n",
        "###Preparing X(feature matrix) and y (target vector) using pandas\n",
        "* Scikit-learn expects X(feature matrix) and y (response vector) to be NumPy arrays.\n",
        "* However, pandas is built on top of NumPy\n",
        "\n",
        "### *** Thus, X can be a pandas Datafram an Y can be a pandas Series ***\n",
        "\n",
        "---"
      ]
    },
    {
      "cell_type": "markdown",
      "metadata": {
        "id": "tpIFmwvRKeiy"
      },
      "source": [
        "####Here the problem we are trying to solve is a regression problem."
      ]
    },
    {
      "cell_type": "code",
      "metadata": {
        "id": "7ZDB5g8HJbCV",
        "colab": {
          "base_uri": "https://localhost:8080/",
          "height": 203
        },
        "outputId": "e67fc3df-c992-418c-fd15-72490f22689c"
      },
      "source": [
        "# create a python list of feature names\n",
        "feature_cols = ['TV', 'radio', 'newspaper']\n",
        "\n",
        "# uses the list to select those specific Series data for X meaning it excludes sales\n",
        "X = data[feature_cols]\n",
        "# equivalence X=data['TV', 'radio', 'newspaper']\n",
        "\n",
        "X.head()"
      ],
      "execution_count": null,
      "outputs": [
        {
          "output_type": "execute_result",
          "data": {
            "text/html": [
              "<div>\n",
              "<style scoped>\n",
              "    .dataframe tbody tr th:only-of-type {\n",
              "        vertical-align: middle;\n",
              "    }\n",
              "\n",
              "    .dataframe tbody tr th {\n",
              "        vertical-align: top;\n",
              "    }\n",
              "\n",
              "    .dataframe thead th {\n",
              "        text-align: right;\n",
              "    }\n",
              "</style>\n",
              "<table border=\"1\" class=\"dataframe\">\n",
              "  <thead>\n",
              "    <tr style=\"text-align: right;\">\n",
              "      <th></th>\n",
              "      <th>TV</th>\n",
              "      <th>radio</th>\n",
              "      <th>newspaper</th>\n",
              "    </tr>\n",
              "  </thead>\n",
              "  <tbody>\n",
              "    <tr>\n",
              "      <th>1</th>\n",
              "      <td>230.1</td>\n",
              "      <td>37.8</td>\n",
              "      <td>69.2</td>\n",
              "    </tr>\n",
              "    <tr>\n",
              "      <th>2</th>\n",
              "      <td>44.5</td>\n",
              "      <td>39.3</td>\n",
              "      <td>45.1</td>\n",
              "    </tr>\n",
              "    <tr>\n",
              "      <th>3</th>\n",
              "      <td>17.2</td>\n",
              "      <td>45.9</td>\n",
              "      <td>69.3</td>\n",
              "    </tr>\n",
              "    <tr>\n",
              "      <th>4</th>\n",
              "      <td>151.5</td>\n",
              "      <td>41.3</td>\n",
              "      <td>58.5</td>\n",
              "    </tr>\n",
              "    <tr>\n",
              "      <th>5</th>\n",
              "      <td>180.8</td>\n",
              "      <td>10.8</td>\n",
              "      <td>58.4</td>\n",
              "    </tr>\n",
              "  </tbody>\n",
              "</table>\n",
              "</div>"
            ],
            "text/plain": [
              "      TV  radio  newspaper\n",
              "1  230.1   37.8       69.2\n",
              "2   44.5   39.3       45.1\n",
              "3   17.2   45.9       69.3\n",
              "4  151.5   41.3       58.5\n",
              "5  180.8   10.8       58.4"
            ]
          },
          "metadata": {
            "tags": []
          },
          "execution_count": 26
        }
      ]
    },
    {
      "cell_type": "code",
      "metadata": {
        "id": "A8Hz1YDcPsu_",
        "colab": {
          "base_uri": "https://localhost:8080/",
          "height": 52
        },
        "outputId": "16ca48e9-5953-4fd3-d300-244908d30d3d"
      },
      "source": [
        "#Cheack the type for X and print the shape\n",
        "print(type(X))\n",
        "X.shape"
      ],
      "execution_count": null,
      "outputs": [
        {
          "output_type": "stream",
          "text": [
            "<class 'pandas.core.frame.DataFrame'>\n"
          ],
          "name": "stdout"
        },
        {
          "output_type": "execute_result",
          "data": {
            "text/plain": [
              "(200, 3)"
            ]
          },
          "metadata": {
            "tags": []
          },
          "execution_count": 27
        }
      ]
    },
    {
      "cell_type": "code",
      "metadata": {
        "id": "YAZ89f4lRGy-",
        "colab": {
          "base_uri": "https://localhost:8080/",
          "height": 123
        },
        "outputId": "c99962e9-6566-4c58-bc83-e15afc9ee46c"
      },
      "source": [
        "#Select the sales values from the data fram and make it Y\n",
        "y = data['sales']\n",
        "\n",
        "#equivalent to y=data.sales\n",
        "\n",
        "y.head()"
      ],
      "execution_count": null,
      "outputs": [
        {
          "output_type": "execute_result",
          "data": {
            "text/plain": [
              "1    22.1\n",
              "2    10.4\n",
              "3     9.3\n",
              "4    18.5\n",
              "5    12.9\n",
              "Name: sales, dtype: float64"
            ]
          },
          "metadata": {
            "tags": []
          },
          "execution_count": 28
        }
      ]
    },
    {
      "cell_type": "code",
      "metadata": {
        "id": "Bu-qGPx1SA2v",
        "colab": {
          "base_uri": "https://localhost:8080/",
          "height": 52
        },
        "outputId": "d7518e79-a662-47df-e728-7a9d9bbfbf96"
      },
      "source": [
        "#print y type and the shape of y\n",
        "print(type(y))\n",
        "y.shape"
      ],
      "execution_count": null,
      "outputs": [
        {
          "output_type": "stream",
          "text": [
            "<class 'pandas.core.series.Series'>\n"
          ],
          "name": "stdout"
        },
        {
          "output_type": "execute_result",
          "data": {
            "text/plain": [
              "(200,)"
            ]
          },
          "metadata": {
            "tags": []
          },
          "execution_count": 29
        }
      ]
    },
    {
      "cell_type": "markdown",
      "metadata": {
        "id": "ycW95GuMStxV"
      },
      "source": [
        "###For model valuation purpose, we split X and y into training and testing sets"
      ]
    },
    {
      "cell_type": "markdown",
      "metadata": {
        "id": "SijLx-nhW3CK"
      },
      "source": [
        "```\n",
        "from sklearn.model_selection import train_test_split\n",
        "```\n",
        "\n",
        "```train_test_split()``` \n",
        "Split arrays or matrices into random train and test subsets\n",
        "Quick utility that wraps input validation and\n",
        "next(ShuffleSplit().split(X, y)) and application to input data\n",
        "into a single call for splitting (and optionally subsampling) data in a\n",
        "oneliner."
      ]
    },
    {
      "cell_type": "code",
      "metadata": {
        "id": "v0vU2MUVSPKP"
      },
      "source": [
        "#imports\n",
        "from sklearn.model_selection import train_test_split\n",
        "X_train, X_test, y_train, y_test = train_test_split(X, y, test_size= 0.25, random_state=1)"
      ],
      "execution_count": null,
      "outputs": []
    },
    {
      "cell_type": "code",
      "metadata": {
        "id": "U7kf2nj3W0ll",
        "colab": {
          "base_uri": "https://localhost:8080/",
          "height": 87
        },
        "outputId": "3976fb0a-aab5-4a38-b4ba-ae7e746b266e"
      },
      "source": [
        "# default split is 75% for training and 25% for testing\n",
        "print(X_train.shape)\n",
        "print(y_train.shape)\n",
        "print(X_test.shape)\n",
        "print(y_test.shape)"
      ],
      "execution_count": null,
      "outputs": [
        {
          "output_type": "stream",
          "text": [
            "(150, 3)\n",
            "(150,)\n",
            "(50, 3)\n",
            "(50,)\n"
          ],
          "name": "stdout"
        }
      ]
    },
    {
      "cell_type": "markdown",
      "metadata": {
        "id": "Ib0E9KjSY5M7"
      },
      "source": [
        "<img src=\"https://raw.githubusercontent.com/ritchieng/machine-learning-dataschool/master/images/05_train_test_split.png\" style=\"width: 600;\"/>"
      ]
    },
    {
      "cell_type": "code",
      "metadata": {
        "id": "60u6BPOjYyMq",
        "colab": {
          "base_uri": "https://localhost:8080/",
          "height": 203
        },
        "outputId": "3e9a179a-c2cf-4534-fe07-e727cb15588b"
      },
      "source": [
        "#prints first 5 observations/rows from X_train\n",
        "X_train[:5]"
      ],
      "execution_count": null,
      "outputs": [
        {
          "output_type": "execute_result",
          "data": {
            "text/html": [
              "<div>\n",
              "<style scoped>\n",
              "    .dataframe tbody tr th:only-of-type {\n",
              "        vertical-align: middle;\n",
              "    }\n",
              "\n",
              "    .dataframe tbody tr th {\n",
              "        vertical-align: top;\n",
              "    }\n",
              "\n",
              "    .dataframe thead th {\n",
              "        text-align: right;\n",
              "    }\n",
              "</style>\n",
              "<table border=\"1\" class=\"dataframe\">\n",
              "  <thead>\n",
              "    <tr style=\"text-align: right;\">\n",
              "      <th></th>\n",
              "      <th>TV</th>\n",
              "      <th>radio</th>\n",
              "      <th>newspaper</th>\n",
              "    </tr>\n",
              "  </thead>\n",
              "  <tbody>\n",
              "    <tr>\n",
              "      <th>99</th>\n",
              "      <td>289.7</td>\n",
              "      <td>42.3</td>\n",
              "      <td>51.2</td>\n",
              "    </tr>\n",
              "    <tr>\n",
              "      <th>124</th>\n",
              "      <td>123.1</td>\n",
              "      <td>34.6</td>\n",
              "      <td>12.4</td>\n",
              "    </tr>\n",
              "    <tr>\n",
              "      <th>120</th>\n",
              "      <td>19.4</td>\n",
              "      <td>16.0</td>\n",
              "      <td>22.3</td>\n",
              "    </tr>\n",
              "    <tr>\n",
              "      <th>54</th>\n",
              "      <td>182.6</td>\n",
              "      <td>46.2</td>\n",
              "      <td>58.7</td>\n",
              "    </tr>\n",
              "    <tr>\n",
              "      <th>34</th>\n",
              "      <td>265.6</td>\n",
              "      <td>20.0</td>\n",
              "      <td>0.3</td>\n",
              "    </tr>\n",
              "  </tbody>\n",
              "</table>\n",
              "</div>"
            ],
            "text/plain": [
              "        TV  radio  newspaper\n",
              "99   289.7   42.3       51.2\n",
              "124  123.1   34.6       12.4\n",
              "120   19.4   16.0       22.3\n",
              "54   182.6   46.2       58.7\n",
              "34   265.6   20.0        0.3"
            ]
          },
          "metadata": {
            "tags": []
          },
          "execution_count": 32
        }
      ]
    },
    {
      "cell_type": "code",
      "metadata": {
        "id": "7B9VRm08ZlML",
        "colab": {
          "base_uri": "https://localhost:8080/",
          "height": 123
        },
        "outputId": "2822c6cd-1d6f-429a-dcda-80fdb42a32ea"
      },
      "source": [
        "#prints first 5 observations/rows from y_train\n",
        "y_train[:5]"
      ],
      "execution_count": null,
      "outputs": [
        {
          "output_type": "execute_result",
          "data": {
            "text/plain": [
              "99     25.4\n",
              "124    15.2\n",
              "120     6.6\n",
              "54     21.2\n",
              "34     17.4\n",
              "Name: sales, dtype: float64"
            ]
          },
          "metadata": {
            "tags": []
          },
          "execution_count": 33
        }
      ]
    },
    {
      "cell_type": "code",
      "metadata": {
        "id": "tLicvU6Wav0Q",
        "colab": {
          "base_uri": "https://localhost:8080/",
          "height": 203
        },
        "outputId": "bd184a21-8527-4744-9af0-651777a2c1e2"
      },
      "source": [
        "#prints first 5 observations/rows from X_test\n",
        "X_test[:5]"
      ],
      "execution_count": null,
      "outputs": [
        {
          "output_type": "execute_result",
          "data": {
            "text/html": [
              "<div>\n",
              "<style scoped>\n",
              "    .dataframe tbody tr th:only-of-type {\n",
              "        vertical-align: middle;\n",
              "    }\n",
              "\n",
              "    .dataframe tbody tr th {\n",
              "        vertical-align: top;\n",
              "    }\n",
              "\n",
              "    .dataframe thead th {\n",
              "        text-align: right;\n",
              "    }\n",
              "</style>\n",
              "<table border=\"1\" class=\"dataframe\">\n",
              "  <thead>\n",
              "    <tr style=\"text-align: right;\">\n",
              "      <th></th>\n",
              "      <th>TV</th>\n",
              "      <th>radio</th>\n",
              "      <th>newspaper</th>\n",
              "    </tr>\n",
              "  </thead>\n",
              "  <tbody>\n",
              "    <tr>\n",
              "      <th>59</th>\n",
              "      <td>210.8</td>\n",
              "      <td>49.6</td>\n",
              "      <td>37.7</td>\n",
              "    </tr>\n",
              "    <tr>\n",
              "      <th>41</th>\n",
              "      <td>202.5</td>\n",
              "      <td>22.3</td>\n",
              "      <td>31.6</td>\n",
              "    </tr>\n",
              "    <tr>\n",
              "      <th>35</th>\n",
              "      <td>95.7</td>\n",
              "      <td>1.4</td>\n",
              "      <td>7.4</td>\n",
              "    </tr>\n",
              "    <tr>\n",
              "      <th>103</th>\n",
              "      <td>280.2</td>\n",
              "      <td>10.1</td>\n",
              "      <td>21.4</td>\n",
              "    </tr>\n",
              "    <tr>\n",
              "      <th>185</th>\n",
              "      <td>253.8</td>\n",
              "      <td>21.3</td>\n",
              "      <td>30.0</td>\n",
              "    </tr>\n",
              "  </tbody>\n",
              "</table>\n",
              "</div>"
            ],
            "text/plain": [
              "        TV  radio  newspaper\n",
              "59   210.8   49.6       37.7\n",
              "41   202.5   22.3       31.6\n",
              "35    95.7    1.4        7.4\n",
              "103  280.2   10.1       21.4\n",
              "185  253.8   21.3       30.0"
            ]
          },
          "metadata": {
            "tags": []
          },
          "execution_count": 34
        }
      ]
    },
    {
      "cell_type": "code",
      "metadata": {
        "id": "jU03MULsbUO0",
        "colab": {
          "base_uri": "https://localhost:8080/",
          "height": 123
        },
        "outputId": "f2819a82-ba2c-48bb-f4ed-135ab95f0f03"
      },
      "source": [
        "#prints first 5 observations/rows from y_test\n",
        "y_test[:5]"
      ],
      "execution_count": null,
      "outputs": [
        {
          "output_type": "execute_result",
          "data": {
            "text/plain": [
              "59     23.8\n",
              "41     16.6\n",
              "35      9.5\n",
              "103    14.8\n",
              "185    17.6\n",
              "Name: sales, dtype: float64"
            ]
          },
          "metadata": {
            "tags": []
          },
          "execution_count": 35
        }
      ]
    },
    {
      "cell_type": "markdown",
      "metadata": {
        "id": "6tofKkZGbdJj"
      },
      "source": [
        "Ground truth (y_text) will be used later to be compared with model predictions\n",
        "\n",
        "---"
      ]
    },
    {
      "cell_type": "markdown",
      "metadata": {
        "id": "5DpTGou5cCHQ"
      },
      "source": [
        "####Sale amount prediction is a regression problem so let's use a model called linear regression"
      ]
    },
    {
      "cell_type": "markdown",
      "metadata": {
        "id": "newwS9qAeEMi"
      },
      "source": [
        "```from sklearn.linear_model import LinearRegression``` import for lineear regression\n"
      ]
    },
    {
      "cell_type": "code",
      "metadata": {
        "id": "zBegcbzBba-7",
        "colab": {
          "base_uri": "https://localhost:8080/",
          "height": 35
        },
        "outputId": "e1833057-99c3-4db6-90c9-396a63b7fa7d"
      },
      "source": [
        "#import\n",
        "from sklearn.linear_model import LinearRegression\n",
        "\n",
        "#instiantiate the linear regression\n",
        "linreg= LinearRegression()\n",
        "\n",
        "#fit the model to the training data (Learn the Coefficients)\n",
        "linreg.fit(X_train, y_train)"
      ],
      "execution_count": null,
      "outputs": [
        {
          "output_type": "execute_result",
          "data": {
            "text/plain": [
              "LinearRegression(copy_X=True, fit_intercept=True, n_jobs=None, normalize=False)"
            ]
          },
          "metadata": {
            "tags": []
          },
          "execution_count": 36
        }
      ]
    },
    {
      "cell_type": "markdown",
      "metadata": {
        "id": "-cvh42g_cizv"
      },
      "source": [
        "####Making predictions"
      ]
    },
    {
      "cell_type": "code",
      "metadata": {
        "id": "leSlUqw-clzD",
        "colab": {
          "base_uri": "https://localhost:8080/",
          "height": 1000
        },
        "outputId": "df9ebe63-7010-4e6c-f713-ba455bcdab8f"
      },
      "source": [
        "X_test"
      ],
      "execution_count": null,
      "outputs": [
        {
          "output_type": "execute_result",
          "data": {
            "text/html": [
              "<div>\n",
              "<style scoped>\n",
              "    .dataframe tbody tr th:only-of-type {\n",
              "        vertical-align: middle;\n",
              "    }\n",
              "\n",
              "    .dataframe tbody tr th {\n",
              "        vertical-align: top;\n",
              "    }\n",
              "\n",
              "    .dataframe thead th {\n",
              "        text-align: right;\n",
              "    }\n",
              "</style>\n",
              "<table border=\"1\" class=\"dataframe\">\n",
              "  <thead>\n",
              "    <tr style=\"text-align: right;\">\n",
              "      <th></th>\n",
              "      <th>TV</th>\n",
              "      <th>radio</th>\n",
              "      <th>newspaper</th>\n",
              "    </tr>\n",
              "  </thead>\n",
              "  <tbody>\n",
              "    <tr>\n",
              "      <th>59</th>\n",
              "      <td>210.8</td>\n",
              "      <td>49.6</td>\n",
              "      <td>37.7</td>\n",
              "    </tr>\n",
              "    <tr>\n",
              "      <th>41</th>\n",
              "      <td>202.5</td>\n",
              "      <td>22.3</td>\n",
              "      <td>31.6</td>\n",
              "    </tr>\n",
              "    <tr>\n",
              "      <th>35</th>\n",
              "      <td>95.7</td>\n",
              "      <td>1.4</td>\n",
              "      <td>7.4</td>\n",
              "    </tr>\n",
              "    <tr>\n",
              "      <th>103</th>\n",
              "      <td>280.2</td>\n",
              "      <td>10.1</td>\n",
              "      <td>21.4</td>\n",
              "    </tr>\n",
              "    <tr>\n",
              "      <th>185</th>\n",
              "      <td>253.8</td>\n",
              "      <td>21.3</td>\n",
              "      <td>30.0</td>\n",
              "    </tr>\n",
              "    <tr>\n",
              "      <th>199</th>\n",
              "      <td>283.6</td>\n",
              "      <td>42.0</td>\n",
              "      <td>66.2</td>\n",
              "    </tr>\n",
              "    <tr>\n",
              "      <th>96</th>\n",
              "      <td>163.3</td>\n",
              "      <td>31.6</td>\n",
              "      <td>52.9</td>\n",
              "    </tr>\n",
              "    <tr>\n",
              "      <th>5</th>\n",
              "      <td>180.8</td>\n",
              "      <td>10.8</td>\n",
              "      <td>58.4</td>\n",
              "    </tr>\n",
              "    <tr>\n",
              "      <th>30</th>\n",
              "      <td>70.6</td>\n",
              "      <td>16.0</td>\n",
              "      <td>40.8</td>\n",
              "    </tr>\n",
              "    <tr>\n",
              "      <th>169</th>\n",
              "      <td>215.4</td>\n",
              "      <td>23.6</td>\n",
              "      <td>57.6</td>\n",
              "    </tr>\n",
              "    <tr>\n",
              "      <th>172</th>\n",
              "      <td>164.5</td>\n",
              "      <td>20.9</td>\n",
              "      <td>47.4</td>\n",
              "    </tr>\n",
              "    <tr>\n",
              "      <th>19</th>\n",
              "      <td>69.2</td>\n",
              "      <td>20.5</td>\n",
              "      <td>18.3</td>\n",
              "    </tr>\n",
              "    <tr>\n",
              "      <th>12</th>\n",
              "      <td>214.7</td>\n",
              "      <td>24.0</td>\n",
              "      <td>4.0</td>\n",
              "    </tr>\n",
              "    <tr>\n",
              "      <th>90</th>\n",
              "      <td>109.8</td>\n",
              "      <td>47.8</td>\n",
              "      <td>51.4</td>\n",
              "    </tr>\n",
              "    <tr>\n",
              "      <th>111</th>\n",
              "      <td>225.8</td>\n",
              "      <td>8.2</td>\n",
              "      <td>56.5</td>\n",
              "    </tr>\n",
              "    <tr>\n",
              "      <th>119</th>\n",
              "      <td>125.7</td>\n",
              "      <td>36.9</td>\n",
              "      <td>79.2</td>\n",
              "    </tr>\n",
              "    <tr>\n",
              "      <th>160</th>\n",
              "      <td>131.7</td>\n",
              "      <td>18.4</td>\n",
              "      <td>34.6</td>\n",
              "    </tr>\n",
              "    <tr>\n",
              "      <th>36</th>\n",
              "      <td>290.7</td>\n",
              "      <td>4.1</td>\n",
              "      <td>8.5</td>\n",
              "    </tr>\n",
              "    <tr>\n",
              "      <th>137</th>\n",
              "      <td>25.6</td>\n",
              "      <td>39.0</td>\n",
              "      <td>9.3</td>\n",
              "    </tr>\n",
              "    <tr>\n",
              "      <th>60</th>\n",
              "      <td>210.7</td>\n",
              "      <td>29.5</td>\n",
              "      <td>9.3</td>\n",
              "    </tr>\n",
              "    <tr>\n",
              "      <th>52</th>\n",
              "      <td>100.4</td>\n",
              "      <td>9.6</td>\n",
              "      <td>3.6</td>\n",
              "    </tr>\n",
              "    <tr>\n",
              "      <th>17</th>\n",
              "      <td>67.8</td>\n",
              "      <td>36.6</td>\n",
              "      <td>114.0</td>\n",
              "    </tr>\n",
              "    <tr>\n",
              "      <th>45</th>\n",
              "      <td>25.1</td>\n",
              "      <td>25.7</td>\n",
              "      <td>43.3</td>\n",
              "    </tr>\n",
              "    <tr>\n",
              "      <th>95</th>\n",
              "      <td>107.4</td>\n",
              "      <td>14.0</td>\n",
              "      <td>10.9</td>\n",
              "    </tr>\n",
              "    <tr>\n",
              "      <th>32</th>\n",
              "      <td>112.9</td>\n",
              "      <td>17.4</td>\n",
              "      <td>38.6</td>\n",
              "    </tr>\n",
              "    <tr>\n",
              "      <th>163</th>\n",
              "      <td>188.4</td>\n",
              "      <td>18.1</td>\n",
              "      <td>25.6</td>\n",
              "    </tr>\n",
              "    <tr>\n",
              "      <th>39</th>\n",
              "      <td>43.1</td>\n",
              "      <td>26.7</td>\n",
              "      <td>35.1</td>\n",
              "    </tr>\n",
              "    <tr>\n",
              "      <th>29</th>\n",
              "      <td>248.8</td>\n",
              "      <td>27.1</td>\n",
              "      <td>22.9</td>\n",
              "    </tr>\n",
              "    <tr>\n",
              "      <th>194</th>\n",
              "      <td>166.8</td>\n",
              "      <td>42.0</td>\n",
              "      <td>3.6</td>\n",
              "    </tr>\n",
              "    <tr>\n",
              "      <th>28</th>\n",
              "      <td>240.1</td>\n",
              "      <td>16.7</td>\n",
              "      <td>22.9</td>\n",
              "    </tr>\n",
              "    <tr>\n",
              "      <th>48</th>\n",
              "      <td>239.9</td>\n",
              "      <td>41.5</td>\n",
              "      <td>18.5</td>\n",
              "    </tr>\n",
              "    <tr>\n",
              "      <th>166</th>\n",
              "      <td>234.5</td>\n",
              "      <td>3.4</td>\n",
              "      <td>84.8</td>\n",
              "    </tr>\n",
              "    <tr>\n",
              "      <th>195</th>\n",
              "      <td>149.7</td>\n",
              "      <td>35.6</td>\n",
              "      <td>6.0</td>\n",
              "    </tr>\n",
              "    <tr>\n",
              "      <th>178</th>\n",
              "      <td>170.2</td>\n",
              "      <td>7.8</td>\n",
              "      <td>35.2</td>\n",
              "    </tr>\n",
              "    <tr>\n",
              "      <th>177</th>\n",
              "      <td>248.4</td>\n",
              "      <td>30.2</td>\n",
              "      <td>20.3</td>\n",
              "    </tr>\n",
              "    <tr>\n",
              "      <th>98</th>\n",
              "      <td>184.9</td>\n",
              "      <td>21.0</td>\n",
              "      <td>22.0</td>\n",
              "    </tr>\n",
              "    <tr>\n",
              "      <th>175</th>\n",
              "      <td>222.4</td>\n",
              "      <td>3.4</td>\n",
              "      <td>13.1</td>\n",
              "    </tr>\n",
              "    <tr>\n",
              "      <th>74</th>\n",
              "      <td>129.4</td>\n",
              "      <td>5.7</td>\n",
              "      <td>31.3</td>\n",
              "    </tr>\n",
              "    <tr>\n",
              "      <th>70</th>\n",
              "      <td>216.8</td>\n",
              "      <td>43.9</td>\n",
              "      <td>27.2</td>\n",
              "    </tr>\n",
              "    <tr>\n",
              "      <th>173</th>\n",
              "      <td>19.6</td>\n",
              "      <td>20.1</td>\n",
              "      <td>17.0</td>\n",
              "    </tr>\n",
              "    <tr>\n",
              "      <th>109</th>\n",
              "      <td>13.1</td>\n",
              "      <td>0.4</td>\n",
              "      <td>25.6</td>\n",
              "    </tr>\n",
              "    <tr>\n",
              "      <th>108</th>\n",
              "      <td>90.4</td>\n",
              "      <td>0.3</td>\n",
              "      <td>23.2</td>\n",
              "    </tr>\n",
              "    <tr>\n",
              "      <th>190</th>\n",
              "      <td>18.7</td>\n",
              "      <td>12.1</td>\n",
              "      <td>23.4</td>\n",
              "    </tr>\n",
              "    <tr>\n",
              "      <th>15</th>\n",
              "      <td>204.1</td>\n",
              "      <td>32.9</td>\n",
              "      <td>46.0</td>\n",
              "    </tr>\n",
              "    <tr>\n",
              "      <th>57</th>\n",
              "      <td>7.3</td>\n",
              "      <td>28.1</td>\n",
              "      <td>41.4</td>\n",
              "    </tr>\n",
              "    <tr>\n",
              "      <th>20</th>\n",
              "      <td>147.3</td>\n",
              "      <td>23.9</td>\n",
              "      <td>19.1</td>\n",
              "    </tr>\n",
              "    <tr>\n",
              "      <th>115</th>\n",
              "      <td>78.2</td>\n",
              "      <td>46.8</td>\n",
              "      <td>34.5</td>\n",
              "    </tr>\n",
              "    <tr>\n",
              "      <th>40</th>\n",
              "      <td>228.0</td>\n",
              "      <td>37.7</td>\n",
              "      <td>32.0</td>\n",
              "    </tr>\n",
              "    <tr>\n",
              "      <th>186</th>\n",
              "      <td>205.0</td>\n",
              "      <td>45.1</td>\n",
              "      <td>19.6</td>\n",
              "    </tr>\n",
              "    <tr>\n",
              "      <th>125</th>\n",
              "      <td>229.5</td>\n",
              "      <td>32.3</td>\n",
              "      <td>74.2</td>\n",
              "    </tr>\n",
              "  </tbody>\n",
              "</table>\n",
              "</div>"
            ],
            "text/plain": [
              "        TV  radio  newspaper\n",
              "59   210.8   49.6       37.7\n",
              "41   202.5   22.3       31.6\n",
              "35    95.7    1.4        7.4\n",
              "103  280.2   10.1       21.4\n",
              "185  253.8   21.3       30.0\n",
              "199  283.6   42.0       66.2\n",
              "96   163.3   31.6       52.9\n",
              "5    180.8   10.8       58.4\n",
              "30    70.6   16.0       40.8\n",
              "169  215.4   23.6       57.6\n",
              "172  164.5   20.9       47.4\n",
              "19    69.2   20.5       18.3\n",
              "12   214.7   24.0        4.0\n",
              "90   109.8   47.8       51.4\n",
              "111  225.8    8.2       56.5\n",
              "119  125.7   36.9       79.2\n",
              "160  131.7   18.4       34.6\n",
              "36   290.7    4.1        8.5\n",
              "137   25.6   39.0        9.3\n",
              "60   210.7   29.5        9.3\n",
              "52   100.4    9.6        3.6\n",
              "17    67.8   36.6      114.0\n",
              "45    25.1   25.7       43.3\n",
              "95   107.4   14.0       10.9\n",
              "32   112.9   17.4       38.6\n",
              "163  188.4   18.1       25.6\n",
              "39    43.1   26.7       35.1\n",
              "29   248.8   27.1       22.9\n",
              "194  166.8   42.0        3.6\n",
              "28   240.1   16.7       22.9\n",
              "48   239.9   41.5       18.5\n",
              "166  234.5    3.4       84.8\n",
              "195  149.7   35.6        6.0\n",
              "178  170.2    7.8       35.2\n",
              "177  248.4   30.2       20.3\n",
              "98   184.9   21.0       22.0\n",
              "175  222.4    3.4       13.1\n",
              "74   129.4    5.7       31.3\n",
              "70   216.8   43.9       27.2\n",
              "173   19.6   20.1       17.0\n",
              "109   13.1    0.4       25.6\n",
              "108   90.4    0.3       23.2\n",
              "190   18.7   12.1       23.4\n",
              "15   204.1   32.9       46.0\n",
              "57     7.3   28.1       41.4\n",
              "20   147.3   23.9       19.1\n",
              "115   78.2   46.8       34.5\n",
              "40   228.0   37.7       32.0\n",
              "186  205.0   45.1       19.6\n",
              "125  229.5   32.3       74.2"
            ]
          },
          "metadata": {
            "tags": []
          },
          "execution_count": 37
        }
      ]
    },
    {
      "cell_type": "code",
      "metadata": {
        "id": "oowhgFAhhns_",
        "colab": {
          "base_uri": "https://localhost:8080/",
          "height": 35
        },
        "outputId": "42713028-64dc-442c-89ec-4d6ef360cb8e"
      },
      "source": [
        "X_test.shape"
      ],
      "execution_count": null,
      "outputs": [
        {
          "output_type": "execute_result",
          "data": {
            "text/plain": [
              "(50, 3)"
            ]
          },
          "metadata": {
            "tags": []
          },
          "execution_count": 38
        }
      ]
    },
    {
      "cell_type": "code",
      "metadata": {
        "id": "IVs3f6bFgZQy",
        "colab": {
          "base_uri": "https://localhost:8080/",
          "height": 193
        },
        "outputId": "8e7be346-d7f2-4604-d8a8-45b2fac0ac8c"
      },
      "source": [
        "# makes predictions on the testing set, Takes the values fromX_test and \n",
        "# predicts the y with linear regression and stores em in array y_pred\n",
        "y_pred = linreg.predict(X_test)\n",
        "y_pred"
      ],
      "execution_count": null,
      "outputs": [
        {
          "output_type": "execute_result",
          "data": {
            "text/plain": [
              "array([21.70910292, 16.41055243,  7.60955058, 17.80769552, 18.6146359 ,\n",
              "       23.83573998, 16.32488681, 13.43225536,  9.17173403, 17.333853  ,\n",
              "       14.44479482,  9.83511973, 17.18797614, 16.73086831, 15.05529391,\n",
              "       15.61434433, 12.42541574, 17.17716376, 11.08827566, 18.00537501,\n",
              "        9.28438889, 12.98458458,  8.79950614, 10.42382499, 11.3846456 ,\n",
              "       14.98082512,  9.78853268, 19.39643187, 18.18099936, 17.12807566,\n",
              "       21.54670213, 14.69809481, 16.24641438, 12.32114579, 19.92422501,\n",
              "       15.32498602, 13.88726522, 10.03162255, 20.93105915,  7.44936831,\n",
              "        3.64695761,  7.22020178,  5.9962782 , 18.43381853,  8.39408045,\n",
              "       14.08371047, 15.02195699, 20.35836418, 20.57036347, 19.60636679])"
            ]
          },
          "metadata": {
            "tags": []
          },
          "execution_count": 39
        }
      ]
    },
    {
      "cell_type": "code",
      "metadata": {
        "id": "Xq9658ydhXtY",
        "colab": {
          "base_uri": "https://localhost:8080/",
          "height": 35
        },
        "outputId": "459d7342-32d4-42d6-c389-c5369010c86e"
      },
      "source": [
        "y_pred.shape"
      ],
      "execution_count": null,
      "outputs": [
        {
          "output_type": "execute_result",
          "data": {
            "text/plain": [
              "(50,)"
            ]
          },
          "metadata": {
            "tags": []
          },
          "execution_count": 40
        }
      ]
    },
    {
      "cell_type": "markdown",
      "metadata": {
        "id": "2zHRXTx2cnxF"
      },
      "source": [
        "###How to evaluate model quality?\n",
        "\n",
        "**Three common evaluations metrics used in regression problems:**"
      ]
    },
    {
      "cell_type": "code",
      "metadata": {
        "id": "QIKC4Vy8cr-i"
      },
      "source": [
        "# define true and predicted response values\n",
        "true = [100,50,30,20]\n",
        "pred=[90,50,50,30]"
      ],
      "execution_count": null,
      "outputs": []
    },
    {
      "cell_type": "markdown",
      "metadata": {
        "id": "OQrhaxt4kE7b"
      },
      "source": [
        "---\n",
        "**Mean Absolute Error** (MAE) is the mean of the absolute value of the errors:\n",
        "\n",
        "```metrics.mean_absolute_error(true, pred)```\n",
        "$$\\frac 1n\\sum_{i=1}^n|y_i-\\hat{y}_i|$$\n",
        "\n",
        "\n",
        "\n",
        "---\n",
        "\n"
      ]
    },
    {
      "cell_type": "code",
      "metadata": {
        "id": "9QcLueP7kEBu",
        "colab": {
          "base_uri": "https://localhost:8080/",
          "height": 35
        },
        "outputId": "04661e64-bffc-40c2-8c7b-019adba29f5f"
      },
      "source": [
        "#Calculate the MAE by hand\n",
        "# n = 4 , yi = true[:] , yi_hat = pred[:]\n",
        "#print((10+0+20+10)/4.0)\n",
        "\n",
        "#Calculate the MAE with Scikit-Learn\n",
        "from sklearn import metrics\n",
        "print(metrics.mean_absolute_error(true, pred))"
      ],
      "execution_count": null,
      "outputs": [
        {
          "output_type": "stream",
          "text": [
            "10.0\n"
          ],
          "name": "stdout"
        }
      ]
    },
    {
      "cell_type": "markdown",
      "metadata": {
        "id": "D6gzpjbTlYvh"
      },
      "source": [
        "---\n",
        "**Mean Squared Error** (MSE) is the mean of the squared errors:\n",
        "\n",
        "```metrics.mean_squared_error(true, pred)```\n",
        "\n",
        "$$\\frac 1n\\sum_{i=1}^n(y_i-\\hat{y}_i)^2$$\n",
        "\n",
        "---"
      ]
    },
    {
      "cell_type": "code",
      "metadata": {
        "id": "k-HZN6bnlXSK",
        "colab": {
          "base_uri": "https://localhost:8080/",
          "height": 35
        },
        "outputId": "79a29516-a85c-41cb-b9dc-6e36031a06e8"
      },
      "source": [
        "# calculate MSE by hand\n",
        "# n = 4 , yi = true[:] , yi_hat = pred[:]\n",
        "# print((10**2 + 0**2 + 20**2 + 10**2)/4.)\n",
        "\n",
        "# calculate MSE using scikit-learn\n",
        "print(metrics.mean_squared_error(true, pred))"
      ],
      "execution_count": null,
      "outputs": [
        {
          "output_type": "stream",
          "text": [
            "150.0\n"
          ],
          "name": "stdout"
        }
      ]
    },
    {
      "cell_type": "markdown",
      "metadata": {
        "id": "NMOrINAgl9jR"
      },
      "source": [
        "---\n",
        "**Root Mean Squared Error** (RMSE) is the square root of the mean of the squared errors:\n",
        "\n",
        "```np.sqrt(metrics.mean_squared_error(test,pred))```\n",
        "\n",
        "$$\\sqrt{\\frac 1n\\sum_{i=1}^n(y_i-\\hat{y}_i)^2}$$\n",
        "\n",
        "---"
      ]
    },
    {
      "cell_type": "code",
      "metadata": {
        "id": "toWliKEdlrgS",
        "colab": {
          "base_uri": "https://localhost:8080/",
          "height": 35
        },
        "outputId": "f01486b6-18e1-42ae-c176-2a451277a832"
      },
      "source": [
        "#calculate RMSE by hand\n",
        "import numpy as np\n",
        "# n = 4 , yi = true[:] , yi_hat = pred[:]\n",
        "#print(np.sqrt((10**2+0**2+20**2+10**2/4.)))\n",
        "\n",
        "#calculate RMSE using scikit-learn\n",
        "print(np.sqrt(metrics.mean_squared_error(true, pred)))"
      ],
      "execution_count": null,
      "outputs": [
        {
          "output_type": "stream",
          "text": [
            "12.24744871391589\n"
          ],
          "name": "stdout"
        }
      ]
    },
    {
      "cell_type": "markdown",
      "metadata": {
        "id": "tsoNO6OleONZ"
      },
      "source": [
        "---\n",
        "\n",
        "####Computing the RMSE for our trained linear regression model on sales predictions"
      ]
    },
    {
      "cell_type": "code",
      "metadata": {
        "id": "8hyyoV_QezKy",
        "colab": {
          "base_uri": "https://localhost:8080/",
          "height": 35
        },
        "outputId": "7f4225dc-4261-49a4-aab4-3cf5d5a76731"
      },
      "source": [
        "np.sqrt(metrics.mean_squared_error(y_test, y_pred))"
      ],
      "execution_count": null,
      "outputs": [
        {
          "output_type": "execute_result",
          "data": {
            "text/plain": [
              "1.404651423032895"
            ]
          },
          "metadata": {
            "tags": []
          },
          "execution_count": 47
        }
      ]
    },
    {
      "cell_type": "markdown",
      "metadata": {
        "id": "SKPILMBXnxAV"
      },
      "source": [
        "###**Error is what we want to minimize. So better regression model should have a smaller Root mean squared error. AKA RMSE**"
      ]
    },
    {
      "cell_type": "markdown",
      "metadata": {
        "id": "g0nhmKPDnF3L"
      },
      "source": [
        "---\n",
        "###Reflection:\n",
        "\n",
        "**Do newspapers \"belong in our model? In other words, does it improve the quality of our predictions?**\n",
        "---\n",
        "\n",
        "Let's **remove** it from the model and check RMSE!\n",
        "\n",
        "---"
      ]
    },
    {
      "cell_type": "code",
      "metadata": {
        "id": "PgRKv313s1wI",
        "outputId": "02a8cebf-6cc1-4d3c-9af7-c8aa350b9103"
      },
      "source": [
        "# create a Python list of feature names\n",
        "feature_cols = ['TV', 'radio']\n",
        "\n",
        "# use the list to select a subset of the original DataFrame\n",
        "X = data[feature_cols]\n",
        "\n",
        "# select a Series from the DataFrame\n",
        "y = data['sales']\n",
        "\n",
        "# split into training and testing sets\n",
        "X_train, X_test, y_train, y_test = train_test_split(X, y, test_size= 0.25, random_state=1)\n",
        "\n",
        "# fit the model to the training data (learn the coefficients)\n",
        "linreg.fit(X_train, y_train)\n",
        "\n",
        "# make predictions on the testing set\n",
        "y_pred = linreg.predict(X_test)\n",
        "\n",
        "# compute the RMSE of our predictions\n",
        "print(np.sqrt(metrics.mean_squared_error(y_test, y_pred)))"
      ],
      "execution_count": null,
      "outputs": [
        {
          "output_type": "stream",
          "text": [
            "1.3879034699382886\n"
          ],
          "name": "stdout"
        }
      ]
    },
    {
      "cell_type": "markdown",
      "metadata": {
        "id": "WiXkK4m0s1wK"
      },
      "source": [
        "### The RMSE **decreased** when we removed Newspaper. Thus, this feature should be removed from the model."
      ]
    },
    {
      "cell_type": "markdown",
      "metadata": {
        "id": "gbGV6UWws1wK"
      },
      "source": [
        "### Conclusion: NOT every feature equally contributes to model prediction power.  Some features may make our model worse!!\n",
        "\n",
        "Next lab, we will focus on feature engineering/feature selection. "
      ]
    },
    {
      "cell_type": "markdown",
      "metadata": {
        "id": "TFo2M9Z10S8C"
      },
      "source": [
        "---\n",
        "\n",
        "#Part 3: Feature Engineering (Normalization Selection)\n"
      ]
    }
  ]
}