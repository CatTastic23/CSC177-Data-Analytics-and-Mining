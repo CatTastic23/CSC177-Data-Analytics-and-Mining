{
  "nbformat": 4,
  "nbformat_minor": 0,
  "metadata": {
    "kernelspec": {
      "display_name": "Python 3",
      "language": "python",
      "name": "python3"
    },
    "language_info": {
      "codemirror_mode": {
        "name": "ipython",
        "version": 3
      },
      "file_extension": ".py",
      "mimetype": "text/x-python",
      "name": "python",
      "nbconvert_exporter": "python",
      "pygments_lexer": "ipython3",
      "version": "3.6.6"
    },
    "colab": {
      "name": "nguyen_catherine_csc177_pdwarmups_digmonDS.ipynb",
      "provenance": [],
      "collapsed_sections": [
        "2adKNZVWB8Jv",
        "xI6BAY-wsydX",
        "K9c8B7ka2_jC",
        "9cA0X7BrhHU9",
        "RyPscrech0vo",
        "wZprVPlpLMFj",
        "89cqstLN4QzG",
        "j6jmSeo94Qzq",
        "Pi6YlCfN4Qzu",
        "W3aFbodf4Qzz",
        "ITfF98564Qz3"
      ],
      "toc_visible": true,
      "include_colab_link": true
    }
  },
  "cells": [
    {
      "cell_type": "markdown",
      "metadata": {
        "id": "view-in-github",
        "colab_type": "text"
      },
      "source": [
        "<a href=\"https://colab.research.google.com/github/CatTastic23/CSC177-Data-Analytics-and-Mining/blob/main/nguyen_catherine_csc177_pdwarmups_digmonDS.ipynb\" target=\"_parent\"><img src=\"https://colab.research.google.com/assets/colab-badge.svg\" alt=\"Open In Colab\"/></a>"
      ]
    },
    {
      "cell_type": "markdown",
      "metadata": {
        "id": "lNnVtmpp4T__"
      },
      "source": [
        "#Pandas Exercise\n",
        "\n",
        "Name: Catherine Nguyen\n",
        "\n",
        "Course: CSC 177\n",
        "\n",
        "Date: 09/25/2020\n",
        "\n",
        "**Link to OG Source: [Digimon](https://www.kaggle.com/ivansebastian/beginner-digimon-eda)**\n",
        "\n",
        "**09/10/2021 Edit: In this assignment, we took another person notebook and added our own changes/analysis to the notebook.** \n",
        "\n"
      ]
    },
    {
      "cell_type": "markdown",
      "metadata": {
        "id": "O-YwWxu7gawl"
      },
      "source": [
        "\n",
        "\n",
        "---\n",
        "\n",
        "\n",
        "#THIS IS MY CHANGE"
      ]
    },
    {
      "cell_type": "markdown",
      "metadata": {
        "id": "Q_YmhJna_M5H"
      },
      "source": [
        "\n",
        "\n",
        "---\n",
        "\n",
        "\n",
        "##What I Learned from this\n",
        "\n",
        "Name: Catherine Nguyen\n",
        "\n",
        "Course: CSC 177"
      ]
    },
    {
      "cell_type": "markdown",
      "metadata": {
        "id": "W9gN8lEL_XlO"
      },
      "source": [
        "```df.info()``` This is new to me and it return the info of the dataframe. All the columns, the data, the data type, and the number of non null values in the series."
      ]
    },
    {
      "cell_type": "markdown",
      "metadata": {
        "id": "Kn_NJMqdRYJu"
      },
      "source": [
        "```import seaborn as sns``` Seaborn is a python statistical data visualization libary based on matplotlib. "
      ]
    },
    {
      "cell_type": "markdown",
      "metadata": {
        "id": "rhv7ix_RWFGL"
      },
      "source": [
        "```sns.pairplot()``` takes a broader view: joint and marginal distribution for all pairwise relationships and for each variable."
      ]
    },
    {
      "cell_type": "markdown",
      "metadata": {
        "id": "Q3xE_d-B1mu6"
      },
      "source": [
        "```df['..'].skew()``` tells us where its skews\n",
        "\n",
        "```df['...'].kurt()``` tells us about the sharpness of the peak"
      ]
    },
    {
      "cell_type": "markdown",
      "metadata": {
        "id": "SFmek5e9B1N8"
      },
      "source": [
        "##What I added"
      ]
    },
    {
      "cell_type": "markdown",
      "metadata": {
        "id": "l-vJmQ0wrCD3"
      },
      "source": [
        "First I changed the data so that the series names dont have ' ' in them. "
      ]
    },
    {
      "cell_type": "markdown",
      "metadata": {
        "id": "2adKNZVWB8Jv"
      },
      "source": [
        "###This is to get a good look at the data before I add the new Series called 'TOTAL'."
      ]
    },
    {
      "cell_type": "code",
      "metadata": {
        "id": "_h959nRtie9X",
        "colab": {
          "base_uri": "https://localhost:8080/",
          "height": 223
        },
        "outputId": "7185f2c6-f995-4a00-8087-3a96b7a5b33f"
      },
      "source": [
        "digimon.head()"
      ],
      "execution_count": null,
      "outputs": [
        {
          "output_type": "execute_result",
          "data": {
            "text/html": [
              "<div>\n",
              "<style scoped>\n",
              "    .dataframe tbody tr th:only-of-type {\n",
              "        vertical-align: middle;\n",
              "    }\n",
              "\n",
              "    .dataframe tbody tr th {\n",
              "        vertical-align: top;\n",
              "    }\n",
              "\n",
              "    .dataframe thead th {\n",
              "        text-align: right;\n",
              "    }\n",
              "</style>\n",
              "<table border=\"1\" class=\"dataframe\">\n",
              "  <thead>\n",
              "    <tr style=\"text-align: right;\">\n",
              "      <th></th>\n",
              "      <th>Number</th>\n",
              "      <th>Digimon</th>\n",
              "      <th>Stage</th>\n",
              "      <th>Type</th>\n",
              "      <th>Attribute</th>\n",
              "      <th>Memory</th>\n",
              "      <th>EquipSlots</th>\n",
              "      <th>Lv50HP</th>\n",
              "      <th>Lv50SP</th>\n",
              "      <th>Lv50Atk</th>\n",
              "      <th>Lv50Def</th>\n",
              "      <th>Lv50Int</th>\n",
              "      <th>Lv50Spd</th>\n",
              "      <th>TOTAL</th>\n",
              "    </tr>\n",
              "  </thead>\n",
              "  <tbody>\n",
              "    <tr>\n",
              "      <th>0</th>\n",
              "      <td>1</td>\n",
              "      <td>Kuramon</td>\n",
              "      <td>Baby</td>\n",
              "      <td>Free</td>\n",
              "      <td>Neutral</td>\n",
              "      <td>2</td>\n",
              "      <td>0</td>\n",
              "      <td>590</td>\n",
              "      <td>77</td>\n",
              "      <td>79</td>\n",
              "      <td>69</td>\n",
              "      <td>68</td>\n",
              "      <td>95</td>\n",
              "      <td>978</td>\n",
              "    </tr>\n",
              "    <tr>\n",
              "      <th>1</th>\n",
              "      <td>2</td>\n",
              "      <td>Pabumon</td>\n",
              "      <td>Baby</td>\n",
              "      <td>Free</td>\n",
              "      <td>Neutral</td>\n",
              "      <td>2</td>\n",
              "      <td>0</td>\n",
              "      <td>950</td>\n",
              "      <td>62</td>\n",
              "      <td>76</td>\n",
              "      <td>76</td>\n",
              "      <td>69</td>\n",
              "      <td>68</td>\n",
              "      <td>1301</td>\n",
              "    </tr>\n",
              "    <tr>\n",
              "      <th>2</th>\n",
              "      <td>3</td>\n",
              "      <td>Punimon</td>\n",
              "      <td>Baby</td>\n",
              "      <td>Free</td>\n",
              "      <td>Neutral</td>\n",
              "      <td>2</td>\n",
              "      <td>0</td>\n",
              "      <td>870</td>\n",
              "      <td>50</td>\n",
              "      <td>97</td>\n",
              "      <td>87</td>\n",
              "      <td>50</td>\n",
              "      <td>75</td>\n",
              "      <td>1229</td>\n",
              "    </tr>\n",
              "    <tr>\n",
              "      <th>3</th>\n",
              "      <td>4</td>\n",
              "      <td>Botamon</td>\n",
              "      <td>Baby</td>\n",
              "      <td>Free</td>\n",
              "      <td>Neutral</td>\n",
              "      <td>2</td>\n",
              "      <td>0</td>\n",
              "      <td>690</td>\n",
              "      <td>68</td>\n",
              "      <td>77</td>\n",
              "      <td>95</td>\n",
              "      <td>76</td>\n",
              "      <td>61</td>\n",
              "      <td>1067</td>\n",
              "    </tr>\n",
              "    <tr>\n",
              "      <th>4</th>\n",
              "      <td>5</td>\n",
              "      <td>Poyomon</td>\n",
              "      <td>Baby</td>\n",
              "      <td>Free</td>\n",
              "      <td>Neutral</td>\n",
              "      <td>2</td>\n",
              "      <td>0</td>\n",
              "      <td>540</td>\n",
              "      <td>98</td>\n",
              "      <td>54</td>\n",
              "      <td>59</td>\n",
              "      <td>95</td>\n",
              "      <td>86</td>\n",
              "      <td>932</td>\n",
              "    </tr>\n",
              "  </tbody>\n",
              "</table>\n",
              "</div>"
            ],
            "text/plain": [
              "   Number  Digimon Stage  Type  ... Lv50Def  Lv50Int  Lv50Spd  TOTAL\n",
              "0       1  Kuramon  Baby  Free  ...      69       68       95    978\n",
              "1       2  Pabumon  Baby  Free  ...      76       69       68   1301\n",
              "2       3  Punimon  Baby  Free  ...      87       50       75   1229\n",
              "3       4  Botamon  Baby  Free  ...      95       76       61   1067\n",
              "4       5  Poyomon  Baby  Free  ...      59       95       86    932\n",
              "\n",
              "[5 rows x 14 columns]"
            ]
          },
          "metadata": {
            "tags": []
          },
          "execution_count": 52
        }
      ]
    },
    {
      "cell_type": "markdown",
      "metadata": {
        "id": "FxbkIViCmt1r"
      },
      "source": [
        "getting the data types of each series"
      ]
    },
    {
      "cell_type": "code",
      "metadata": {
        "id": "WV6x462rmsqJ",
        "colab": {
          "base_uri": "https://localhost:8080/",
          "height": 263
        },
        "outputId": "b5b11730-29ca-4e35-e857-71e574205821"
      },
      "source": [
        "digimon.dtypes"
      ],
      "execution_count": null,
      "outputs": [
        {
          "output_type": "execute_result",
          "data": {
            "text/plain": [
              "Number         int64\n",
              "Digimon       object\n",
              "Stage         object\n",
              "Type          object\n",
              "Attribute     object\n",
              "Memory         int64\n",
              "EquipSlots     int64\n",
              "Lv50HP         int64\n",
              "Lv50SP         int64\n",
              "Lv50Atk        int64\n",
              "Lv50Def        int64\n",
              "Lv50Int        int64\n",
              "Lv50Spd        int64\n",
              "dtype: object"
            ]
          },
          "metadata": {
            "tags": []
          },
          "execution_count": 93
        }
      ]
    },
    {
      "cell_type": "markdown",
      "metadata": {
        "id": "xI6BAY-wsydX"
      },
      "source": [
        "###Below I created a new Series 'TOTAL' which will emcompass the total stats of a digimon. "
      ]
    },
    {
      "cell_type": "code",
      "metadata": {
        "id": "oDOtFsh3eRAt",
        "colab": {
          "base_uri": "https://localhost:8080/",
          "height": 223
        },
        "outputId": "d6ef666b-5b51-402d-db1b-047317475f9e"
      },
      "source": [
        "# This creates a new Series called 'TOTAL' which is the total of all digimon stats\n",
        "digimon[\"TOTAL\"] = digimon['Lv50HP']+digimon['Lv50SP']+digimon['Lv50Atk']+digimon['Lv50Def']+digimon['Lv50Int']+digimon['Lv50Spd']\n",
        "digimon.head()"
      ],
      "execution_count": null,
      "outputs": [
        {
          "output_type": "execute_result",
          "data": {
            "text/html": [
              "<div>\n",
              "<style scoped>\n",
              "    .dataframe tbody tr th:only-of-type {\n",
              "        vertical-align: middle;\n",
              "    }\n",
              "\n",
              "    .dataframe tbody tr th {\n",
              "        vertical-align: top;\n",
              "    }\n",
              "\n",
              "    .dataframe thead th {\n",
              "        text-align: right;\n",
              "    }\n",
              "</style>\n",
              "<table border=\"1\" class=\"dataframe\">\n",
              "  <thead>\n",
              "    <tr style=\"text-align: right;\">\n",
              "      <th></th>\n",
              "      <th>Number</th>\n",
              "      <th>Digimon</th>\n",
              "      <th>Stage</th>\n",
              "      <th>Type</th>\n",
              "      <th>Attribute</th>\n",
              "      <th>Memory</th>\n",
              "      <th>EquipSlots</th>\n",
              "      <th>Lv50HP</th>\n",
              "      <th>Lv50SP</th>\n",
              "      <th>Lv50Atk</th>\n",
              "      <th>Lv50Def</th>\n",
              "      <th>Lv50Int</th>\n",
              "      <th>Lv50Spd</th>\n",
              "      <th>TOTAL</th>\n",
              "    </tr>\n",
              "  </thead>\n",
              "  <tbody>\n",
              "    <tr>\n",
              "      <th>0</th>\n",
              "      <td>1</td>\n",
              "      <td>Kuramon</td>\n",
              "      <td>Baby</td>\n",
              "      <td>Free</td>\n",
              "      <td>Neutral</td>\n",
              "      <td>2</td>\n",
              "      <td>0</td>\n",
              "      <td>590</td>\n",
              "      <td>77</td>\n",
              "      <td>79</td>\n",
              "      <td>69</td>\n",
              "      <td>68</td>\n",
              "      <td>95</td>\n",
              "      <td>978</td>\n",
              "    </tr>\n",
              "    <tr>\n",
              "      <th>1</th>\n",
              "      <td>2</td>\n",
              "      <td>Pabumon</td>\n",
              "      <td>Baby</td>\n",
              "      <td>Free</td>\n",
              "      <td>Neutral</td>\n",
              "      <td>2</td>\n",
              "      <td>0</td>\n",
              "      <td>950</td>\n",
              "      <td>62</td>\n",
              "      <td>76</td>\n",
              "      <td>76</td>\n",
              "      <td>69</td>\n",
              "      <td>68</td>\n",
              "      <td>1301</td>\n",
              "    </tr>\n",
              "    <tr>\n",
              "      <th>2</th>\n",
              "      <td>3</td>\n",
              "      <td>Punimon</td>\n",
              "      <td>Baby</td>\n",
              "      <td>Free</td>\n",
              "      <td>Neutral</td>\n",
              "      <td>2</td>\n",
              "      <td>0</td>\n",
              "      <td>870</td>\n",
              "      <td>50</td>\n",
              "      <td>97</td>\n",
              "      <td>87</td>\n",
              "      <td>50</td>\n",
              "      <td>75</td>\n",
              "      <td>1229</td>\n",
              "    </tr>\n",
              "    <tr>\n",
              "      <th>3</th>\n",
              "      <td>4</td>\n",
              "      <td>Botamon</td>\n",
              "      <td>Baby</td>\n",
              "      <td>Free</td>\n",
              "      <td>Neutral</td>\n",
              "      <td>2</td>\n",
              "      <td>0</td>\n",
              "      <td>690</td>\n",
              "      <td>68</td>\n",
              "      <td>77</td>\n",
              "      <td>95</td>\n",
              "      <td>76</td>\n",
              "      <td>61</td>\n",
              "      <td>1067</td>\n",
              "    </tr>\n",
              "    <tr>\n",
              "      <th>4</th>\n",
              "      <td>5</td>\n",
              "      <td>Poyomon</td>\n",
              "      <td>Baby</td>\n",
              "      <td>Free</td>\n",
              "      <td>Neutral</td>\n",
              "      <td>2</td>\n",
              "      <td>0</td>\n",
              "      <td>540</td>\n",
              "      <td>98</td>\n",
              "      <td>54</td>\n",
              "      <td>59</td>\n",
              "      <td>95</td>\n",
              "      <td>86</td>\n",
              "      <td>932</td>\n",
              "    </tr>\n",
              "  </tbody>\n",
              "</table>\n",
              "</div>"
            ],
            "text/plain": [
              "   Number  Digimon Stage  Type  ... Lv50Def  Lv50Int  Lv50Spd  TOTAL\n",
              "0       1  Kuramon  Baby  Free  ...      69       68       95    978\n",
              "1       2  Pabumon  Baby  Free  ...      76       69       68   1301\n",
              "2       3  Punimon  Baby  Free  ...      87       50       75   1229\n",
              "3       4  Botamon  Baby  Free  ...      95       76       61   1067\n",
              "4       5  Poyomon  Baby  Free  ...      59       95       86    932\n",
              "\n",
              "[5 rows x 14 columns]"
            ]
          },
          "metadata": {
            "tags": []
          },
          "execution_count": 4
        }
      ]
    },
    {
      "cell_type": "markdown",
      "metadata": {
        "id": "pwlLYx8cs-ta"
      },
      "source": [
        "I dont like having 'TOTAL' as the last col so I will move it up a bit. \n",
        "First i get the shape so i can justify that when i make a new dataframe it maintains the same shape. "
      ]
    },
    {
      "cell_type": "code",
      "metadata": {
        "id": "GdLIUSTZzDqG",
        "colab": {
          "base_uri": "https://localhost:8080/",
          "height": 35
        },
        "outputId": "798d1cb6-618e-465f-cc11-0b7c3e4d0ef1"
      },
      "source": [
        "digimon.shape"
      ],
      "execution_count": null,
      "outputs": [
        {
          "output_type": "execute_result",
          "data": {
            "text/plain": [
              "(249, 14)"
            ]
          },
          "metadata": {
            "tags": []
          },
          "execution_count": 36
        }
      ]
    },
    {
      "cell_type": "code",
      "metadata": {
        "id": "EPZQHMDAuM_U",
        "colab": {
          "base_uri": "https://localhost:8080/",
          "height": 223
        },
        "outputId": "3d3c3d6f-2e88-4dcf-d45a-2525bbe9b1bf"
      },
      "source": [
        "#I kept all Series from previous DF but pushed TOTAL forward\n",
        "digi = digimon[['Number','Digimon','Stage','Type','Attribute','Memory','EquipSlots','TOTAL','Lv50HP'\n",
        ",'Lv50SP','Lv50Atk','Lv50Def','Lv50Int','Lv50Spd']]\n",
        "digi.head()"
      ],
      "execution_count": null,
      "outputs": [
        {
          "output_type": "execute_result",
          "data": {
            "text/html": [
              "<div>\n",
              "<style scoped>\n",
              "    .dataframe tbody tr th:only-of-type {\n",
              "        vertical-align: middle;\n",
              "    }\n",
              "\n",
              "    .dataframe tbody tr th {\n",
              "        vertical-align: top;\n",
              "    }\n",
              "\n",
              "    .dataframe thead th {\n",
              "        text-align: right;\n",
              "    }\n",
              "</style>\n",
              "<table border=\"1\" class=\"dataframe\">\n",
              "  <thead>\n",
              "    <tr style=\"text-align: right;\">\n",
              "      <th></th>\n",
              "      <th>Number</th>\n",
              "      <th>Digimon</th>\n",
              "      <th>Stage</th>\n",
              "      <th>Type</th>\n",
              "      <th>Attribute</th>\n",
              "      <th>Memory</th>\n",
              "      <th>EquipSlots</th>\n",
              "      <th>TOTAL</th>\n",
              "      <th>Lv50HP</th>\n",
              "      <th>Lv50SP</th>\n",
              "      <th>Lv50Atk</th>\n",
              "      <th>Lv50Def</th>\n",
              "      <th>Lv50Int</th>\n",
              "      <th>Lv50Spd</th>\n",
              "    </tr>\n",
              "  </thead>\n",
              "  <tbody>\n",
              "    <tr>\n",
              "      <th>0</th>\n",
              "      <td>1</td>\n",
              "      <td>Kuramon</td>\n",
              "      <td>Baby</td>\n",
              "      <td>Free</td>\n",
              "      <td>Neutral</td>\n",
              "      <td>2</td>\n",
              "      <td>0</td>\n",
              "      <td>978</td>\n",
              "      <td>590</td>\n",
              "      <td>77</td>\n",
              "      <td>79</td>\n",
              "      <td>69</td>\n",
              "      <td>68</td>\n",
              "      <td>95</td>\n",
              "    </tr>\n",
              "    <tr>\n",
              "      <th>1</th>\n",
              "      <td>2</td>\n",
              "      <td>Pabumon</td>\n",
              "      <td>Baby</td>\n",
              "      <td>Free</td>\n",
              "      <td>Neutral</td>\n",
              "      <td>2</td>\n",
              "      <td>0</td>\n",
              "      <td>1301</td>\n",
              "      <td>950</td>\n",
              "      <td>62</td>\n",
              "      <td>76</td>\n",
              "      <td>76</td>\n",
              "      <td>69</td>\n",
              "      <td>68</td>\n",
              "    </tr>\n",
              "    <tr>\n",
              "      <th>2</th>\n",
              "      <td>3</td>\n",
              "      <td>Punimon</td>\n",
              "      <td>Baby</td>\n",
              "      <td>Free</td>\n",
              "      <td>Neutral</td>\n",
              "      <td>2</td>\n",
              "      <td>0</td>\n",
              "      <td>1229</td>\n",
              "      <td>870</td>\n",
              "      <td>50</td>\n",
              "      <td>97</td>\n",
              "      <td>87</td>\n",
              "      <td>50</td>\n",
              "      <td>75</td>\n",
              "    </tr>\n",
              "    <tr>\n",
              "      <th>3</th>\n",
              "      <td>4</td>\n",
              "      <td>Botamon</td>\n",
              "      <td>Baby</td>\n",
              "      <td>Free</td>\n",
              "      <td>Neutral</td>\n",
              "      <td>2</td>\n",
              "      <td>0</td>\n",
              "      <td>1067</td>\n",
              "      <td>690</td>\n",
              "      <td>68</td>\n",
              "      <td>77</td>\n",
              "      <td>95</td>\n",
              "      <td>76</td>\n",
              "      <td>61</td>\n",
              "    </tr>\n",
              "    <tr>\n",
              "      <th>4</th>\n",
              "      <td>5</td>\n",
              "      <td>Poyomon</td>\n",
              "      <td>Baby</td>\n",
              "      <td>Free</td>\n",
              "      <td>Neutral</td>\n",
              "      <td>2</td>\n",
              "      <td>0</td>\n",
              "      <td>932</td>\n",
              "      <td>540</td>\n",
              "      <td>98</td>\n",
              "      <td>54</td>\n",
              "      <td>59</td>\n",
              "      <td>95</td>\n",
              "      <td>86</td>\n",
              "    </tr>\n",
              "  </tbody>\n",
              "</table>\n",
              "</div>"
            ],
            "text/plain": [
              "   Number  Digimon Stage  Type  ... Lv50Atk  Lv50Def  Lv50Int  Lv50Spd\n",
              "0       1  Kuramon  Baby  Free  ...      79       69       68       95\n",
              "1       2  Pabumon  Baby  Free  ...      76       76       69       68\n",
              "2       3  Punimon  Baby  Free  ...      97       87       50       75\n",
              "3       4  Botamon  Baby  Free  ...      77       95       76       61\n",
              "4       5  Poyomon  Baby  Free  ...      54       59       95       86\n",
              "\n",
              "[5 rows x 14 columns]"
            ]
          },
          "metadata": {
            "tags": []
          },
          "execution_count": 5
        }
      ]
    },
    {
      "cell_type": "code",
      "metadata": {
        "id": "Z5BcSx1p0YXL",
        "colab": {
          "base_uri": "https://localhost:8080/",
          "height": 35
        },
        "outputId": "5dd90e5b-fc09-4bda-b615-650f25af8bfc"
      },
      "source": [
        "#Not necessary but I added something to check it for fun. \n",
        "if (digi.shape == digimon.shape):\n",
        "  print('True shape is: ' + str(digi.shape))\n",
        "else:\n",
        "  print('False')"
      ],
      "execution_count": null,
      "outputs": [
        {
          "output_type": "stream",
          "text": [
            "True shape is: (249, 14)\n"
          ],
          "name": "stdout"
        }
      ]
    },
    {
      "cell_type": "markdown",
      "metadata": {
        "id": "c7ls4ecDwhYO"
      },
      "source": [
        "Saving the new dataframe for future purposes"
      ]
    },
    {
      "cell_type": "code",
      "metadata": {
        "id": "pJhhqP-Bwlvf"
      },
      "source": [
        "#saves digi as a csv\n",
        "digi.to_csv('data/digi.csv')"
      ],
      "execution_count": null,
      "outputs": []
    },
    {
      "cell_type": "markdown",
      "metadata": {
        "id": "K9c8B7ka2_jC"
      },
      "source": [
        "###Now I want to examine all the digimons by stage and determine which have the highest stats overall."
      ]
    },
    {
      "cell_type": "markdown",
      "metadata": {
        "id": "TzU7UAXua6rP"
      },
      "source": [
        "Below created a table for us to examine. I took the total count, mean, max, min, per stage type and sorted the able by mean in descending order. "
      ]
    },
    {
      "cell_type": "code",
      "metadata": {
        "id": "1UJUluHrXtnS",
        "colab": {
          "base_uri": "https://localhost:8080/",
          "height": 326
        },
        "outputId": "c98f1ba9-295c-4a9f-f362-80589a00f249"
      },
      "source": [
        "#I grouped all the data by stage and aggregated the count, mean, max, and min\n",
        "digi.groupby('Stage').TOTAL.agg(['count', 'mean', 'max', 'min']).sort_values('mean')"
      ],
      "execution_count": null,
      "outputs": [
        {
          "output_type": "execute_result",
          "data": {
            "text/html": [
              "<div>\n",
              "<style scoped>\n",
              "    .dataframe tbody tr th:only-of-type {\n",
              "        vertical-align: middle;\n",
              "    }\n",
              "\n",
              "    .dataframe tbody tr th {\n",
              "        vertical-align: top;\n",
              "    }\n",
              "\n",
              "    .dataframe thead th {\n",
              "        text-align: right;\n",
              "    }\n",
              "</style>\n",
              "<table border=\"1\" class=\"dataframe\">\n",
              "  <thead>\n",
              "    <tr style=\"text-align: right;\">\n",
              "      <th></th>\n",
              "      <th>count</th>\n",
              "      <th>mean</th>\n",
              "      <th>max</th>\n",
              "      <th>min</th>\n",
              "    </tr>\n",
              "    <tr>\n",
              "      <th>Stage</th>\n",
              "      <th></th>\n",
              "      <th></th>\n",
              "      <th></th>\n",
              "      <th></th>\n",
              "    </tr>\n",
              "  </thead>\n",
              "  <tbody>\n",
              "    <tr>\n",
              "      <th>Baby</th>\n",
              "      <td>5</td>\n",
              "      <td>1101.400000</td>\n",
              "      <td>1301</td>\n",
              "      <td>932</td>\n",
              "    </tr>\n",
              "    <tr>\n",
              "      <th>In-Training</th>\n",
              "      <td>11</td>\n",
              "      <td>1236.181818</td>\n",
              "      <td>1412</td>\n",
              "      <td>962</td>\n",
              "    </tr>\n",
              "    <tr>\n",
              "      <th>Rookie</th>\n",
              "      <td>38</td>\n",
              "      <td>1358.815789</td>\n",
              "      <td>1868</td>\n",
              "      <td>1002</td>\n",
              "    </tr>\n",
              "    <tr>\n",
              "      <th>Champion</th>\n",
              "      <td>54</td>\n",
              "      <td>1596.555556</td>\n",
              "      <td>1943</td>\n",
              "      <td>1142</td>\n",
              "    </tr>\n",
              "    <tr>\n",
              "      <th>Armor</th>\n",
              "      <td>3</td>\n",
              "      <td>1850.666667</td>\n",
              "      <td>2012</td>\n",
              "      <td>1668</td>\n",
              "    </tr>\n",
              "    <tr>\n",
              "      <th>Ultimate</th>\n",
              "      <td>58</td>\n",
              "      <td>1892.206897</td>\n",
              "      <td>2498</td>\n",
              "      <td>1442</td>\n",
              "    </tr>\n",
              "    <tr>\n",
              "      <th>Mega</th>\n",
              "      <td>74</td>\n",
              "      <td>2174.324324</td>\n",
              "      <td>2768</td>\n",
              "      <td>1592</td>\n",
              "    </tr>\n",
              "    <tr>\n",
              "      <th>Ultra</th>\n",
              "      <td>6</td>\n",
              "      <td>2283.500000</td>\n",
              "      <td>2528</td>\n",
              "      <td>1898</td>\n",
              "    </tr>\n",
              "  </tbody>\n",
              "</table>\n",
              "</div>"
            ],
            "text/plain": [
              "             count         mean   max   min\n",
              "Stage                                      \n",
              "Baby             5  1101.400000  1301   932\n",
              "In-Training     11  1236.181818  1412   962\n",
              "Rookie          38  1358.815789  1868  1002\n",
              "Champion        54  1596.555556  1943  1142\n",
              "Armor            3  1850.666667  2012  1668\n",
              "Ultimate        58  1892.206897  2498  1442\n",
              "Mega            74  2174.324324  2768  1592\n",
              "Ultra            6  2283.500000  2528  1898"
            ]
          },
          "metadata": {
            "tags": []
          },
          "execution_count": 8
        }
      ]
    },
    {
      "cell_type": "markdown",
      "metadata": {
        "id": "p8cJhXnKXwM_"
      },
      "source": [
        "Below I create a variable with the same info above which is then plotted for us to examine graphically."
      ]
    },
    {
      "cell_type": "code",
      "metadata": {
        "id": "GlZ1OhoSSwWS",
        "colab": {
          "base_uri": "https://localhost:8080/",
          "height": 355
        },
        "outputId": "fb82c2d0-2dae-46f2-fa85-01892eaab64e"
      },
      "source": [
        "# Same info as above but but saved into a variable to plot. \n",
        "stageinfo=digi.groupby('Stage').TOTAL.agg(['count', 'mean', 'max', 'min']).sort_values('mean')\n",
        "stageinfo.plot(kind='bar',title='Total Stats at Different Stages' )"
      ],
      "execution_count": null,
      "outputs": [
        {
          "output_type": "execute_result",
          "data": {
            "text/plain": [
              "<matplotlib.axes._subplots.AxesSubplot at 0x7f6e1e3f0be0>"
            ]
          },
          "metadata": {
            "tags": []
          },
          "execution_count": 91
        },
        {
          "output_type": "display_data",
          "data": {
            "image/png": "[encoded data removed]",
            "text/plain": [
              "<Figure size 432x288 with 1 Axes>"
            ]
          },
          "metadata": {
            "tags": [],
            "needs_background": "light"
          }
        }
      ]
    },
    {
      "cell_type": "markdown",
      "metadata": {
        "id": "XSjA2DXfbiOD"
      },
      "source": [
        "---\n",
        "\n",
        "\n",
        "*   From the graph above, the Ultra stage have the highest stat average, but it \n",
        "does not include the digimon with the max stats. \n",
        "*   The mega stage holds the digimon with the highest overage stats.\n",
        "*   The Mega's also have the largest min to max range compared to the other stages.\n",
        "\n",
        "\n",
        "---\n",
        "\n"
      ]
    },
    {
      "cell_type": "markdown",
      "metadata": {
        "id": "9cA0X7BrhHU9"
      },
      "source": [
        "### Now that I know which have the highest from each stage. Lets create a Team of 3 digimon with the highest overall stats in the game "
      ]
    },
    {
      "cell_type": "code",
      "metadata": {
        "id": "KRdDoRFmhxL9",
        "colab": {
          "base_uri": "https://localhost:8080/",
          "height": 223
        },
        "outputId": "8cf8d618-c32a-41f5-ea27-3a3cd07f2906"
      },
      "source": [
        "digi.head()"
      ],
      "execution_count": null,
      "outputs": [
        {
          "output_type": "execute_result",
          "data": {
            "text/html": [
              "<div>\n",
              "<style scoped>\n",
              "    .dataframe tbody tr th:only-of-type {\n",
              "        vertical-align: middle;\n",
              "    }\n",
              "\n",
              "    .dataframe tbody tr th {\n",
              "        vertical-align: top;\n",
              "    }\n",
              "\n",
              "    .dataframe thead th {\n",
              "        text-align: right;\n",
              "    }\n",
              "</style>\n",
              "<table border=\"1\" class=\"dataframe\">\n",
              "  <thead>\n",
              "    <tr style=\"text-align: right;\">\n",
              "      <th></th>\n",
              "      <th>Number</th>\n",
              "      <th>Digimon</th>\n",
              "      <th>Stage</th>\n",
              "      <th>Type</th>\n",
              "      <th>Attribute</th>\n",
              "      <th>Memory</th>\n",
              "      <th>EquipSlots</th>\n",
              "      <th>TOTAL</th>\n",
              "      <th>Lv50HP</th>\n",
              "      <th>Lv50SP</th>\n",
              "      <th>Lv50Atk</th>\n",
              "      <th>Lv50Def</th>\n",
              "      <th>Lv50Int</th>\n",
              "      <th>Lv50Spd</th>\n",
              "    </tr>\n",
              "  </thead>\n",
              "  <tbody>\n",
              "    <tr>\n",
              "      <th>0</th>\n",
              "      <td>1</td>\n",
              "      <td>Kuramon</td>\n",
              "      <td>Baby</td>\n",
              "      <td>Free</td>\n",
              "      <td>Neutral</td>\n",
              "      <td>2</td>\n",
              "      <td>0</td>\n",
              "      <td>978</td>\n",
              "      <td>590</td>\n",
              "      <td>77</td>\n",
              "      <td>79</td>\n",
              "      <td>69</td>\n",
              "      <td>68</td>\n",
              "      <td>95</td>\n",
              "    </tr>\n",
              "    <tr>\n",
              "      <th>1</th>\n",
              "      <td>2</td>\n",
              "      <td>Pabumon</td>\n",
              "      <td>Baby</td>\n",
              "      <td>Free</td>\n",
              "      <td>Neutral</td>\n",
              "      <td>2</td>\n",
              "      <td>0</td>\n",
              "      <td>1301</td>\n",
              "      <td>950</td>\n",
              "      <td>62</td>\n",
              "      <td>76</td>\n",
              "      <td>76</td>\n",
              "      <td>69</td>\n",
              "      <td>68</td>\n",
              "    </tr>\n",
              "    <tr>\n",
              "      <th>2</th>\n",
              "      <td>3</td>\n",
              "      <td>Punimon</td>\n",
              "      <td>Baby</td>\n",
              "      <td>Free</td>\n",
              "      <td>Neutral</td>\n",
              "      <td>2</td>\n",
              "      <td>0</td>\n",
              "      <td>1229</td>\n",
              "      <td>870</td>\n",
              "      <td>50</td>\n",
              "      <td>97</td>\n",
              "      <td>87</td>\n",
              "      <td>50</td>\n",
              "      <td>75</td>\n",
              "    </tr>\n",
              "    <tr>\n",
              "      <th>3</th>\n",
              "      <td>4</td>\n",
              "      <td>Botamon</td>\n",
              "      <td>Baby</td>\n",
              "      <td>Free</td>\n",
              "      <td>Neutral</td>\n",
              "      <td>2</td>\n",
              "      <td>0</td>\n",
              "      <td>1067</td>\n",
              "      <td>690</td>\n",
              "      <td>68</td>\n",
              "      <td>77</td>\n",
              "      <td>95</td>\n",
              "      <td>76</td>\n",
              "      <td>61</td>\n",
              "    </tr>\n",
              "    <tr>\n",
              "      <th>4</th>\n",
              "      <td>5</td>\n",
              "      <td>Poyomon</td>\n",
              "      <td>Baby</td>\n",
              "      <td>Free</td>\n",
              "      <td>Neutral</td>\n",
              "      <td>2</td>\n",
              "      <td>0</td>\n",
              "      <td>932</td>\n",
              "      <td>540</td>\n",
              "      <td>98</td>\n",
              "      <td>54</td>\n",
              "      <td>59</td>\n",
              "      <td>95</td>\n",
              "      <td>86</td>\n",
              "    </tr>\n",
              "  </tbody>\n",
              "</table>\n",
              "</div>"
            ],
            "text/plain": [
              "   Number  Digimon Stage  Type  ... Lv50Atk  Lv50Def  Lv50Int  Lv50Spd\n",
              "0       1  Kuramon  Baby  Free  ...      79       69       68       95\n",
              "1       2  Pabumon  Baby  Free  ...      76       76       69       68\n",
              "2       3  Punimon  Baby  Free  ...      97       87       50       75\n",
              "3       4  Botamon  Baby  Free  ...      77       95       76       61\n",
              "4       5  Poyomon  Baby  Free  ...      54       59       95       86\n",
              "\n",
              "[5 rows x 14 columns]"
            ]
          },
          "metadata": {
            "tags": []
          },
          "execution_count": 97
        }
      ]
    },
    {
      "cell_type": "code",
      "metadata": {
        "id": "Ap--Of_ZhzMH",
        "colab": {
          "base_uri": "https://localhost:8080/",
          "height": 178
        },
        "outputId": "a5969a18-9461-43c0-aef8-b6a022b8935e"
      },
      "source": [
        "digi.sort_values('TOTAL', ascending=False).head(3)"
      ],
      "execution_count": null,
      "outputs": [
        {
          "output_type": "execute_result",
          "data": {
            "text/html": [
              "<div>\n",
              "<style scoped>\n",
              "    .dataframe tbody tr th:only-of-type {\n",
              "        vertical-align: middle;\n",
              "    }\n",
              "\n",
              "    .dataframe tbody tr th {\n",
              "        vertical-align: top;\n",
              "    }\n",
              "\n",
              "    .dataframe thead th {\n",
              "        text-align: right;\n",
              "    }\n",
              "</style>\n",
              "<table border=\"1\" class=\"dataframe\">\n",
              "  <thead>\n",
              "    <tr style=\"text-align: right;\">\n",
              "      <th></th>\n",
              "      <th>Number</th>\n",
              "      <th>Digimon</th>\n",
              "      <th>Stage</th>\n",
              "      <th>Type</th>\n",
              "      <th>Attribute</th>\n",
              "      <th>Memory</th>\n",
              "      <th>EquipSlots</th>\n",
              "      <th>TOTAL</th>\n",
              "      <th>Lv50HP</th>\n",
              "      <th>Lv50SP</th>\n",
              "      <th>Lv50Atk</th>\n",
              "      <th>Lv50Def</th>\n",
              "      <th>Lv50Int</th>\n",
              "      <th>Lv50Spd</th>\n",
              "    </tr>\n",
              "  </thead>\n",
              "  <tbody>\n",
              "    <tr>\n",
              "      <th>178</th>\n",
              "      <td>179</td>\n",
              "      <td>Gankoomon</td>\n",
              "      <td>Mega</td>\n",
              "      <td>Data</td>\n",
              "      <td>Fire</td>\n",
              "      <td>22</td>\n",
              "      <td>1</td>\n",
              "      <td>2768</td>\n",
              "      <td>2080</td>\n",
              "      <td>90</td>\n",
              "      <td>188</td>\n",
              "      <td>163</td>\n",
              "      <td>109</td>\n",
              "      <td>138</td>\n",
              "    </tr>\n",
              "    <tr>\n",
              "      <th>245</th>\n",
              "      <td>246</td>\n",
              "      <td>ShineGreymon BM</td>\n",
              "      <td>Mega</td>\n",
              "      <td>Vaccine</td>\n",
              "      <td>Fire</td>\n",
              "      <td>22</td>\n",
              "      <td>2</td>\n",
              "      <td>2678</td>\n",
              "      <td>1980</td>\n",
              "      <td>114</td>\n",
              "      <td>228</td>\n",
              "      <td>104</td>\n",
              "      <td>84</td>\n",
              "      <td>168</td>\n",
              "    </tr>\n",
              "    <tr>\n",
              "      <th>193</th>\n",
              "      <td>194</td>\n",
              "      <td>Titamon</td>\n",
              "      <td>Mega</td>\n",
              "      <td>Virus</td>\n",
              "      <td>Earth</td>\n",
              "      <td>18</td>\n",
              "      <td>3</td>\n",
              "      <td>2583</td>\n",
              "      <td>1930</td>\n",
              "      <td>99</td>\n",
              "      <td>183</td>\n",
              "      <td>128</td>\n",
              "      <td>114</td>\n",
              "      <td>129</td>\n",
              "    </tr>\n",
              "  </tbody>\n",
              "</table>\n",
              "</div>"
            ],
            "text/plain": [
              "     Number          Digimon Stage     Type  ... Lv50Atk  Lv50Def  Lv50Int  Lv50Spd\n",
              "178     179        Gankoomon  Mega     Data  ...     188      163      109      138\n",
              "245     246  ShineGreymon BM  Mega  Vaccine  ...     228      104       84      168\n",
              "193     194          Titamon  Mega    Virus  ...     183      128      114      129\n",
              "\n",
              "[3 rows x 14 columns]"
            ]
          },
          "metadata": {
            "tags": []
          },
          "execution_count": 98
        }
      ]
    },
    {
      "cell_type": "markdown",
      "metadata": {
        "id": "FI3iqM5HjXio"
      },
      "source": [
        "---\n",
        "\n",
        "\n",
        "\n",
        "*   It shows here that the 3 Digimon that hold the higher overall stats are in the Mega stage\n",
        "*   But is this really the best team? \n",
        "*   What if we took it further a bit to find the best digimon.\n",
        "*   Can we find the digimon with best stat ratio?\n",
        "---\n"
      ]
    },
    {
      "cell_type": "markdown",
      "metadata": {
        "id": "RyPscrech0vo"
      },
      "source": [
        "3##Just messing around with the babies"
      ]
    },
    {
      "cell_type": "code",
      "metadata": {
        "id": "Qa17y-DO2LaC",
        "colab": {
          "base_uri": "https://localhost:8080/",
          "height": 223
        },
        "outputId": "1602fedc-1f0b-4f3b-affb-460d3c7e80d2"
      },
      "source": [
        "# this does not affect te originl data just examines a portion where\n",
        "# the type is babu and its in descending order\n",
        "digi[digi.Stage=='Baby'].sort_values('TOTAL', ascending=False)"
      ],
      "execution_count": null,
      "outputs": [
        {
          "output_type": "execute_result",
          "data": {
            "text/html": [
              "<div>\n",
              "<style scoped>\n",
              "    .dataframe tbody tr th:only-of-type {\n",
              "        vertical-align: middle;\n",
              "    }\n",
              "\n",
              "    .dataframe tbody tr th {\n",
              "        vertical-align: top;\n",
              "    }\n",
              "\n",
              "    .dataframe thead th {\n",
              "        text-align: right;\n",
              "    }\n",
              "</style>\n",
              "<table border=\"1\" class=\"dataframe\">\n",
              "  <thead>\n",
              "    <tr style=\"text-align: right;\">\n",
              "      <th></th>\n",
              "      <th>Number</th>\n",
              "      <th>Digimon</th>\n",
              "      <th>Stage</th>\n",
              "      <th>Type</th>\n",
              "      <th>Attribute</th>\n",
              "      <th>Memory</th>\n",
              "      <th>EquipSlots</th>\n",
              "      <th>TOTAL</th>\n",
              "      <th>Lv50HP</th>\n",
              "      <th>Lv50SP</th>\n",
              "      <th>Lv50Atk</th>\n",
              "      <th>Lv50Def</th>\n",
              "      <th>Lv50Int</th>\n",
              "      <th>Lv50Spd</th>\n",
              "    </tr>\n",
              "  </thead>\n",
              "  <tbody>\n",
              "    <tr>\n",
              "      <th>1</th>\n",
              "      <td>2</td>\n",
              "      <td>Pabumon</td>\n",
              "      <td>Baby</td>\n",
              "      <td>Free</td>\n",
              "      <td>Neutral</td>\n",
              "      <td>2</td>\n",
              "      <td>0</td>\n",
              "      <td>1301</td>\n",
              "      <td>950</td>\n",
              "      <td>62</td>\n",
              "      <td>76</td>\n",
              "      <td>76</td>\n",
              "      <td>69</td>\n",
              "      <td>68</td>\n",
              "    </tr>\n",
              "    <tr>\n",
              "      <th>2</th>\n",
              "      <td>3</td>\n",
              "      <td>Punimon</td>\n",
              "      <td>Baby</td>\n",
              "      <td>Free</td>\n",
              "      <td>Neutral</td>\n",
              "      <td>2</td>\n",
              "      <td>0</td>\n",
              "      <td>1229</td>\n",
              "      <td>870</td>\n",
              "      <td>50</td>\n",
              "      <td>97</td>\n",
              "      <td>87</td>\n",
              "      <td>50</td>\n",
              "      <td>75</td>\n",
              "    </tr>\n",
              "    <tr>\n",
              "      <th>3</th>\n",
              "      <td>4</td>\n",
              "      <td>Botamon</td>\n",
              "      <td>Baby</td>\n",
              "      <td>Free</td>\n",
              "      <td>Neutral</td>\n",
              "      <td>2</td>\n",
              "      <td>0</td>\n",
              "      <td>1067</td>\n",
              "      <td>690</td>\n",
              "      <td>68</td>\n",
              "      <td>77</td>\n",
              "      <td>95</td>\n",
              "      <td>76</td>\n",
              "      <td>61</td>\n",
              "    </tr>\n",
              "    <tr>\n",
              "      <th>0</th>\n",
              "      <td>1</td>\n",
              "      <td>Kuramon</td>\n",
              "      <td>Baby</td>\n",
              "      <td>Free</td>\n",
              "      <td>Neutral</td>\n",
              "      <td>2</td>\n",
              "      <td>0</td>\n",
              "      <td>978</td>\n",
              "      <td>590</td>\n",
              "      <td>77</td>\n",
              "      <td>79</td>\n",
              "      <td>69</td>\n",
              "      <td>68</td>\n",
              "      <td>95</td>\n",
              "    </tr>\n",
              "    <tr>\n",
              "      <th>4</th>\n",
              "      <td>5</td>\n",
              "      <td>Poyomon</td>\n",
              "      <td>Baby</td>\n",
              "      <td>Free</td>\n",
              "      <td>Neutral</td>\n",
              "      <td>2</td>\n",
              "      <td>0</td>\n",
              "      <td>932</td>\n",
              "      <td>540</td>\n",
              "      <td>98</td>\n",
              "      <td>54</td>\n",
              "      <td>59</td>\n",
              "      <td>95</td>\n",
              "      <td>86</td>\n",
              "    </tr>\n",
              "  </tbody>\n",
              "</table>\n",
              "</div>"
            ],
            "text/plain": [
              "   Number  Digimon Stage  Type  ... Lv50Atk  Lv50Def  Lv50Int  Lv50Spd\n",
              "1       2  Pabumon  Baby  Free  ...      76       76       69       68\n",
              "2       3  Punimon  Baby  Free  ...      97       87       50       75\n",
              "3       4  Botamon  Baby  Free  ...      77       95       76       61\n",
              "0       1  Kuramon  Baby  Free  ...      79       69       68       95\n",
              "4       5  Poyomon  Baby  Free  ...      54       59       95       86\n",
              "\n",
              "[5 rows x 14 columns]"
            ]
          },
          "metadata": {
            "tags": []
          },
          "execution_count": 63
        }
      ]
    },
    {
      "cell_type": "code",
      "metadata": {
        "id": "I6GaULRxVo-C",
        "colab": {
          "base_uri": "https://localhost:8080/",
          "height": 35
        },
        "outputId": "bf8a4ead-51dc-45a6-ba63-f91ad7d1860c"
      },
      "source": [
        "# this does not affect te originl data just examines a portion where\n",
        "# the type is babu and its in descending order\n",
        "digi[digi.Stage=='Baby'].TOTAL.max()#sort_values('TOTAL', ascending=False)"
      ],
      "execution_count": null,
      "outputs": [
        {
          "output_type": "execute_result",
          "data": {
            "text/plain": [
              "1301"
            ]
          },
          "metadata": {
            "tags": []
          },
          "execution_count": 96
        }
      ]
    },
    {
      "cell_type": "markdown",
      "metadata": {
        "id": "wZprVPlpLMFj"
      },
      "source": [
        "###Now I want to combine all three file into one for practice"
      ]
    },
    {
      "cell_type": "code",
      "metadata": {
        "id": "CJ4_jm7hLR3n",
        "colab": {
          "base_uri": "https://localhost:8080/",
          "height": 35
        },
        "outputId": "bba39af1-495d-476d-f20a-c4b9c3c1cd7a"
      },
      "source": [
        "import os\n",
        "import pandas as pd\n",
        "\n",
        "all_digi_data = pd.DataFrame()\n",
        "digis= [d for d in os.listdir('data/')]\n",
        "\n",
        "for d in digis:\n",
        "  df = pd.read_csv('data/' + d)\n",
        "  all_digi_data = pd.concat([all_digi_data, df])\n",
        "\n",
        "all_digi_data.shape"
      ],
      "execution_count": null,
      "outputs": [
        {
          "output_type": "execute_result",
          "data": {
            "text/plain": [
              "(722, 19)"
            ]
          },
          "metadata": {
            "tags": []
          },
          "execution_count": 5
        }
      ]
    },
    {
      "cell_type": "code",
      "metadata": {
        "id": "Q7Im-n4PPZvQ",
        "colab": {
          "base_uri": "https://localhost:8080/",
          "height": 274
        },
        "outputId": "fcad3a69-6fda-4d3a-a42b-299c900bbd2f"
      },
      "source": [
        "all_digi_data.tail()"
      ],
      "execution_count": null,
      "outputs": [
        {
          "output_type": "execute_result",
          "data": {
            "text/html": [
              "<div>\n",
              "<style scoped>\n",
              "    .dataframe tbody tr th:only-of-type {\n",
              "        vertical-align: middle;\n",
              "    }\n",
              "\n",
              "    .dataframe tbody tr th {\n",
              "        vertical-align: top;\n",
              "    }\n",
              "\n",
              "    .dataframe thead th {\n",
              "        text-align: right;\n",
              "    }\n",
              "</style>\n",
              "<table border=\"1\" class=\"dataframe\">\n",
              "  <thead>\n",
              "    <tr style=\"text-align: right;\">\n",
              "      <th></th>\n",
              "      <th>Name</th>\n",
              "      <th>Description</th>\n",
              "      <th>Move</th>\n",
              "      <th>SP Cost</th>\n",
              "      <th>Type</th>\n",
              "      <th>Power</th>\n",
              "      <th>Attribute</th>\n",
              "      <th>Inheritable</th>\n",
              "      <th>Number</th>\n",
              "      <th>Digimon</th>\n",
              "      <th>Stage</th>\n",
              "      <th>Memory</th>\n",
              "      <th>EquipSlots</th>\n",
              "      <th>Lv50HP</th>\n",
              "      <th>Lv50SP</th>\n",
              "      <th>Lv50Atk</th>\n",
              "      <th>Lv50Def</th>\n",
              "      <th>Lv50Int</th>\n",
              "      <th>Lv50Spd</th>\n",
              "    </tr>\n",
              "  </thead>\n",
              "  <tbody>\n",
              "    <tr>\n",
              "      <th>244</th>\n",
              "      <td>NaN</td>\n",
              "      <td>NaN</td>\n",
              "      <td>NaN</td>\n",
              "      <td>NaN</td>\n",
              "      <td>Free</td>\n",
              "      <td>NaN</td>\n",
              "      <td>Wind</td>\n",
              "      <td>NaN</td>\n",
              "      <td>245.0</td>\n",
              "      <td>Valkyrimon</td>\n",
              "      <td>Mega</td>\n",
              "      <td>18.0</td>\n",
              "      <td>3.0</td>\n",
              "      <td>1330.0</td>\n",
              "      <td>139.0</td>\n",
              "      <td>148.0</td>\n",
              "      <td>129.0</td>\n",
              "      <td>129.0</td>\n",
              "      <td>168.0</td>\n",
              "    </tr>\n",
              "    <tr>\n",
              "      <th>245</th>\n",
              "      <td>NaN</td>\n",
              "      <td>NaN</td>\n",
              "      <td>NaN</td>\n",
              "      <td>NaN</td>\n",
              "      <td>Vaccine</td>\n",
              "      <td>NaN</td>\n",
              "      <td>Fire</td>\n",
              "      <td>NaN</td>\n",
              "      <td>246.0</td>\n",
              "      <td>ShineGreymon BM</td>\n",
              "      <td>Mega</td>\n",
              "      <td>22.0</td>\n",
              "      <td>2.0</td>\n",
              "      <td>1980.0</td>\n",
              "      <td>114.0</td>\n",
              "      <td>228.0</td>\n",
              "      <td>104.0</td>\n",
              "      <td>84.0</td>\n",
              "      <td>168.0</td>\n",
              "    </tr>\n",
              "    <tr>\n",
              "      <th>246</th>\n",
              "      <td>NaN</td>\n",
              "      <td>NaN</td>\n",
              "      <td>NaN</td>\n",
              "      <td>NaN</td>\n",
              "      <td>Data</td>\n",
              "      <td>NaN</td>\n",
              "      <td>Light</td>\n",
              "      <td>NaN</td>\n",
              "      <td>247.0</td>\n",
              "      <td>MirageGaogamon BM</td>\n",
              "      <td>Mega</td>\n",
              "      <td>20.0</td>\n",
              "      <td>2.0</td>\n",
              "      <td>1440.0</td>\n",
              "      <td>124.0</td>\n",
              "      <td>178.0</td>\n",
              "      <td>104.0</td>\n",
              "      <td>158.0</td>\n",
              "      <td>174.0</td>\n",
              "    </tr>\n",
              "    <tr>\n",
              "      <th>247</th>\n",
              "      <td>NaN</td>\n",
              "      <td>NaN</td>\n",
              "      <td>NaN</td>\n",
              "      <td>NaN</td>\n",
              "      <td>Vaccine</td>\n",
              "      <td>NaN</td>\n",
              "      <td>Wind</td>\n",
              "      <td>NaN</td>\n",
              "      <td>248.0</td>\n",
              "      <td>Ravemon BM</td>\n",
              "      <td>Mega</td>\n",
              "      <td>20.0</td>\n",
              "      <td>2.0</td>\n",
              "      <td>1040.0</td>\n",
              "      <td>133.0</td>\n",
              "      <td>149.0</td>\n",
              "      <td>139.0</td>\n",
              "      <td>144.0</td>\n",
              "      <td>213.0</td>\n",
              "    </tr>\n",
              "    <tr>\n",
              "      <th>248</th>\n",
              "      <td>NaN</td>\n",
              "      <td>NaN</td>\n",
              "      <td>NaN</td>\n",
              "      <td>NaN</td>\n",
              "      <td>Data</td>\n",
              "      <td>NaN</td>\n",
              "      <td>Plant</td>\n",
              "      <td>NaN</td>\n",
              "      <td>249.0</td>\n",
              "      <td>Rosemon BM</td>\n",
              "      <td>Mega</td>\n",
              "      <td>20.0</td>\n",
              "      <td>2.0</td>\n",
              "      <td>1480.0</td>\n",
              "      <td>143.0</td>\n",
              "      <td>149.0</td>\n",
              "      <td>139.0</td>\n",
              "      <td>159.0</td>\n",
              "      <td>143.0</td>\n",
              "    </tr>\n",
              "  </tbody>\n",
              "</table>\n",
              "</div>"
            ],
            "text/plain": [
              "    Name Description Move  SP Cost  ... Lv50Atk  Lv50Def Lv50Int Lv50Spd\n",
              "244  NaN         NaN  NaN      NaN  ...   148.0    129.0   129.0   168.0\n",
              "245  NaN         NaN  NaN      NaN  ...   228.0    104.0    84.0   168.0\n",
              "246  NaN         NaN  NaN      NaN  ...   178.0    104.0   158.0   174.0\n",
              "247  NaN         NaN  NaN      NaN  ...   149.0    139.0   144.0   213.0\n",
              "248  NaN         NaN  NaN      NaN  ...   149.0    139.0   159.0   143.0\n",
              "\n",
              "[5 rows x 19 columns]"
            ]
          },
          "metadata": {
            "tags": []
          },
          "execution_count": 6
        }
      ]
    },
    {
      "cell_type": "markdown",
      "metadata": {
        "id": "roSiKPBPyBFU"
      },
      "source": [
        "### trying out new things"
      ]
    },
    {
      "cell_type": "code",
      "metadata": {
        "id": "2p9b1e91yTw4",
        "colab": {
          "base_uri": "https://localhost:8080/",
          "height": 352
        },
        "outputId": "98b13afa-2216-4022-a1c5-acf24528ae45"
      },
      "source": [
        "#histogram\n",
        "sns.distplot(digi['TOTAL'])"
      ],
      "execution_count": null,
      "outputs": [
        {
          "output_type": "stream",
          "text": [
            "/usr/local/lib/python3.6/dist-packages/seaborn/distributions.py:2551: FutureWarning: `distplot` is a deprecated function and will be removed in a future version. Please adapt your code to use either `displot` (a figure-level function with similar flexibility) or `histplot` (an axes-level function for histograms).\n",
            "  warnings.warn(msg, FutureWarning)\n"
          ],
          "name": "stderr"
        },
        {
          "output_type": "execute_result",
          "data": {
            "text/plain": [
              "<matplotlib.axes._subplots.AxesSubplot at 0x7f6bfaaafe10>"
            ]
          },
          "metadata": {
            "tags": []
          },
          "execution_count": 12
        },
        {
          "output_type": "display_data",
          "data": {
            "image/png": "[encoded data removed]",
            "text/plain": [
              "<Figure size 432x288 with 1 Axes>"
            ]
          },
          "metadata": {
            "tags": [],
            "needs_background": "light"
          }
        }
      ]
    },
    {
      "cell_type": "markdown",
      "metadata": {
        "id": "IJY3XS-Rz3ae"
      },
      "source": [
        "The graph above ins interesting. I dont know what it means by density but i think i get it. Slightly deviates from normal distribution. "
      ]
    },
    {
      "cell_type": "code",
      "metadata": {
        "id": "naKNfddMzc0W",
        "colab": {
          "base_uri": "https://localhost:8080/",
          "height": 297
        },
        "outputId": "7afbf735-16ad-4d48-e003-3ec0a1c7e6f4"
      },
      "source": [
        "sns.histplot(digi['TOTAL'])"
      ],
      "execution_count": null,
      "outputs": [
        {
          "output_type": "execute_result",
          "data": {
            "text/plain": [
              "<matplotlib.axes._subplots.AxesSubplot at 0x7f6bfa9d7160>"
            ]
          },
          "metadata": {
            "tags": []
          },
          "execution_count": 13
        },
        {
          "output_type": "display_data",
          "data": {
            "image/png": "[encoded data removed]",
            "text/plain": [
              "<Figure size 432x288 with 1 Axes>"
            ]
          },
          "metadata": {
            "tags": [],
            "needs_background": "light"
          }
        }
      ]
    },
    {
      "cell_type": "markdown",
      "metadata": {
        "id": "GjLRaAWA0KPp"
      },
      "source": [
        "this graph looks a whole lot less drastic than the graph below because everything here seems level."
      ]
    },
    {
      "cell_type": "code",
      "metadata": {
        "id": "T6tTi9z8ziRS",
        "colab": {
          "base_uri": "https://localhost:8080/",
          "height": 387
        },
        "outputId": "02ced8f4-84cb-46a7-a0e4-0517a18dfb4f"
      },
      "source": [
        "sns.displot(digi['TOTAL'])"
      ],
      "execution_count": null,
      "outputs": [
        {
          "output_type": "execute_result",
          "data": {
            "text/plain": [
              "<seaborn.axisgrid.FacetGrid at 0x7f6bfaa09e10>"
            ]
          },
          "metadata": {
            "tags": []
          },
          "execution_count": 14
        },
        {
          "output_type": "display_data",
          "data": {
            "image/png": "[encoded data removed]",
            "text/plain": [
              "<Figure size 360x360 with 1 Axes>"
            ]
          },
          "metadata": {
            "tags": [],
            "needs_background": "light"
          }
        }
      ]
    },
    {
      "cell_type": "markdown",
      "metadata": {
        "id": "qhgHxssL0TzM"
      },
      "source": [
        "the graph above hold the same info as this one but emphasis of the vertical. peaks at total 1750."
      ]
    },
    {
      "cell_type": "code",
      "metadata": {
        "id": "3T3ngBR61Jzx",
        "colab": {
          "base_uri": "https://localhost:8080/",
          "height": 35
        },
        "outputId": "3aeb9c69-90f5-4a26-b3e4-c57df3187656"
      },
      "source": [
        "digi['TOTAL'].skew()"
      ],
      "execution_count": null,
      "outputs": [
        {
          "output_type": "execute_result",
          "data": {
            "text/plain": [
              "0.0376224696204434"
            ]
          },
          "metadata": {
            "tags": []
          },
          "execution_count": 15
        }
      ]
    },
    {
      "cell_type": "markdown",
      "metadata": {
        "id": "6D0IyF9t2oLA"
      },
      "source": [
        "A skewness value of 0 in the output denotes a symmetrical distribution of values in row 1.\n",
        "A negative skewness value in the output indicates an asymmetry in the distribution corresponding to row 2 and the tail is larger towards the left hand side of the distribution.\n",
        "A positive skewness value in the output indicates an asymmetry in the distribution corresponding to row 3 and the tail is larger towards the right hand side of the distribution."
      ]
    },
    {
      "cell_type": "code",
      "metadata": {
        "id": "PS4wbHDM1OmA",
        "colab": {
          "base_uri": "https://localhost:8080/",
          "height": 35
        },
        "outputId": "6ccc212d-b047-49e7-ca5e-06fe04efd8db"
      },
      "source": [
        "digi['TOTAL'].kurt()"
      ],
      "execution_count": null,
      "outputs": [
        {
          "output_type": "execute_result",
          "data": {
            "text/plain": [
              "-0.7642074458934971"
            ]
          },
          "metadata": {
            "tags": []
          },
          "execution_count": 19
        }
      ]
    },
    {
      "cell_type": "markdown",
      "metadata": {
        "id": "Q7dxosHd2AsB"
      },
      "source": [
        "Negative values of kurtosis indicate that a distribution is flat and has thin tails. Which is in this case it tru it is really flat. Closer to 0 the more normal it is\n"
      ]
    },
    {
      "cell_type": "code",
      "metadata": {
        "id": "X7OlDocN48CP",
        "colab": {
          "base_uri": "https://localhost:8080/",
          "height": 312
        },
        "outputId": "7afccae7-bcc4-4c2d-cead-4f0a180fcfb7"
      },
      "source": [
        "sns.heatmap(digi.corr(), vmax=.8, square=True);"
      ],
      "execution_count": null,
      "outputs": [
        {
          "output_type": "display_data",
          "data": {
            "image/png": "[encoded data removed]",
            "text/plain": [
              "<Figure size 432x288 with 2 Axes>"
            ]
          },
          "metadata": {
            "tags": [],
            "needs_background": "light"
          }
        }
      ]
    },
    {
      "cell_type": "markdown",
      "metadata": {
        "id": "89cqstLN4QzG"
      },
      "source": [
        "\n",
        "\n",
        "---\n",
        "\n",
        "\n",
        "# Digimon Exploratory Data Analysis\n",
        "### Intro\n",
        "Digimon stands for Digital Monster, an anime TV show that tells a story about an entirely different world inside the computer created with data. This notebook is for knowing the information of Digimon, their moves, and support to achieve their maximum potential"
      ]
    },
    {
      "cell_type": "markdown",
      "metadata": {
        "id": "PGvOy09nAxr1"
      },
      "source": [
        "##Imports"
      ]
    },
    {
      "cell_type": "code",
      "metadata": {
        "_cell_guid": "b1076dfc-b9ad-4769-8c92-a6c4dae69d19",
        "_uuid": "8f2839f25d086af736a60e9eeb907d3b93b6e0e5",
        "id": "WRTotSkA4QzA"
      },
      "source": [
        "#imports needed\n",
        "import numpy as np # linear algebra\n",
        "import pandas as pd # data processing, CSV file I/O (e.g. pd.read_csv)\n",
        "import seaborn as sns\n",
        "import matplotlib.pyplot as plt\n",
        "%matplotlib inline"
      ],
      "execution_count": null,
      "outputs": []
    },
    {
      "cell_type": "markdown",
      "metadata": {
        "id": "i0rniuR24QzJ"
      },
      "source": [
        "## Inputting the Data"
      ]
    },
    {
      "cell_type": "code",
      "metadata": {
        "_cell_guid": "79c7e3d0-c299-4dcb-8224-4455121ee9b0",
        "_uuid": "d629ff2d2480ee46fbb7e2d37f6b5fab8052498a",
        "id": "W-028oCj4QzK"
      },
      "source": [
        "# all digimon\n",
        "digimon = pd.read_csv('data/DigiDB_digimonlist.csv')\n",
        "#all digimon moves\n",
        "move = pd.read_csv('data/DigiDB_movelist.csv')\n",
        "#all the support abilities\n",
        "support = pd.read_csv('data/DigiDB_supportlist.csv')"
      ],
      "execution_count": null,
      "outputs": []
    },
    {
      "cell_type": "markdown",
      "metadata": {
        "id": "qKVtWG-l4QzM"
      },
      "source": [
        "## Peeking at the Datasets\n",
        "As we can see here the datasets is clean and ready to use, no missing values and such."
      ]
    },
    {
      "cell_type": "code",
      "metadata": {
        "id": "6ijD4uIw4QzN",
        "colab": {
          "base_uri": "https://localhost:8080/",
          "height": 223
        },
        "outputId": "9447a7e1-438e-42f4-9b3a-1e2b593a8be5"
      },
      "source": [
        "digimon.head()"
      ],
      "execution_count": null,
      "outputs": [
        {
          "output_type": "execute_result",
          "data": {
            "text/html": [
              "<div>\n",
              "<style scoped>\n",
              "    .dataframe tbody tr th:only-of-type {\n",
              "        vertical-align: middle;\n",
              "    }\n",
              "\n",
              "    .dataframe tbody tr th {\n",
              "        vertical-align: top;\n",
              "    }\n",
              "\n",
              "    .dataframe thead th {\n",
              "        text-align: right;\n",
              "    }\n",
              "</style>\n",
              "<table border=\"1\" class=\"dataframe\">\n",
              "  <thead>\n",
              "    <tr style=\"text-align: right;\">\n",
              "      <th></th>\n",
              "      <th>Number</th>\n",
              "      <th>Digimon</th>\n",
              "      <th>Stage</th>\n",
              "      <th>Type</th>\n",
              "      <th>Attribute</th>\n",
              "      <th>Memory</th>\n",
              "      <th>EquipSlots</th>\n",
              "      <th>Lv50HP</th>\n",
              "      <th>Lv50SP</th>\n",
              "      <th>Lv50Atk</th>\n",
              "      <th>Lv50Def</th>\n",
              "      <th>Lv50Int</th>\n",
              "      <th>Lv50Spd</th>\n",
              "    </tr>\n",
              "  </thead>\n",
              "  <tbody>\n",
              "    <tr>\n",
              "      <th>0</th>\n",
              "      <td>1</td>\n",
              "      <td>Kuramon</td>\n",
              "      <td>Baby</td>\n",
              "      <td>Free</td>\n",
              "      <td>Neutral</td>\n",
              "      <td>2</td>\n",
              "      <td>0</td>\n",
              "      <td>590</td>\n",
              "      <td>77</td>\n",
              "      <td>79</td>\n",
              "      <td>69</td>\n",
              "      <td>68</td>\n",
              "      <td>95</td>\n",
              "    </tr>\n",
              "    <tr>\n",
              "      <th>1</th>\n",
              "      <td>2</td>\n",
              "      <td>Pabumon</td>\n",
              "      <td>Baby</td>\n",
              "      <td>Free</td>\n",
              "      <td>Neutral</td>\n",
              "      <td>2</td>\n",
              "      <td>0</td>\n",
              "      <td>950</td>\n",
              "      <td>62</td>\n",
              "      <td>76</td>\n",
              "      <td>76</td>\n",
              "      <td>69</td>\n",
              "      <td>68</td>\n",
              "    </tr>\n",
              "    <tr>\n",
              "      <th>2</th>\n",
              "      <td>3</td>\n",
              "      <td>Punimon</td>\n",
              "      <td>Baby</td>\n",
              "      <td>Free</td>\n",
              "      <td>Neutral</td>\n",
              "      <td>2</td>\n",
              "      <td>0</td>\n",
              "      <td>870</td>\n",
              "      <td>50</td>\n",
              "      <td>97</td>\n",
              "      <td>87</td>\n",
              "      <td>50</td>\n",
              "      <td>75</td>\n",
              "    </tr>\n",
              "    <tr>\n",
              "      <th>3</th>\n",
              "      <td>4</td>\n",
              "      <td>Botamon</td>\n",
              "      <td>Baby</td>\n",
              "      <td>Free</td>\n",
              "      <td>Neutral</td>\n",
              "      <td>2</td>\n",
              "      <td>0</td>\n",
              "      <td>690</td>\n",
              "      <td>68</td>\n",
              "      <td>77</td>\n",
              "      <td>95</td>\n",
              "      <td>76</td>\n",
              "      <td>61</td>\n",
              "    </tr>\n",
              "    <tr>\n",
              "      <th>4</th>\n",
              "      <td>5</td>\n",
              "      <td>Poyomon</td>\n",
              "      <td>Baby</td>\n",
              "      <td>Free</td>\n",
              "      <td>Neutral</td>\n",
              "      <td>2</td>\n",
              "      <td>0</td>\n",
              "      <td>540</td>\n",
              "      <td>98</td>\n",
              "      <td>54</td>\n",
              "      <td>59</td>\n",
              "      <td>95</td>\n",
              "      <td>86</td>\n",
              "    </tr>\n",
              "  </tbody>\n",
              "</table>\n",
              "</div>"
            ],
            "text/plain": [
              "   Number  Digimon Stage  Type  ... Lv50Atk  Lv50Def  Lv50Int  Lv50Spd\n",
              "0       1  Kuramon  Baby  Free  ...      79       69       68       95\n",
              "1       2  Pabumon  Baby  Free  ...      76       76       69       68\n",
              "2       3  Punimon  Baby  Free  ...      97       87       50       75\n",
              "3       4  Botamon  Baby  Free  ...      77       95       76       61\n",
              "4       5  Poyomon  Baby  Free  ...      54       59       95       86\n",
              "\n",
              "[5 rows x 13 columns]"
            ]
          },
          "metadata": {
            "tags": []
          },
          "execution_count": 21
        }
      ]
    },
    {
      "cell_type": "code",
      "metadata": {
        "id": "Zhz0pyaH4QzQ",
        "colab": {
          "base_uri": "https://localhost:8080/",
          "height": 203
        },
        "outputId": "8b32a1d6-d587-4a02-d503-9041265b56f2"
      },
      "source": [
        "move.head()"
      ],
      "execution_count": null,
      "outputs": [
        {
          "output_type": "execute_result",
          "data": {
            "text/html": [
              "<div>\n",
              "<style scoped>\n",
              "    .dataframe tbody tr th:only-of-type {\n",
              "        vertical-align: middle;\n",
              "    }\n",
              "\n",
              "    .dataframe tbody tr th {\n",
              "        vertical-align: top;\n",
              "    }\n",
              "\n",
              "    .dataframe thead th {\n",
              "        text-align: right;\n",
              "    }\n",
              "</style>\n",
              "<table border=\"1\" class=\"dataframe\">\n",
              "  <thead>\n",
              "    <tr style=\"text-align: right;\">\n",
              "      <th></th>\n",
              "      <th>Move</th>\n",
              "      <th>SP Cost</th>\n",
              "      <th>Type</th>\n",
              "      <th>Power</th>\n",
              "      <th>Attribute</th>\n",
              "      <th>Inheritable</th>\n",
              "      <th>Description</th>\n",
              "    </tr>\n",
              "  </thead>\n",
              "  <tbody>\n",
              "    <tr>\n",
              "      <th>0</th>\n",
              "      <td>Wolkenapalm I</td>\n",
              "      <td>3</td>\n",
              "      <td>Physical</td>\n",
              "      <td>65</td>\n",
              "      <td>Fire</td>\n",
              "      <td>Yes</td>\n",
              "      <td>Physical attack, 65 Fire damage to one foe. 95...</td>\n",
              "    </tr>\n",
              "    <tr>\n",
              "      <th>1</th>\n",
              "      <td>Wolkenapalm II</td>\n",
              "      <td>6</td>\n",
              "      <td>Physical</td>\n",
              "      <td>85</td>\n",
              "      <td>Fire</td>\n",
              "      <td>Yes</td>\n",
              "      <td>Physical attack, 85 Fire damage to one foe. 95...</td>\n",
              "    </tr>\n",
              "    <tr>\n",
              "      <th>2</th>\n",
              "      <td>Wolkenapalm III</td>\n",
              "      <td>9</td>\n",
              "      <td>Physical</td>\n",
              "      <td>105</td>\n",
              "      <td>Fire</td>\n",
              "      <td>Yes</td>\n",
              "      <td>Physical attack, 105 Fire damage to one foe. 9...</td>\n",
              "    </tr>\n",
              "    <tr>\n",
              "      <th>3</th>\n",
              "      <td>Burst Flame I</td>\n",
              "      <td>3</td>\n",
              "      <td>Magic</td>\n",
              "      <td>55</td>\n",
              "      <td>Fire</td>\n",
              "      <td>Yes</td>\n",
              "      <td>Magic attack, 55 Fire damage to one foe. 95% a...</td>\n",
              "    </tr>\n",
              "    <tr>\n",
              "      <th>4</th>\n",
              "      <td>Burst Flame II</td>\n",
              "      <td>6</td>\n",
              "      <td>Magic</td>\n",
              "      <td>75</td>\n",
              "      <td>Fire</td>\n",
              "      <td>Yes</td>\n",
              "      <td>Magic attack, 75 Fire damage to one foe. 95% a...</td>\n",
              "    </tr>\n",
              "  </tbody>\n",
              "</table>\n",
              "</div>"
            ],
            "text/plain": [
              "              Move  ...                                        Description\n",
              "0    Wolkenapalm I  ...  Physical attack, 65 Fire damage to one foe. 95...\n",
              "1   Wolkenapalm II  ...  Physical attack, 85 Fire damage to one foe. 95...\n",
              "2  Wolkenapalm III  ...  Physical attack, 105 Fire damage to one foe. 9...\n",
              "3    Burst Flame I  ...  Magic attack, 55 Fire damage to one foe. 95% a...\n",
              "4   Burst Flame II  ...  Magic attack, 75 Fire damage to one foe. 95% a...\n",
              "\n",
              "[5 rows x 7 columns]"
            ]
          },
          "metadata": {
            "tags": []
          },
          "execution_count": 22
        }
      ]
    },
    {
      "cell_type": "code",
      "metadata": {
        "id": "YMydjcXL4QzV",
        "colab": {
          "base_uri": "https://localhost:8080/",
          "height": 203
        },
        "outputId": "6ae46770-34a3-4722-ed76-e83f5ab96a5c"
      },
      "source": [
        "support.head()"
      ],
      "execution_count": null,
      "outputs": [
        {
          "output_type": "execute_result",
          "data": {
            "text/html": [
              "<div>\n",
              "<style scoped>\n",
              "    .dataframe tbody tr th:only-of-type {\n",
              "        vertical-align: middle;\n",
              "    }\n",
              "\n",
              "    .dataframe tbody tr th {\n",
              "        vertical-align: top;\n",
              "    }\n",
              "\n",
              "    .dataframe thead th {\n",
              "        text-align: right;\n",
              "    }\n",
              "</style>\n",
              "<table border=\"1\" class=\"dataframe\">\n",
              "  <thead>\n",
              "    <tr style=\"text-align: right;\">\n",
              "      <th></th>\n",
              "      <th>Name</th>\n",
              "      <th>Description</th>\n",
              "    </tr>\n",
              "  </thead>\n",
              "  <tbody>\n",
              "    <tr>\n",
              "      <th>0</th>\n",
              "      <td>Adroit Wisdom</td>\n",
              "      <td>Increases INT by 15%.</td>\n",
              "    </tr>\n",
              "    <tr>\n",
              "      <th>1</th>\n",
              "      <td>All-Rounder</td>\n",
              "      <td>Increases ATK, DEF, INT and SPD by 5%.</td>\n",
              "    </tr>\n",
              "    <tr>\n",
              "      <th>2</th>\n",
              "      <td>Analyze</td>\n",
              "      <td>Increases scan values by 10%.</td>\n",
              "    </tr>\n",
              "    <tr>\n",
              "      <th>3</th>\n",
              "      <td>Animal Colosseum</td>\n",
              "      <td>Increases damage from Earth skills by 15%.</td>\n",
              "    </tr>\n",
              "    <tr>\n",
              "      <th>4</th>\n",
              "      <td>Aus Generics</td>\n",
              "      <td>Increases SPD and EVA by 25% when HP drops bel...</td>\n",
              "    </tr>\n",
              "  </tbody>\n",
              "</table>\n",
              "</div>"
            ],
            "text/plain": [
              "               Name                                        Description\n",
              "0     Adroit Wisdom                              Increases INT by 15%.\n",
              "1       All-Rounder             Increases ATK, DEF, INT and SPD by 5%.\n",
              "2           Analyze                      Increases scan values by 10%.\n",
              "3  Animal Colosseum         Increases damage from Earth skills by 15%.\n",
              "4      Aus Generics  Increases SPD and EVA by 25% when HP drops bel..."
            ]
          },
          "metadata": {
            "tags": []
          },
          "execution_count": 23
        }
      ]
    },
    {
      "cell_type": "code",
      "metadata": {
        "id": "qQi-mOgy4QzY",
        "colab": {
          "base_uri": "https://localhost:8080/",
          "height": 369
        },
        "outputId": "701f47cb-447e-4fd4-fd93-2c13fd115a69"
      },
      "source": [
        "digimon.info()"
      ],
      "execution_count": null,
      "outputs": [
        {
          "output_type": "stream",
          "text": [
            "<class 'pandas.core.frame.DataFrame'>\n",
            "RangeIndex: 249 entries, 0 to 248\n",
            "Data columns (total 13 columns):\n",
            " #   Column      Non-Null Count  Dtype \n",
            "---  ------      --------------  ----- \n",
            " 0   Number      249 non-null    int64 \n",
            " 1   Digimon     249 non-null    object\n",
            " 2   Stage       249 non-null    object\n",
            " 3   Type        249 non-null    object\n",
            " 4   Attribute   249 non-null    object\n",
            " 5   Memory      249 non-null    int64 \n",
            " 6   EquipSlots  249 non-null    int64 \n",
            " 7   Lv50HP      249 non-null    int64 \n",
            " 8   Lv50SP      249 non-null    int64 \n",
            " 9   Lv50Atk     249 non-null    int64 \n",
            " 10  Lv50Def     249 non-null    int64 \n",
            " 11  Lv50Int     249 non-null    int64 \n",
            " 12  Lv50Spd     249 non-null    int64 \n",
            "dtypes: int64(9), object(4)\n",
            "memory usage: 25.4+ KB\n"
          ],
          "name": "stdout"
        }
      ]
    },
    {
      "cell_type": "code",
      "metadata": {
        "id": "WqngkFHi4Qzb",
        "colab": {
          "base_uri": "https://localhost:8080/",
          "height": 263
        },
        "outputId": "7a8edd76-8637-44aa-bbf7-94b3a42b3d59"
      },
      "source": [
        "move.info()"
      ],
      "execution_count": null,
      "outputs": [
        {
          "output_type": "stream",
          "text": [
            "<class 'pandas.core.frame.DataFrame'>\n",
            "RangeIndex: 387 entries, 0 to 386\n",
            "Data columns (total 7 columns):\n",
            " #   Column       Non-Null Count  Dtype \n",
            "---  ------       --------------  ----- \n",
            " 0   Move         387 non-null    object\n",
            " 1   SP Cost      387 non-null    int64 \n",
            " 2   Type         387 non-null    object\n",
            " 3   Power        387 non-null    int64 \n",
            " 4   Attribute    387 non-null    object\n",
            " 5   Inheritable  387 non-null    object\n",
            " 6   Description  387 non-null    object\n",
            "dtypes: int64(2), object(5)\n",
            "memory usage: 21.3+ KB\n"
          ],
          "name": "stdout"
        }
      ]
    },
    {
      "cell_type": "code",
      "metadata": {
        "id": "ICHkQVp94Qze",
        "colab": {
          "base_uri": "https://localhost:8080/",
          "height": 175
        },
        "outputId": "c797b465-da22-47f3-8866-f43dee9ce9bb"
      },
      "source": [
        "support.info()"
      ],
      "execution_count": null,
      "outputs": [
        {
          "output_type": "stream",
          "text": [
            "<class 'pandas.core.frame.DataFrame'>\n",
            "RangeIndex: 86 entries, 0 to 85\n",
            "Data columns (total 2 columns):\n",
            " #   Column       Non-Null Count  Dtype \n",
            "---  ------       --------------  ----- \n",
            " 0   Name         86 non-null     object\n",
            " 1   Description  86 non-null     object\n",
            "dtypes: object(2)\n",
            "memory usage: 1.5+ KB\n"
          ],
          "name": "stdout"
        }
      ]
    },
    {
      "cell_type": "markdown",
      "metadata": {
        "id": "VTutPWay4Qzg"
      },
      "source": [
        "## Stats\n",
        "Stats, because Power is Everything!! Unles you're that friend that like a Digimon just because it looks cute."
      ]
    },
    {
      "cell_type": "code",
      "metadata": {
        "id": "k0mm9cFY4Qzg",
        "colab": {
          "base_uri": "https://localhost:8080/",
          "height": 888
        },
        "outputId": "85fa81f3-58c4-4469-f340-7debbf2f616a"
      },
      "source": [
        "sns.pairplot(data=digimon[['Lv50HP', 'Lv50SP', 'Lv50Atk', 'Lv50Def', 'Lv50Int', 'Lv50Spd']])\n",
        "plt.show()"
      ],
      "execution_count": null,
      "outputs": [
        {
          "output_type": "display_data",
          "data": {
            "image/png": "[encoded data removed]",
            "text/plain": [
              "<Figure size 1080x1080 with 42 Axes>"
            ]
          },
          "metadata": {
            "tags": [],
            "needs_background": "light"
          }
        }
      ]
    },
    {
      "cell_type": "markdown",
      "metadata": {
        "id": "RTiAVwgy4Qzj"
      },
      "source": [
        "From the pairplot above we can see that, the stats of the Digimons are pretty diverse and reasonable, where it's because this plot contains all Digimon Stages (In-Training to Mega), that's why there are low overall stats and high overall stats. Most notable is on SP vs Int and makes sense because more INT = more SP."
      ]
    },
    {
      "cell_type": "markdown",
      "metadata": {
        "id": "MR0adys54Qzj"
      },
      "source": [
        "## Digimon Data"
      ]
    },
    {
      "cell_type": "code",
      "metadata": {
        "id": "K32Ed_ar4Qzj",
        "colab": {
          "base_uri": "https://localhost:8080/",
          "height": 279
        },
        "outputId": "e96b5b76-7738-4887-b8c2-ab5608340793"
      },
      "source": [
        "sns.countplot(x=digimon['Attribute'])\n",
        "plt.show()"
      ],
      "execution_count": null,
      "outputs": [
        {
          "output_type": "display_data",
          "data": {
            "image/png": "[encoded data removed]",
            "text/plain": [
              "<Figure size 432x288 with 1 Axes>"
            ]
          },
          "metadata": {
            "tags": [],
            "needs_background": "light"
          }
        }
      ]
    },
    {
      "cell_type": "markdown",
      "metadata": {
        "id": "ismwYWKC4Qzm"
      },
      "source": [
        "From the above countplot, it seems that Digimon's Attribute are dominantly Dark, followed by Fire and Light, and the rest is pretty much the same."
      ]
    },
    {
      "cell_type": "code",
      "metadata": {
        "id": "KwYD-aZ94Qzn",
        "colab": {
          "base_uri": "https://localhost:8080/",
          "height": 279
        },
        "outputId": "c2e99512-c6d4-42de-bdb5-ba6f8695f501"
      },
      "source": [
        "sns.countplot(x=digimon['Type'])\n",
        "plt.show()"
      ],
      "execution_count": null,
      "outputs": [
        {
          "output_type": "display_data",
          "data": {
            "image/png": "[encoded data removed]",
            "text/plain": [
              "<Figure size 432x288 with 1 Axes>"
            ]
          },
          "metadata": {
            "tags": [],
            "needs_background": "light"
          }
        }
      ]
    },
    {
      "cell_type": "markdown",
      "metadata": {
        "id": "lYpKSIOP4Qzp"
      },
      "source": [
        "The plot above shows that Digimon's Type is dominantly by Virus."
      ]
    },
    {
      "cell_type": "markdown",
      "metadata": {
        "id": "Wv4fElR04Qzq"
      },
      "source": [
        "##Answering Questions"
      ]
    },
    {
      "cell_type": "markdown",
      "metadata": {
        "id": "j6jmSeo94Qzq"
      },
      "source": [
        "### Which set of moves will get the best ratio of attack power to SP spent?"
      ]
    },
    {
      "cell_type": "code",
      "metadata": {
        "id": "LollC18G4Qzq"
      },
      "source": [
        "maxratio = move.copy()\n",
        "maxratio['Max Ratio'] = move.Power / move['SP Cost']"
      ],
      "execution_count": null,
      "outputs": []
    },
    {
      "cell_type": "code",
      "metadata": {
        "id": "p5N0WPwZ4Qzs",
        "colab": {
          "base_uri": "https://localhost:8080/",
          "height": 158
        },
        "outputId": "9ab0a637-00ae-4198-b9c5-4e0e488c7940"
      },
      "source": [
        "maxratio['Max Ratio'].idxmax(axis=0)\n",
        "print(move.iloc[80])"
      ],
      "execution_count": null,
      "outputs": [
        {
          "output_type": "stream",
          "text": [
            "Move                                              Heavy Strike I\n",
            "SP Cost                                                        3\n",
            "Type                                                    Physical\n",
            "Power                                                         70\n",
            "Attribute                                                Neutral\n",
            "Inheritable                                                  Yes\n",
            "Description    Physical attack, 70 Neutral damage to one foe....\n",
            "Name: 80, dtype: object\n"
          ],
          "name": "stdout"
        }
      ]
    },
    {
      "cell_type": "markdown",
      "metadata": {
        "id": "scaIy0a-4Qzu"
      },
      "source": [
        "It seems the Digimon that have the move 'Heavy Strike I' is good because it has a really efficient damage with low SP cost and somewhat good Power."
      ]
    },
    {
      "cell_type": "markdown",
      "metadata": {
        "id": "Pi6YlCfN4Qzu"
      },
      "source": [
        "### Which team of 3 digimon have the highest attack? Defense?"
      ]
    },
    {
      "cell_type": "code",
      "metadata": {
        "id": "8TY_Q3fv4Qzv",
        "colab": {
          "base_uri": "https://localhost:8080/",
          "height": 178
        },
        "outputId": "deb0759d-b437-4321-a54e-d0f2e4a05cc0"
      },
      "source": [
        "digimon.sort_values(by=['Lv50Atk'], ascending=False).head(3)"
      ],
      "execution_count": null,
      "outputs": [
        {
          "output_type": "execute_result",
          "data": {
            "text/html": [
              "<div>\n",
              "<style scoped>\n",
              "    .dataframe tbody tr th:only-of-type {\n",
              "        vertical-align: middle;\n",
              "    }\n",
              "\n",
              "    .dataframe tbody tr th {\n",
              "        vertical-align: top;\n",
              "    }\n",
              "\n",
              "    .dataframe thead th {\n",
              "        text-align: right;\n",
              "    }\n",
              "</style>\n",
              "<table border=\"1\" class=\"dataframe\">\n",
              "  <thead>\n",
              "    <tr style=\"text-align: right;\">\n",
              "      <th></th>\n",
              "      <th>Number</th>\n",
              "      <th>Digimon</th>\n",
              "      <th>Stage</th>\n",
              "      <th>Type</th>\n",
              "      <th>Attribute</th>\n",
              "      <th>Memory</th>\n",
              "      <th>EquipSlots</th>\n",
              "      <th>Lv50HP</th>\n",
              "      <th>Lv50SP</th>\n",
              "      <th>Lv50Atk</th>\n",
              "      <th>Lv50Def</th>\n",
              "      <th>Lv50Int</th>\n",
              "      <th>Lv50Spd</th>\n",
              "    </tr>\n",
              "  </thead>\n",
              "  <tbody>\n",
              "    <tr>\n",
              "      <th>243</th>\n",
              "      <td>244</td>\n",
              "      <td>Chaosmon</td>\n",
              "      <td>Ultra</td>\n",
              "      <td>Vaccine</td>\n",
              "      <td>Neutral</td>\n",
              "      <td>25</td>\n",
              "      <td>2</td>\n",
              "      <td>1080</td>\n",
              "      <td>129</td>\n",
              "      <td>318</td>\n",
              "      <td>94</td>\n",
              "      <td>89</td>\n",
              "      <td>188</td>\n",
              "    </tr>\n",
              "    <tr>\n",
              "      <th>235</th>\n",
              "      <td>236</td>\n",
              "      <td>Belphemon RM</td>\n",
              "      <td>Ultra</td>\n",
              "      <td>Virus</td>\n",
              "      <td>Dark</td>\n",
              "      <td>25</td>\n",
              "      <td>0</td>\n",
              "      <td>1780</td>\n",
              "      <td>84</td>\n",
              "      <td>247</td>\n",
              "      <td>168</td>\n",
              "      <td>109</td>\n",
              "      <td>140</td>\n",
              "    </tr>\n",
              "    <tr>\n",
              "      <th>195</th>\n",
              "      <td>196</td>\n",
              "      <td>Diaboromon</td>\n",
              "      <td>Mega</td>\n",
              "      <td>Free</td>\n",
              "      <td>Dark</td>\n",
              "      <td>20</td>\n",
              "      <td>2</td>\n",
              "      <td>1680</td>\n",
              "      <td>114</td>\n",
              "      <td>243</td>\n",
              "      <td>104</td>\n",
              "      <td>79</td>\n",
              "      <td>173</td>\n",
              "    </tr>\n",
              "  </tbody>\n",
              "</table>\n",
              "</div>"
            ],
            "text/plain": [
              "     Number       Digimon  Stage     Type  ... Lv50Atk  Lv50Def  Lv50Int  Lv50Spd\n",
              "243     244      Chaosmon  Ultra  Vaccine  ...     318       94       89      188\n",
              "235     236  Belphemon RM  Ultra    Virus  ...     247      168      109      140\n",
              "195     196    Diaboromon   Mega     Free  ...     243      104       79      173\n",
              "\n",
              "[3 rows x 13 columns]"
            ]
          },
          "metadata": {
            "tags": []
          },
          "execution_count": 104
        }
      ]
    },
    {
      "cell_type": "code",
      "metadata": {
        "id": "QYb8A_QQ4Qzx",
        "colab": {
          "base_uri": "https://localhost:8080/",
          "height": 161
        },
        "outputId": "a14997d1-134e-4ae6-d3cc-c5943492147a"
      },
      "source": [
        "digimon.sort_values(by=['Lv50Def'], ascending=False).head(3)"
      ],
      "execution_count": null,
      "outputs": [
        {
          "output_type": "execute_result",
          "data": {
            "text/html": [
              "<div>\n",
              "<style scoped>\n",
              "    .dataframe tbody tr th:only-of-type {\n",
              "        vertical-align: middle;\n",
              "    }\n",
              "\n",
              "    .dataframe tbody tr th {\n",
              "        vertical-align: top;\n",
              "    }\n",
              "\n",
              "    .dataframe thead th {\n",
              "        text-align: right;\n",
              "    }\n",
              "</style>\n",
              "<table border=\"1\" class=\"dataframe\">\n",
              "  <thead>\n",
              "    <tr style=\"text-align: right;\">\n",
              "      <th></th>\n",
              "      <th>Number</th>\n",
              "      <th>Digimon</th>\n",
              "      <th>Stage</th>\n",
              "      <th>Type</th>\n",
              "      <th>Attribute</th>\n",
              "      <th>Memory</th>\n",
              "      <th>EquipSlots</th>\n",
              "      <th>Lv50HP</th>\n",
              "      <th>Lv50SP</th>\n",
              "      <th>Lv50Atk</th>\n",
              "      <th>Lv50Def</th>\n",
              "      <th>Lv50Int</th>\n",
              "      <th>Lv50Spd</th>\n",
              "    </tr>\n",
              "  </thead>\n",
              "  <tbody>\n",
              "    <tr>\n",
              "      <th>181</th>\n",
              "      <td>182</td>\n",
              "      <td>GroundLocomon</td>\n",
              "      <td>Mega</td>\n",
              "      <td>Data</td>\n",
              "      <td>Electric</td>\n",
              "      <td>18</td>\n",
              "      <td>3</td>\n",
              "      <td>1140</td>\n",
              "      <td>114</td>\n",
              "      <td>144</td>\n",
              "      <td>213</td>\n",
              "      <td>133</td>\n",
              "      <td>128</td>\n",
              "    </tr>\n",
              "    <tr>\n",
              "      <th>182</th>\n",
              "      <td>183</td>\n",
              "      <td>Craniamon</td>\n",
              "      <td>Mega</td>\n",
              "      <td>Vaccine</td>\n",
              "      <td>Earth</td>\n",
              "      <td>22</td>\n",
              "      <td>1</td>\n",
              "      <td>1630</td>\n",
              "      <td>143</td>\n",
              "      <td>124</td>\n",
              "      <td>208</td>\n",
              "      <td>134</td>\n",
              "      <td>124</td>\n",
              "    </tr>\n",
              "    <tr>\n",
              "      <th>238</th>\n",
              "      <td>239</td>\n",
              "      <td>Magnamon</td>\n",
              "      <td>Armor</td>\n",
              "      <td>Free</td>\n",
              "      <td>Earth</td>\n",
              "      <td>22</td>\n",
              "      <td>2</td>\n",
              "      <td>1240</td>\n",
              "      <td>124</td>\n",
              "      <td>168</td>\n",
              "      <td>208</td>\n",
              "      <td>148</td>\n",
              "      <td>124</td>\n",
              "    </tr>\n",
              "  </tbody>\n",
              "</table>\n",
              "</div>"
            ],
            "text/plain": [
              "     Number        Digimon  Stage     Type  ... Lv50Atk  Lv50Def  Lv50Int  Lv50Spd\n",
              "181     182  GroundLocomon   Mega     Data  ...     144      213      133      128\n",
              "182     183      Craniamon   Mega  Vaccine  ...     124      208      134      124\n",
              "238     239       Magnamon  Armor     Free  ...     168      208      148      124\n",
              "\n",
              "[3 rows x 13 columns]"
            ]
          },
          "metadata": {
            "tags": []
          },
          "execution_count": 105
        }
      ]
    },
    {
      "cell_type": "markdown",
      "metadata": {
        "id": "W3aFbodf4Qzz"
      },
      "source": [
        "### Are some types over- or under-represented?"
      ]
    },
    {
      "cell_type": "code",
      "metadata": {
        "id": "_w9NboU54Qz0",
        "colab": {
          "base_uri": "https://localhost:8080/",
          "height": 279
        },
        "outputId": "3adeaa26-12f8-488a-cf33-183b0d37dbea"
      },
      "source": [
        "sns.countplot(x=digimon['Type'])\n",
        "plt.show()"
      ],
      "execution_count": null,
      "outputs": [
        {
          "output_type": "display_data",
          "data": {
            "image/png": "[encoded data removed]",
            "text/plain": [
              "<Figure size 432x288 with 1 Axes>"
            ]
          },
          "metadata": {
            "tags": [],
            "needs_background": "light"
          }
        }
      ]
    },
    {
      "cell_type": "markdown",
      "metadata": {
        "id": "Ppp3a55X4Qz3"
      },
      "source": [
        "This question got answered above when plotting the Digimon's Types, as seen in the plot the Virus-type Digimon is over-represented and the Free-type Digimon is under-represented. Also please give more love to Data-type Digimon :("
      ]
    },
    {
      "cell_type": "markdown",
      "metadata": {
        "id": "ITfF98564Qz3"
      },
      "source": [
        "### Are different types and attributes evenly represented across stages?"
      ]
    },
    {
      "cell_type": "code",
      "metadata": {
        "id": "fu9aRAcx4Qz4",
        "colab": {
          "base_uri": "https://localhost:8080/",
          "height": 279
        },
        "outputId": "349804ff-6f90-4317-bc92-19a761044906"
      },
      "source": [
        "plt.figure(figsize=(12,4))\n",
        "sns.countplot(hue=digimon['Type'], x=digimon['Stage'])\n",
        "plt.show()"
      ],
      "execution_count": null,
      "outputs": [
        {
          "output_type": "display_data",
          "data": {
            "image/png": "[encoded data removed]",
            "text/plain": [
              "<Figure size 864x288 with 1 Axes>"
            ]
          },
          "metadata": {
            "tags": [],
            "needs_background": "light"
          }
        }
      ]
    },
    {
      "cell_type": "markdown",
      "metadata": {
        "id": "b_ibOcpR4Qz5"
      },
      "source": [
        "From the chart above, Digimon Types are not really evenly represented across stages. Digimon's type started as Free-type in Baby and In-Training stages, then as they reached their Rookie stage, they branches evenly towards the other types, with only some Digimon retaining their Free-type. As they keep growing to other higher stages (besides Ultra and Armor stage, as they are special stage), the Digimon's type tends to be more of a Virus-type."
      ]
    },
    {
      "cell_type": "code",
      "metadata": {
        "id": "Jnkmtuor4Qz6",
        "colab": {
          "base_uri": "https://localhost:8080/",
          "height": 437
        },
        "outputId": "31f1b8bd-56a4-47f4-bb04-fb5870d8178f"
      },
      "source": [
        "plt.figure(figsize=(15,8))\n",
        "sns.countplot(hue=digimon['Attribute'], x=digimon['Stage'])\n",
        "plt.legend(bbox_to_anchor=(1.05, 1), loc='upper left', borderaxespad=0.)\n",
        "plt.show()"
      ],
      "execution_count": null,
      "outputs": [
        {
          "output_type": "display_data",
          "data": {
            "image/png": "[encoded data removed]",
            "text/plain": [
              "<Figure size 1080x576 with 1 Axes>"
            ]
          },
          "metadata": {
            "tags": [],
            "needs_background": "light"
          }
        }
      ]
    },
    {
      "cell_type": "markdown",
      "metadata": {
        "id": "YT6wRqO04Qz8"
      },
      "source": [
        "Yikes, that's a heavy chart. The Rookie and Champion stage are Fire-type dominated, and Ultimate and Mega stage are Dark-type dominated. It's not evenly represented"
      ]
    }
  ]
}